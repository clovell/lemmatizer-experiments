{
 "cells": [
  {
   "cell_type": "code",
   "execution_count": 1,
   "metadata": {},
   "outputs": [],
   "source": [
    "# # Install treetaggerwrapper\n",
    "\n",
    "# !pipenv install treetaggerwrapper\n",
    "\n",
    "# # See docs for more information:\n",
    "# # http://treetaggerwrapper.readthedocs.io/en/latest/#installation\n",
    "#\n",
    "# #Some installation help for treetagger at the bottom of this notebook"
   ]
  },
  {
   "cell_type": "markdown",
   "metadata": {},
   "source": [
    "## Working with *treetaggerwrapper*"
   ]
  },
  {
   "cell_type": "code",
   "execution_count": 2,
   "metadata": {},
   "outputs": [],
   "source": [
    "# Imports\n",
    "\n",
    "import treetaggerwrapper\n",
    "\n",
    "from pprint import pprint"
   ]
  },
  {
   "cell_type": "code",
   "execution_count": 3,
   "metadata": {},
   "outputs": [],
   "source": [
    "# Create Latin tagger\n",
    "\n",
    "tagger = treetaggerwrapper.TreeTagger(TAGLANG='la')"
   ]
  },
  {
   "cell_type": "code",
   "execution_count": 4,
   "metadata": {},
   "outputs": [],
   "source": [
    "# Set up test text\n",
    "\n",
    "# Sall. Bell. Cat. 1\n",
    "text = \"\"\"Omnis homines, qui sese student praestare ceteris animalibus, summa ope niti decet, ne vitam silentio transeant veluti pecora, quae natura prona atque ventri oboedientia finxit. Sed nostra omnis vis in animo et corpore sita est: animi imperio, corporis servitio magis utimur; alterum nobis cum dis, alterum cum beluis commune est. Quo mihi rectius videtur ingeni quam virium opibus gloriam quaerere et, quoniam vita ipsa, qua fruimur, brevis est, memoriam nostri quam maxume longam efficere. Nam divitiarum et formae gloria fluxa atque fragilis est, virtus clara aeternaque habetur. Sed diu magnum inter mortalis certamen fuit, vine corporis an virtute animi res militaris magis procederet. Nam et, prius quam incipias, consulto et, ubi consulueris, mature facto opus est. Ita utrumque per se indigens alterum alterius auxilio eget.\n",
    "\"\"\""
   ]
  },
  {
   "cell_type": "code",
   "execution_count": 5,
   "metadata": {},
   "outputs": [
    {
     "name": "stdout",
     "output_type": "stream",
     "text": [
      "Tagging 125 tokens...\n",
      "CPU times: user 12.8 ms, sys: 9.63 ms, total: 22.4 ms\n",
      "Wall time: 2.62 s\n"
     ]
    }
   ],
   "source": [
    "%%time\n",
    "\n",
    "# Tag with treetagger\n",
    "\n",
    "print(f'Tagging {len(text.split())} tokens...')\n",
    "tags = tagger.tag_text(text)"
   ]
  },
  {
   "cell_type": "code",
   "execution_count": 6,
   "metadata": {},
   "outputs": [
    {
     "name": "stdout",
     "output_type": "stream",
     "text": [
      "['Omnis\\tPRON\\tomnis',\n",
      " 'homines\\tN:nom\\thomo',\n",
      " ',\\tPUN\\t,',\n",
      " 'qui\\tREL\\tqui',\n",
      " 'sese\\tPRON\\tsui',\n",
      " 'student\\tV:IND\\tstudeo',\n",
      " 'praestare\\tV:INF\\tpraesto',\n",
      " 'ceteris\\tADJ:abl\\tceterus',\n",
      " 'animalibus\\tN:abl\\tanimal|animalis',\n",
      " ',\\tPUN\\t,']\n"
     ]
    }
   ],
   "source": [
    "# View output from tagger\n",
    "\n",
    "pprint(tags[:10])"
   ]
  },
  {
   "cell_type": "code",
   "execution_count": 7,
   "metadata": {},
   "outputs": [
    {
     "name": "stdout",
     "output_type": "stream",
     "text": [
      "['Omnis', 'PRON', 'omnis']\n",
      "['homines', 'N:nom', 'homo']\n",
      "[',', 'PUN', ',']\n",
      "['qui', 'REL', 'qui']\n",
      "['sese', 'PRON', 'sui']\n",
      "['student', 'V:IND', 'studeo']\n",
      "['praestare', 'V:INF', 'praesto']\n",
      "['ceteris', 'ADJ:abl', 'ceterus']\n",
      "['animalibus', 'N:abl', 'animal|animalis']\n",
      "[',', 'PUN', ',']\n"
     ]
    }
   ],
   "source": [
    "# View output from tagger, delimited by tab\n",
    "\n",
    "for tag in tags[:10]:\n",
    "    print(tag.split('\\t'))"
   ]
  },
  {
   "cell_type": "code",
   "execution_count": 8,
   "metadata": {},
   "outputs": [
    {
     "name": "stdout",
     "output_type": "stream",
     "text": [
      "[Tag(word='Omnis', pos='PRON', lemma='omnis'),\n",
      " Tag(word='homines', pos='N:nom', lemma='homo'),\n",
      " Tag(word=',', pos='PUN', lemma=','),\n",
      " Tag(word='qui', pos='REL', lemma='qui'),\n",
      " Tag(word='sese', pos='PRON', lemma='sui'),\n",
      " Tag(word='student', pos='V:IND', lemma='studeo'),\n",
      " Tag(word='praestare', pos='V:INF', lemma='praesto'),\n",
      " Tag(word='ceteris', pos='ADJ:abl', lemma='ceterus'),\n",
      " Tag(word='animalibus', pos='N:abl', lemma='animal|animalis'),\n",
      " Tag(word=',', pos='PUN', lemma=',')]\n"
     ]
    }
   ],
   "source": [
    "# Format output from tagger as tuples\n",
    "\n",
    "tags_tuples = treetaggerwrapper.make_tags(tags)\n",
    "pprint(tags_tuples[:10])"
   ]
  },
  {
   "cell_type": "code",
   "execution_count": 9,
   "metadata": {},
   "outputs": [
    {
     "name": "stdout",
     "output_type": "stream",
     "text": [
      "[Tag(word='Omnis', pos='PRON', lemma='omnis'),\n",
      " Tag(word='homines', pos='N:nom', lemma='homo'),\n",
      " Tag(word=',', pos='PUN', lemma=','),\n",
      " Tag(word='qui', pos='REL', lemma='qui'),\n",
      " Tag(word='sese', pos='PRON', lemma='sui'),\n",
      " Tag(word='student', pos='V:IND', lemma='studeo'),\n",
      " Tag(word='praestare', pos='V:INF', lemma='praesto'),\n",
      " Tag(word='ceteris', pos='ADJ:abl', lemma='ceterus'),\n",
      " Tag(word='animalibus', pos='N:abl', lemma='animal|animalis'),\n",
      " Tag(word=',', pos='PUN', lemma=','),\n",
      " Tag(word='summa', pos='ADJ:abl', lemma='summus'),\n",
      " Tag(word='ope', pos='N:abl', lemma='ops'),\n",
      " Tag(word='niti', pos='V:INF', lemma='nitor'),\n",
      " Tag(word='decet', pos='V:IND', lemma='decet'),\n",
      " Tag(word=',', pos='PUN', lemma=','),\n",
      " Tag(word='ne', pos='CS', lemma='ne'),\n",
      " Tag(word='vitam', pos='N:acc', lemma='vita'),\n",
      " Tag(word='silentio', pos='N:abl', lemma='silentium'),\n",
      " Tag(word='transeant', pos='V:SUB', lemma='transeo'),\n",
      " Tag(word='veluti', pos='ADV', lemma='veluti'),\n",
      " Tag(word='pecora', pos='N:acc', lemma='pecus'),\n",
      " Tag(word=',', pos='PUN', lemma=','),\n",
      " Tag(word='quae', pos='REL', lemma='qui'),\n",
      " Tag(word='natura', pos='N:nom', lemma='natura'),\n",
      " Tag(word='prona', pos='ADJ', lemma='pronus'),\n",
      " Tag(word='atque', pos='CC', lemma='atque'),\n",
      " Tag(word='ventri', pos='N:dat', lemma='venter'),\n",
      " Tag(word='oboedientia', pos='V:PTC:acc', lemma='oboedio'),\n",
      " Tag(word='finxit', pos='V:IND', lemma='fingo'),\n",
      " Tag(word='.', pos='SENT', lemma='.'),\n",
      " Tag(word='Sed', pos='CC', lemma='sed'),\n",
      " Tag(word='nostra', pos='POSS', lemma='noster'),\n",
      " Tag(word='omnis', pos='PRON', lemma='omnis'),\n",
      " Tag(word='vis', pos='V:IND', lemma='vis'),\n",
      " Tag(word='in', pos='PREP', lemma='in'),\n",
      " Tag(word='animo', pos='N:abl', lemma='animus'),\n",
      " Tag(word='et', pos='CC', lemma='et'),\n",
      " Tag(word='corpore', pos='N:abl', lemma='corpus'),\n",
      " Tag(word='sita', pos='V:PTC:nom', lemma='sino'),\n",
      " Tag(word='est', pos='ESSE:IND', lemma='sum'),\n",
      " Tag(word=':', pos='SENT', lemma=':'),\n",
      " Tag(word='animi', pos='N:gen', lemma='animus'),\n",
      " Tag(word='imperio', pos='N:abl', lemma='imperium'),\n",
      " Tag(word=',', pos='PUN', lemma=','),\n",
      " Tag(word='corporis', pos='N:gen', lemma='corpus'),\n",
      " Tag(word='servitio', pos='N:abl', lemma='servitium'),\n",
      " Tag(word='magis', pos='ADV', lemma='magis'),\n",
      " Tag(word='utimur', pos='V:IND', lemma='utor'),\n",
      " Tag(word=';', pos='SENT', lemma=';'),\n",
      " Tag(word='alterum', pos='ADJ', lemma='alter'),\n",
      " Tag(word='nobis', pos='PRON', lemma='nos'),\n",
      " Tag(word='cum', pos='PREP', lemma='cum'),\n",
      " Tag(word='dis', pos='N:abl', lemma='deus'),\n",
      " Tag(word=',', pos='PUN', lemma=','),\n",
      " Tag(word='alterum', pos='ADJ', lemma='alter'),\n",
      " Tag(word='cum', pos='PREP', lemma='cum'),\n",
      " Tag(word='beluis', pos='N:abl', lemma='belua'),\n",
      " Tag(word='commune', pos='ADJ', lemma='communis'),\n",
      " Tag(word='est', pos='ESSE:IND', lemma='sum'),\n",
      " Tag(word='.', pos='SENT', lemma='.'),\n",
      " Tag(word='Quo', pos='REL', lemma='qui'),\n",
      " Tag(word='mihi', pos='PRON', lemma='ego'),\n",
      " Tag(word='rectius', pos='ADJ:COM', lemma='rectus'),\n",
      " Tag(word='videtur', pos='V:IND', lemma='video'),\n",
      " Tag(word='ingeni', pos='V:INF', lemma='ingeno'),\n",
      " Tag(word='quam', pos='REL', lemma='qui'),\n",
      " Tag(word='virium', pos='N:gen', lemma='vis'),\n",
      " Tag(word='opibus', pos='N:abl', lemma='ops'),\n",
      " Tag(word='gloriam', pos='N:acc', lemma='gloria'),\n",
      " Tag(word='quaerere', pos='V:INF', lemma='quaero'),\n",
      " Tag(word='et', pos='CC', lemma='et'),\n",
      " Tag(word=',', pos='PUN', lemma=','),\n",
      " Tag(word='quoniam', pos='CS', lemma='quoniam'),\n",
      " Tag(word='vita', pos='N:nom', lemma='vita'),\n",
      " Tag(word='ipsa', pos='DET', lemma='ipse'),\n",
      " Tag(word=',', pos='PUN', lemma=','),\n",
      " Tag(word='qua', pos='REL', lemma='qui'),\n",
      " Tag(word='fruimur', pos='V:IND', lemma='fruor'),\n",
      " Tag(word=',', pos='PUN', lemma=','),\n",
      " Tag(word='brevis', pos='ADJ', lemma='brevis'),\n",
      " Tag(word='est', pos='ESSE:IND', lemma='sum'),\n",
      " Tag(word=',', pos='PUN', lemma=','),\n",
      " Tag(word='memoriam', pos='N:acc', lemma='memoria'),\n",
      " Tag(word='nostri', pos='POSS', lemma='noster'),\n",
      " Tag(word='quam', pos='REL', lemma='qui'),\n",
      " Tag(word='maxume', pos='ADV', lemma='maxume'),\n",
      " Tag(word='longam', pos='ADJ', lemma='longus'),\n",
      " Tag(word='efficere', pos='V:INF', lemma='efficio'),\n",
      " Tag(word='.', pos='SENT', lemma='.'),\n",
      " Tag(word='Nam', pos='CC', lemma='nam'),\n",
      " Tag(word='divitiarum', pos='N:gen', lemma='divitia'),\n",
      " Tag(word='et', pos='CC', lemma='et'),\n",
      " Tag(word='formae', pos='N:gen', lemma='forma'),\n",
      " Tag(word='gloria', pos='N:nom', lemma='gloria'),\n",
      " Tag(word='fluxa', pos='V:PTC:nom', lemma='fluo'),\n",
      " Tag(word='atque', pos='CC', lemma='atque'),\n",
      " Tag(word='fragilis', pos='ADJ', lemma='fragilis'),\n",
      " Tag(word='est', pos='ESSE:IND', lemma='sum'),\n",
      " Tag(word=',', pos='PUN', lemma=','),\n",
      " Tag(word='virtus', pos='N:nom', lemma='virtus'),\n",
      " Tag(word='clara', pos='ADJ', lemma='clarus'),\n",
      " Tag(word='aeternaque', pos='ADJ', lemma='aeternaque'),\n",
      " Tag(word='habetur', pos='V:IND', lemma='habeo'),\n",
      " Tag(word='.', pos='SENT', lemma='.'),\n",
      " Tag(word='Sed', pos='CC', lemma='sed'),\n",
      " Tag(word='diu', pos='ADV', lemma='diu'),\n",
      " Tag(word='magnum', pos='ADJ', lemma='magnus'),\n",
      " Tag(word='inter', pos='PREP', lemma='inter'),\n",
      " Tag(word='mortalis', pos='ADJ', lemma='mortalis'),\n",
      " Tag(word='certamen', pos='N:nom', lemma='certamen'),\n",
      " Tag(word='fuit', pos='ESSE:IND', lemma='sum'),\n",
      " Tag(word=',', pos='PUN', lemma=','),\n",
      " Tag(word='vine', pos='N:abl', lemma='vis'),\n",
      " Tag(word='corporis', pos='N:gen', lemma='corpus'),\n",
      " Tag(word='an', pos='CC', lemma='an'),\n",
      " Tag(word='virtute', pos='N:abl', lemma='virtus'),\n",
      " Tag(word='animi', pos='N:gen', lemma='animus'),\n",
      " Tag(word='res', pos='N:nom', lemma='res'),\n",
      " Tag(word='militaris', pos='ADJ', lemma='militaris'),\n",
      " Tag(word='magis', pos='ADV', lemma='magis'),\n",
      " Tag(word='procederet', pos='V:SUB', lemma='procedo'),\n",
      " Tag(word='.', pos='SENT', lemma='.'),\n",
      " Tag(word='Nam', pos='CC', lemma='nam'),\n",
      " Tag(word='et', pos='CC', lemma='et'),\n",
      " Tag(word=',', pos='PUN', lemma=','),\n",
      " Tag(word='prius', pos='ADV', lemma='prius'),\n",
      " Tag(word='quam', pos='REL', lemma='qui'),\n",
      " Tag(word='incipias', pos='V:SUB', lemma='incipio'),\n",
      " Tag(word=',', pos='PUN', lemma=','),\n",
      " Tag(word='consulto', pos='N:dat', lemma='consultum|consultus'),\n",
      " Tag(word='et', pos='CC', lemma='et'),\n",
      " Tag(word=',', pos='PUN', lemma=','),\n",
      " Tag(word='ubi', pos='CS', lemma='ubi'),\n",
      " Tag(word='consulueris', pos='V:SUB', lemma='consulo'),\n",
      " Tag(word=',', pos='PUN', lemma=','),\n",
      " Tag(word='mature', pos='ADV', lemma='mature'),\n",
      " Tag(word='facto', pos='V:PTC:abl', lemma='facio|fio'),\n",
      " Tag(word='opus', pos='N:nom', lemma='opus'),\n",
      " Tag(word='est', pos='ESSE:IND', lemma='sum'),\n",
      " Tag(word='.', pos='SENT', lemma='.'),\n",
      " Tag(word='Ita', pos='ADV', lemma='ita'),\n",
      " Tag(word='utrumque', pos='PRON', lemma='uterque'),\n",
      " Tag(word='per', pos='PREP', lemma='per'),\n",
      " Tag(word='se', pos='PRON', lemma='se'),\n",
      " Tag(word='indigens', pos='V:PTC:nom', lemma='indigeo'),\n",
      " Tag(word='alterum', pos='ADJ', lemma='alter'),\n",
      " Tag(word='alterius', pos='ADJ', lemma='alter'),\n",
      " Tag(word='auxilio', pos='N:dat', lemma='auxilium'),\n",
      " Tag(word='eget', pos='V:IND', lemma='egeo'),\n",
      " Tag(word='.', pos='SENT', lemma='.')]\n"
     ]
    }
   ],
   "source": [
    "pprint(tags_tuples)"
   ]
  },
  {
   "cell_type": "code",
   "execution_count": 10,
   "metadata": {},
   "outputs": [
    {
     "name": "stdout",
     "output_type": "stream",
     "text": [
      "[('Omnis', 'omnis'),\n",
      " ('homines', 'homo'),\n",
      " (',', ','),\n",
      " ('qui', 'qui'),\n",
      " ('sese', 'sui'),\n",
      " ('student', 'studeo'),\n",
      " ('praestare', 'praesto'),\n",
      " ('ceteris', 'ceterus'),\n",
      " ('animalibus', 'animal|animalis'),\n",
      " (',', ',')]\n"
     ]
    }
   ],
   "source": [
    "# Format output as (token, lemma)\n",
    "\n",
    "lemma_pairs = [(token, lemma) for token, _, lemma in tags_tuples]\n",
    "pprint(lemma_pairs[:10])"
   ]
  },
  {
   "cell_type": "markdown",
   "metadata": {},
   "source": [
    "## Working with *treetagger-python*"
   ]
  },
  {
   "cell_type": "code",
   "execution_count": 11,
   "metadata": {},
   "outputs": [],
   "source": [
    "# # Install treetagger-python\n",
    "\n",
    "\n",
    "# # Working off a fork of treetagger-python since the main package does not yet support 'latin'\n",
    "\n",
    "# !pipenv install git+https://github.com/diyclassics/treetagger-python.git@latin#egg=treetagger-python\n",
    "\n",
    "# # Also, add to .bash_profile (vel sim):\n",
    "# # export TREETAGGER_HOME='/path/to/your/TreeTagger/cmd/'\n",
    "\n",
    "# # See docs for more information:\n",
    "# # https://github.com/miotto/treetagger-python\n",
    "\n",
    "# # Some installation help for treetagger at the bottom of this notebook"
   ]
  },
  {
   "cell_type": "code",
   "execution_count": 12,
   "metadata": {},
   "outputs": [],
   "source": [
    "# Imports\n",
    "\n",
    "from treetagger import TreeTagger"
   ]
  },
  {
   "cell_type": "code",
   "execution_count": 13,
   "metadata": {},
   "outputs": [],
   "source": [
    "# Create Latin tagger\n",
    "\n",
    "tagger = TreeTagger(language='latin')"
   ]
  },
  {
   "cell_type": "code",
   "execution_count": 14,
   "metadata": {},
   "outputs": [
    {
     "name": "stdout",
     "output_type": "stream",
     "text": [
      "Tagging 125 tokens...\n",
      "CPU times: user 5.31 ms, sys: 8.64 ms, total: 14 ms\n",
      "Wall time: 2.6 s\n"
     ]
    }
   ],
   "source": [
    "%%time\n",
    "\n",
    "# Tag with treetagger-python\n",
    "\n",
    "print(f'Tagging {len(text.split())} tokens...')\n",
    "tags_list = tagger.tag(text)"
   ]
  },
  {
   "cell_type": "code",
   "execution_count": 15,
   "metadata": {},
   "outputs": [
    {
     "name": "stdout",
     "output_type": "stream",
     "text": [
      "[['Omnis', 'PRON', 'omnis'],\n",
      " ['homines', 'N:nom', 'homo'],\n",
      " [',', 'PUN', ','],\n",
      " ['qui', 'REL', 'qui'],\n",
      " ['sese', 'PRON', 'sui'],\n",
      " ['student', 'V:IND', 'studeo'],\n",
      " ['praestare', 'V:INF', 'praesto'],\n",
      " ['ceteris', 'ADJ:abl', 'ceterus'],\n",
      " ['animalibus', 'N:abl', 'animal|animalis'],\n",
      " [',', 'PUN', ',']]\n"
     ]
    }
   ],
   "source": [
    "pprint(tags_list[:10])"
   ]
  },
  {
   "cell_type": "code",
   "execution_count": 16,
   "metadata": {},
   "outputs": [],
   "source": [
    "# Make a lemma pair list for treetagger-python output\n",
    "\n",
    "lemma_pairs_2 = [(token, lemma) for token, _, lemma in tags_list]"
   ]
  },
  {
   "cell_type": "code",
   "execution_count": 17,
   "metadata": {},
   "outputs": [
    {
     "name": "stdout",
     "output_type": "stream",
     "text": [
      "('aeternaque', 'aeternaque') ('aeternaque', '<unknown>')\n"
     ]
    }
   ],
   "source": [
    "# Compare output\n",
    "\n",
    "for i, pair in enumerate(lemma_pairs):\n",
    "    if pair != lemma_pairs_2[i]:\n",
    "        print(pair, lemma_pairs_2[i])"
   ]
  },
  {
   "cell_type": "code",
   "execution_count": 18,
   "metadata": {},
   "outputs": [
    {
     "data": {
      "text/plain": [
       "True"
      ]
     },
     "execution_count": 18,
     "metadata": {},
     "output_type": "execute_result"
    }
   ],
   "source": [
    "# Create Latin tagger to return '<unknown>'\n",
    "\n",
    "tagger = treetaggerwrapper.TreeTagger(TAGLANG='la', TAGOPT='-token -lemma -sgml -quiet')\n",
    "tags = tagger.tag_text(text)\n",
    "tags_tuples = treetaggerwrapper.make_tags(tags)\n",
    "lemma_pairs = [(token, lemma) for token, _, lemma in tags_tuples]\n",
    "lemma_pairs == lemma_pairs_2"
   ]
  },
  {
   "cell_type": "markdown",
   "metadata": {},
   "source": []
  }
 ],
 "metadata": {
  "kernelspec": {
   "display_name": "Python 3",
   "language": "python",
   "name": "python3"
  },
  "language_info": {
   "codemirror_mode": {
    "name": "ipython",
    "version": 3
   },
   "file_extension": ".py",
   "mimetype": "text/x-python",
   "name": "python",
   "nbconvert_exporter": "python",
   "pygments_lexer": "ipython3",
   "version": "3.6.5"
  }
 },
 "nbformat": 4,
 "nbformat_minor": 2
}
