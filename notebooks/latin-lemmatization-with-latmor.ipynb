{
 "cells": [
  {
   "cell_type": "markdown",
   "metadata": {},
   "source": [
    "# Latin Lemmatization with LatMor"
   ]
  },
  {
   "cell_type": "markdown",
   "metadata": {},
   "source": [
    "!!! WRITE NEW POST !!!! This is the first installment in series of posts/notebooks on Latin lemmatization that will cover: 1. introductions to existing options for Latin lemmatization (esp. those available for Python); 2. comparisons/benchmarks for existing lemmatizers; and 3. development notes on the [CLTK Latin Backoff Lemmatizer](https://disiectamembra.wordpress.com/2016/08/23/wrapping-up-google-summer-of-code/) and related projects\n",
    "\n",
    "[TreeTagger](http://www.cis.uni-muenchen.de/~schmid/tools/TreeTagger/) is a probabilistic, decision tree-based part-of-speech tagger written by Helmut Schmid in 1994. It is described in this [paper](http://www.cis.uni-muenchen.de/~schmid/tools/TreeTagger/data/tree-tagger2.pdf). Though originally written for German tagging, parameter files have since been written for a number of languages including Latin. This notebook uses G. Brandolini's parameter file which is based on a [number of sources for Latin lexical and morphological data](http://www.cis.uni-muenchen.de/~schmid/tools/TreeTagger/data/Latin-parameter-file-readme): PROIEL data, Perseus data, Index Thomisticus data and Whitaker's Words.\n",
    "\n",
    "Lemmatization is a by-product of TreeTagger's pos-tagging, but a useful one. It runs quickly, performs well, and has two Python wrappers (shown below). This notebook introduces the two Python wrappers—*treetaggerwrapper* and *treetagger-python*—and gives example workflows and some execution time information. The last section of this post offers assistance with installation and configuration of TreeTagger for OSX. \\[PJB 5.4.18]"
   ]
  },
  {
   "cell_type": "code",
   "execution_count": 1,
   "metadata": {},
   "outputs": [],
   "source": [
    "# # Install LatMor\n",
    "\n",
    "# # Installation information at XXX. See last cell for more information."
   ]
  },
  {
   "cell_type": "code",
   "execution_count": 128,
   "metadata": {},
   "outputs": [],
   "source": [
    "# Imports\n",
    "\n",
    "import re\n",
    "import subprocess\n",
    "\n",
    "from collections import Counter\n",
    "\n",
    "from cltk.tokenize.word import WordTokenizer\n",
    "\n",
    "from pprint import pprint"
   ]
  },
  {
   "cell_type": "code",
   "execution_count": 129,
   "metadata": {},
   "outputs": [],
   "source": [
    "# Create instances of CLTK tools\n",
    "\n",
    "tokenizer = WordTokenizer('latin')"
   ]
  },
  {
   "cell_type": "markdown",
   "metadata": {},
   "source": [
    "## Working with *LatMor* and jupyter bash"
   ]
  },
  {
   "cell_type": "code",
   "execution_count": 72,
   "metadata": {},
   "outputs": [
    {
     "name": "stdout",
     "output_type": "stream",
     "text": [
      "['reading transducer from file \"/usr/local/bin/latmor/latmor.a\"...', 'finished.', '> laudat', 'laudare<V><pres><ind><active><sg><3>']\n"
     ]
    }
   ],
   "source": [
    "test = 'laudat'\n",
    "cmd = f'echo {test} | fst-infl /usr/local/bin/latmor/latmor.a'\n",
    "result = !$cmd\n",
    "\n",
    "print(result)"
   ]
  },
  {
   "cell_type": "code",
   "execution_count": 73,
   "metadata": {},
   "outputs": [
    {
     "name": "stdout",
     "output_type": "stream",
     "text": [
      "laudare<V><pres><ind><active><sg><3>\n"
     ]
    }
   ],
   "source": [
    "print(result[-1])"
   ]
  },
  {
   "cell_type": "code",
   "execution_count": 74,
   "metadata": {},
   "outputs": [
    {
     "name": "stdout",
     "output_type": "stream",
     "text": [
      "laudare\n"
     ]
    }
   ],
   "source": [
    "m = re.search('(.+?)<', result[-1])\n",
    "print(m.group(1))"
   ]
  },
  {
   "cell_type": "code",
   "execution_count": 92,
   "metadata": {},
   "outputs": [
    {
     "name": "stdout",
     "output_type": "stream",
     "text": [
      "['reading transducer from file \"/usr/local/bin/latmor/latmor.a\"...',\n",
      " 'finished.',\n",
      " '> amor',\n",
      " 'amare<V><pres><ind><passive><sg><1>',\n",
      " 'amor<N><masc><sg><nom>',\n",
      " 'amor<N><masc><sg><voc>']\n"
     ]
    }
   ],
   "source": [
    "test = 'amor'\n",
    "cmd = f'echo {test} | fst-infl /usr/local/bin/latmor/latmor.a'\n",
    "result = !$cmd\n",
    "\n",
    "pprint(result)"
   ]
  },
  {
   "cell_type": "code",
   "execution_count": 87,
   "metadata": {},
   "outputs": [],
   "source": [
    "results = [r.split('<')[0] for r in result if r.endswith('>')]"
   ]
  },
  {
   "cell_type": "code",
   "execution_count": 88,
   "metadata": {},
   "outputs": [
    {
     "name": "stdout",
     "output_type": "stream",
     "text": [
      "['amare', 'amor', 'amor']\n"
     ]
    }
   ],
   "source": [
    "pprint(results)"
   ]
  },
  {
   "cell_type": "markdown",
   "metadata": {},
   "source": [
    "## Working with *LatMor* and ```subprocess```"
   ]
  },
  {
   "cell_type": "code",
   "execution_count": 81,
   "metadata": {},
   "outputs": [],
   "source": [
    "token = 'amor'\n",
    "cmd1 = f'echo {token}'\n",
    "cmd2 = '/usr/local/bin/fst-infl /usr/local/bin/latmor/latmor.a'"
   ]
  },
  {
   "cell_type": "code",
   "execution_count": 82,
   "metadata": {},
   "outputs": [
    {
     "name": "stdout",
     "output_type": "stream",
     "text": [
      "> amor\n",
      "amare<V><pres><ind><passive><sg><1>\n",
      "amor<N><masc><sg><nom>\n",
      "amor<N><masc><sg><voc>\n",
      "\n"
     ]
    }
   ],
   "source": [
    "p1 = subprocess.Popen(shlex.split(cmd1), stdout=subprocess.PIPE)\n",
    "p2 = subprocess.Popen(shlex.split(cmd2), stdin=p1.stdout, stdout=subprocess.PIPE)\n",
    "result = p2.communicate()[0].decode()\n",
    "print(result)"
   ]
  },
  {
   "cell_type": "code",
   "execution_count": 84,
   "metadata": {},
   "outputs": [
    {
     "name": "stdout",
     "output_type": "stream",
     "text": [
      "['amare', 'amor', 'amor']\n"
     ]
    }
   ],
   "source": [
    "_result = result.split('\\n')\n",
    "results = [r.split('<')[0] for r in _result if r.endswith('>')]\n",
    "print(results)"
   ]
  },
  {
   "cell_type": "code",
   "execution_count": 106,
   "metadata": {},
   "outputs": [],
   "source": [
    "def _choose_weighted_lemmas(lemmas):\n",
    "    \"\"\"\"\"\"\n",
    "    \n",
    "    c = Counter(lemmas)\n",
    "    weights = [(i, c[i] / len(lemmas) * 100.0) for i in c]\n",
    "    if weights:\n",
    "        return max(weights,key=lambda item:item[1])[0]\n",
    "    else:\n",
    "        return None\n",
    "\n",
    "def lm_lemmatize(token):\n",
    "    cmd1 = f'echo {token}'\n",
    "    cmd2 = '/usr/local/bin/fst-infl /usr/local/bin/latmor/latmor.a'\n",
    "    p1 = subprocess.Popen(shlex.split(cmd1), stdout=subprocess.PIPE)\n",
    "    p2 = subprocess.Popen(shlex.split(cmd2), stdin=p1.stdout, stdout=subprocess.PIPE)\n",
    "    result = p2.communicate()[0].decode()\n",
    "    _result = result.split('\\n')\n",
    "    results = [r.split('<')[0] for r in _result if r.endswith('>')]\n",
    "    return _choose_weighted_lemmas(results)"
   ]
  },
  {
   "cell_type": "code",
   "execution_count": 134,
   "metadata": {},
   "outputs": [
    {
     "name": "stdout",
     "output_type": "stream",
     "text": [
      "amor\n",
      "CPU times: user 3.91 ms, sys: 10.7 ms, total: 14.6 ms\n",
      "Wall time: 72 ms\n"
     ]
    }
   ],
   "source": [
    "%%time\n",
    "\n",
    "print(lm_lemmatize('amor'))"
   ]
  },
  {
   "cell_type": "markdown",
   "metadata": {},
   "source": [
    "## Set up batch fst-infl"
   ]
  },
  {
   "cell_type": "code",
   "execution_count": 254,
   "metadata": {},
   "outputs": [],
   "source": [
    "text = 'arma virumque cano'"
   ]
  },
  {
   "cell_type": "code",
   "execution_count": 255,
   "metadata": {},
   "outputs": [],
   "source": [
    "def lm_lemmatize_batch(tokens):\n",
    "    text = '\\n'.join([token.lower() for token in tokens])\n",
    "    cmd1 = ['echo', text]\n",
    "    cmd2 = '/usr/local/bin/fst-infl /usr/local/bin/latmor/latmor.a'\n",
    "    p1 = subprocess.Popen(cmd1, stdout=subprocess.PIPE)\n",
    "    p2 = subprocess.Popen(shlex.split(cmd2), stdin=p1.stdout, stdout=subprocess.PIPE)\n",
    "    result = p2.communicate()[0].decode()\n",
    "    results = result.split('> ')\n",
    "    lemmas = []\n",
    "    for result in results:\n",
    "        #print(result)\n",
    "        if result:\n",
    "            form = result.split('\\n')[0]\n",
    "            _lemmas = [r.split('<')[0] for r in result.split('\\n') if r.endswith('>')]\n",
    "            if _lemmas:\n",
    "                lemmas.append(_lemmas)\n",
    "            else:\n",
    "                lemmas.append([form])\n",
    "    return [_choose_weighted_lemmas(lemma) for lemma in lemmas]"
   ]
  },
  {
   "cell_type": "code",
   "execution_count": 256,
   "metadata": {},
   "outputs": [
    {
     "name": "stdout",
     "output_type": "stream",
     "text": [
      "CPU times: user 3.88 ms, sys: 9.49 ms, total: 13.4 ms\n",
      "Wall time: 78.6 ms\n"
     ]
    }
   ],
   "source": [
    "%%time\n",
    "\n",
    "results = lm_lemmatize_batch(tokenizer.tokenize(text))"
   ]
  },
  {
   "cell_type": "code",
   "execution_count": 257,
   "metadata": {},
   "outputs": [
    {
     "name": "stdout",
     "output_type": "stream",
     "text": [
      "['arma', 'vir', '-que', 'canus']\n"
     ]
    }
   ],
   "source": [
    "pprint(results)"
   ]
  },
  {
   "cell_type": "code",
   "execution_count": 258,
   "metadata": {},
   "outputs": [],
   "source": [
    "# Set up test text\n",
    "\n",
    "# Sall. Bell. Cat. 1\n",
    "text = \"\"\"Omnis homines, qui sese student praestare ceteris animalibus, summa ope niti decet, ne vitam silentio transeant veluti pecora, quae natura prona atque ventri oboedientia finxit. Sed nostra omnis vis in animo et corpore sita est: animi imperio, corporis servitio magis utimur; alterum nobis cum dis, alterum cum beluis commune est. Quo mihi rectius videtur ingeni quam virium opibus gloriam quaerere et, quoniam vita ipsa, qua fruimur, brevis est, memoriam nostri quam maxume longam efficere. Nam divitiarum et formae gloria fluxa atque fragilis est, virtus clara aeternaque habetur. Sed diu magnum inter mortalis certamen fuit, vine corporis an virtute animi res militaris magis procederet. Nam et, prius quam incipias, consulto et, ubi consulueris, mature facto opus est. Ita utrumque per se indigens alterum alterius auxilio eget.\n",
    "\"\"\""
   ]
  },
  {
   "cell_type": "code",
   "execution_count": 259,
   "metadata": {},
   "outputs": [
    {
     "name": "stdout",
     "output_type": "stream",
     "text": [
      "['omnis', 'homo', 'qui', 'sese', 'studere', 'praestare', 'ceterus', 'animalis', 'summus', 'ops', 'niti', 'decere', 'ne', None, 'silentium', 'transire', None, 'pecus', 'qui', 'nare', 'pronus', 'at', None, 'oboedire', 'fingere', 'sed', 'noster', 'omnis', None, 'in', 'animus', 'et', 'corpus', 'sinere', 'esse', 'animus', 'imperium', 'corpus', None, 'magus', 'utere', 'alter', 'ego', 'cum', 'dis', 'alter', 'cum', 'beluus', 'commune', 'esse', 'quis', 'ego', 'rectus', None, 'ingenium', 'quis', None, 'ops', 'gloria', 'quaerere', 'et', 'quoniam', None, 'ipse', 'qui', 'frui', None, 'esse', 'memoria', 'noster', 'quis', 'maxumus', 'longa', 'efficere', 'nam', None, 'et', 'forma', 'glorius', 'fluxus', 'at', 'fragilis', 'esse', None, 'clarus', 'aeternus', None, 'habere', 'sed', 'diu', 'magnus', 'inter', 'mortalis', 'certamen', 'esse', None, 'corpus', 'an', None, 'animus']\n"
     ]
    }
   ],
   "source": [
    "print(lemmas[:100])"
   ]
  },
  {
   "cell_type": "markdown",
   "metadata": {},
   "source": [
    "## Performance"
   ]
  },
  {
   "cell_type": "code",
   "execution_count": 260,
   "metadata": {},
   "outputs": [],
   "source": [
    "# Tagging performance on the entirety of Sallust's *Bellum Catilinum*\n",
    "\n",
    "from cltk.corpus.latin import latinlibrary\n",
    "bc = latinlibrary.raw('sall.1.txt')\n",
    "bc = bc[bc.find('[1]'):bc.find('Sallust The Latin Library The Classics Page')]"
   ]
  },
  {
   "cell_type": "code",
   "execution_count": 261,
   "metadata": {},
   "outputs": [],
   "source": [
    "# Script for preprocessing texts\n",
    "\n",
    "import html\n",
    "import re\n",
    "import string\n",
    "from cltk.stem.latin.j_v import JVReplacer\n",
    "\n",
    "def preprocess(text):\n",
    "    \n",
    "    replacer = JVReplacer()\n",
    "    \n",
    "    text = html.unescape(text) # Handle html entities\n",
    "    text = re.sub(r'&nbsp;?', ' ',text) #&nbsp; stripped incorrectly in corpus?\n",
    "    text = re.sub(r'\\x00',' ',text) #Another space problem?\n",
    "        \n",
    "    text = text.lower()\n",
    "    text = replacer.replace(text) #Normalize u/v & i/j    \n",
    "    \n",
    "    punctuation =\"\\\"#$%&\\'()*+,-/:;<=>@[\\]^_`{|}~.?!«»—\"\n",
    "    translator = str.maketrans({key: \" \" for key in punctuation})\n",
    "    text = text.translate(translator)\n",
    "    \n",
    "    translator = str.maketrans({key: \" \" for key in '0123456789'})\n",
    "    text = text.translate(translator)\n",
    "    \n",
    "    text = re.sub('[ ]+',' ', text) # Remove double spaces\n",
    "    text = re.sub('\\s+\\n+\\s+','\\n', text) # Remove double lines and trim spaces around new lines\n",
    "    \n",
    "    return text.strip()"
   ]
  },
  {
   "cell_type": "code",
   "execution_count": 262,
   "metadata": {},
   "outputs": [],
   "source": [
    "# Preprocess text\n",
    "\n",
    "bc = preprocess(bc)"
   ]
  },
  {
   "cell_type": "code",
   "execution_count": 263,
   "metadata": {},
   "outputs": [
    {
     "name": "stdout",
     "output_type": "stream",
     "text": [
      "CPU times: user 369 ms, sys: 77 ms, total: 446 ms\n",
      "Wall time: 8.81 s\n"
     ]
    }
   ],
   "source": [
    "%%time\n",
    "\n",
    "results = lm_lemmatize_batch(tokenizer.tokenize(bc))"
   ]
  },
  {
   "cell_type": "code",
   "execution_count": 264,
   "metadata": {},
   "outputs": [
    {
     "name": "stdout",
     "output_type": "stream",
     "text": [
      "['omnis', 'homo', 'qui', 'sese', 'studere', 'praestare', 'ceterus', 'animalis', 'summus', 'ops', 'niti', 'decere', 'ne', None, 'silentium', 'transire', None, 'pecus', 'qui', 'nare', 'pronus', 'at', None, 'oboedire', 'fingere', 'sed', 'noster', 'omnis', None, 'in', 'animus', 'et', 'corpus', 'sinere', 'esse', 'animus', 'imperium', 'corpus', None, 'magus', 'utere', 'alter', 'ego', 'cum', 'dis', 'alter', 'cum', 'beluus', 'commune', 'esse', 'quis', 'ego', 'rectus', None, 'ingenium', 'quis', None, 'ops', 'gloria', 'quaerere', 'et', 'quoniam', None, 'ipse', 'qui', 'frui', None, 'esse', 'memoria', 'noster', 'quis', 'maxumus', 'longa', 'efficere', 'nam', None, 'et', 'forma', 'glorius', 'fluxus', 'at', 'fragilis', 'esse', None, 'clarus', 'aeternus', None, 'habere', 'sed', 'diu', 'magnus', 'inter', 'mortalis', 'certamen', 'esse', None, 'corpus', 'an', None, 'animus', 'res', 'militaris', 'magus', 'procedere', 'nam', 'et', 'prae', 'quis', 'incipere', 'consultus', 'et', 'ubi', 'consulere', 'maturus', 'factus', 'opus', 'esse', 'iton', 'uter', 'per', 'se', 'indigens', 'alter', 'alter', 'auxilium', 'egere', 'igitur', 'initium', 'rex', 'nam', 'in', 'terra', 'nomen', 'imperium', 'is', 'primus', 'esse', None, 'pars', 'ingenium', 'alius', 'corpus', 'exercere', 'etiam', 'tum', None, 'homo', 'sinere', 'cupiditas', 'agitare', 'suus', 'quis', 'satus', 'placere', 'postea', None, 'quis', 'in', 'asia', None, 'in', None, None, 'et', None, 'coepere', 'urbs', 'at', 'natio', 'subigere', 'lubido', 'dominare', 'causa', 'bellus', 'habere', 'maxumus', 'gloria', 'in', 'maxumus', 'imperium', 'putare', 'tum', 'demum', 'periculum', 'at', 'negotium', 'comperire', 'esse', 'in', 'bellus', None, 'ingenium', 'posse', 'qui', 'sium', 'rex', 'at', 'imperare', 'animus', None, 'in', 'pacere', 'iton', 'ut', 'in', 'bellus', None, 'aequabilis', 'at', 'constans', 'sese', 'res', 'humanus', 'habere', 'ne', 'alius', 'alium', 'ferre', 'ne', 'mutare', 'ac', 'miscere', 'omnis', 'cernere', 'nam', 'imperium', 'facilis', 'is', 'ars', 'retinere', 'quis', 'initium', 'parere', 'esse', None, 'ubi', 'pro', 'labor', 'deses', 'pro', 'continentia', 'et', 'aequitas', 'lubido', 'at', 'superbia', None, 'fortuna', 'simul', 'cum', 'mos', None, 'iton', 'imperium', 'semper', 'ad', 'optumus', 'quis', 'a', 'minor', 'bonus', 'transferre', 'qui', 'homo', 'arare', None, 'aedificare', None, 'omnis', 'parare', 'sed', 'multus', 'mortalis', 'dedere', None, 'at', 'somnus', 'indoctus', 'incolere', None, None, 'sicuti', 'peregrinari', 'transire', 'quis', 'proficisci', 'contra', 'nare', 'corpus', None, 'anima', 'onus', 'esse', 'is', 'ego', None, 'mors', None, 'iuxta', 'aestumare', 'quoniam', 'de', 'uter', 'silere', None, 'enim', None, 'is', 'demum', 'ego', None, 'at', 'frui', 'anima', None, 'qui', 'aliquis', 'negotium', 'intentus', 'praeclarus', 'facinus', 'aut', 'artus', 'bonus', 'fama', 'quaerere', 'sed', 'in', 'magnus', 'cops', 'res', 'alius', 'alius', 'nare', 'iter', 'ostendere', 'pulcher', 'esse', 'bene', 'facere', 'reus', 'publicus', 'etiam', 'bene', 'dicere', 'haud', 'absurdus', 'esse', None, 'pacere', None, 'bellus', 'clarus', 'fieri', 'licere', 'et', 'qui', 'facere', 'et', 'qui', 'factus', 'alius', 'scribere', 'multus', 'laudare', 'ac', 'ego', 'quidem', 'tametsi', 'haudquaquam', 'par', 'glorius', 'sequere', 'scriptor', 'et', 'actor', 'res', 'tamen', 'in', 'primus', 'arduus', None, 'res', 'gerere', 'scribere', 'primus', 'qui', 'factus', 'dicere', 'exaequare', 'esse', 'dehinc', 'quia', 'plerus', 'qui', 'delinquere', 'reprehendere', None, 'et', None, 'dicere', 'putare', 'ubi', 'de', 'magnus', None, 'at', 'glorius', 'bonus', 'memor', 'qui', 'sibus', 'quis', 'facilis', 'factus', 'putare', 'aequus', 'animus', 'accipere', 'supra', 'is', None, 'fictus', 'pro', 'falsus', 'ducere', 'sed', 'ego', 'adulescentulus', 'initium', 'sicuti', 'plerus', 'studium', 'ad', 'res', 'publicus', 'latus', 'esse', 'ibis', None, 'ego', 'multus', None, 'esse', 'nam', 'pro', 'pudor', 'pro', 'abstinens', 'pro', None, 'audacia', 'largitio', None, None, 'qui', 'tametsi', 'animus', 'aspernari', 'insolens', 'mala', 'ars', 'tamen', 'inter', 'tantus', None, 'imbecillus', 'aetas', 'ambitio', 'corrumpere', 'tenere', 'ac', 'ego', 'cum', 'ab', 'reliquus', 'malus', 'mos', 'dissentire', 'nihilum', 'minor', 'honorus', 'cupidus', 'idem', 'qui', 'ceterus', 'fama', 'at', None, None, 'igitur', 'ubi', 'animus', 'ex', 'multus', 'miseria', 'at', 'periculum', None, 'et', 'ego', 'reliquus', 'aetas', 'a', 'res', 'publicus', 'procul', 'habere', None, 'non', 'esse', 'consilium', 'socordia', 'at', 'deses', 'bonus', 'otium', 'conterere', 'ne', None, 'ager', 'colere', 'aut', None, None, 'officium', 'intendere', 'aetas', 'agere', 'sed', 'a', 'quis', 'incipere', 'studium', None, 'ego', 'ambitio', 'malus', 'detinere', 'idem', 'regressus', 'statuere', 'res', 'gerere', 'populus', None, 'carptim', 'ut', 'qui', 'memoria', 'dignus', None, 'perscribere', 'is', 'magus', 'qui', 'ego', 'a', 'spes', 'metus', 'pars', 'reus', 'publicus', 'animus', 'liber', 'esse', 'igitur', 'de', None, 'coniuratio', 'quis', None, 'posse', 'paucus', None, 'nam', 'is', 'facinus', 'in', 'primus', 'ego', 'memorabilis', 'existumare', 'scelerus', 'at', 'periculum', None, 'de', 'quis', 'homo', 'mos', 'paucus', 'prae', 'explanare', 'esse', 'quis', 'initium', 'narrare', 'facere', 'L', None, 'nobilis', 'genere', 'natus', 'esse', 'magnus', None, 'et', 'animus', 'et', 'corpus', 'sed', 'ingenium', 'malus', None, None, 'hic', 'ab', 'adulescens', 'bellus', 'intestinus', 'caedes', 'rapina', 'discordia', None, 'gratus', 'esse', 'ibis', None, None, 'suere', 'exercere', 'corpus', 'patiens', 'inedia', 'algor', None, 'supra', 'quis', 'quisquam', 'credibilis', 'esse', 'animus', 'audax', 'subdolus', None, 'quis', 'reus', 'lubet', 'simulare', 'ac', 'dissimulare', 'alienus', None, 'suus', 'profundere', 'ardens', 'in', 'cupiditas', 'satus', 'eloquentia', 'sapientia', 'parum', None, 'animus', None, 'incredibilis', 'nimis', 'altus', 'semper', 'cupere', 'hic', 'post', 'dominatio', 'L', None, 'lubido', 'maxumus', None, 'reus', 'publicus', 'capere', 'ne', 'is', 'quis', 'modus', None, 'dum', 'sibus', 'regnum', 'parare', 'quisquam', 'pendere', 'habere', 'agitare', 'magus', 'magus', None, 'in', 'dies', 'animus', 'ferox', 'inops', 'reus', 'familiaris', 'et', 'conscire', 'scelerus', 'qui', 'uter', 'is', 'ars', 'augere', 'quis', 'supra', None, 'incitare', 'praeterea', 'corrumpere', None, 'mos', 'quis', 'pessumus', 'ac', None, 'inter', 'se', 'malus', 'luxuria', 'at', None, None, 'res', 'ipse', 'hortare', None, 'quoniam', 'de', 'mos', None, 'tempus', 'admonere', 'supra', 'repetere', 'ac', 'paucus', 'instituere', 'magnus', 'domire', 'militia', None, 'quis', 'modo', 'res', 'publicus', 'habere', 'quantus', None, 'relinquere', 'ut', 'paulatim', None, 'ex', None, 'at', 'optumus', 'pessumus', 'ac', 'flagitiosus', 'factus', 'esse', 'disserere', 'urbs', None, 'sicuti', 'ego', 'accipere', 'condere', 'at', 'habere', 'initium', None, 'qui', 'aeneus', 'dux', 'profugus', 'sedes', 'incertus', None, 'cumque', 'is', 'aborigines', 'genus', 'homo', 'agrestis', 'sinere', 'lex', 'sinere', 'imperium', 'liber', 'at', 'solvere', 'hic', 'postquam', 'in', 'unus', 'moenia', None, 'dispar', 'genere', 'dissimilis', 'lingua', 'alius', 'alium', 'morus', None, 'incredibilis', 'memorare', 'esse', 'quis', 'facilis', 'coalere', 'iton', None, 'multitudo', 'dispergere', 'at', None, 'concordis', None, 'factus', 'esse', 'sed', 'postquam', 'res', 'is', None, 'mos', 'ager', 'auctus', 'satus', 'prosperus', 'satus', None, 'pollens', None, 'sicuti', 'plerus', 'mortalis', 'habere', None, 'ex', 'opulens', 'oriri', 'esse', 'igitur', 'rex', 'populus', None, 'finitumus', 'bellus', 'temptare', 'paucus', 'ex', 'amicus', 'auxilium', 'esse', 'nam', 'ceterus', 'metus', 'percellere', 'a', 'periculum', 'abesse', 'at', None, 'domire', 'militia', None, 'intendere', 'festinare', 'parare', 'alius', 'alium', 'hortare', 'hostis', None, 'ire', 'libertas', 'patria', 'parens', None, 'arma', 'tegere', 'post', 'ubi', 'periculum', None, 'propellere', 'socius', 'at', 'amicus', 'auxilium', 'portare', 'magus', None, 'dare', 'quis', 'accipere', 'beneficium', 'amicitia', 'parare', 'imperium', 'legitumus', 'nomen', 'imperium', 'regius', 'habere', 'deligere', 'quis', 'corpus', 'annus', 'infirmus', 'ingenium', 'sapere', None, 'esse', 'reus', 'publicus', 'consultare', 'hic', None, 'aetas', None, 'cura', 'similitudo', 'pater', 'appellare', 'post', 'ubi', 'regius', 'imperium', 'qui', 'initium', None, 'libertas', 'at', 'augere', 'reus', 'publicus', 'esse', 'in', 'superbire', 'dominatio', None, 'se', None, None, 'morus', 'annuus', 'imperium', 'bini', None, 'imperator', 'sibus', 'facere', 'is', 'modo', 'minumus', 'posse', 'putare', 'per', 'licentia', 'insolescere', 'animus', 'humanus', 'sed', 'is', 'tempestas', 'coepere', 'se', 'quis', 'magus', 'extollere', 'magus', None, 'ingenium', 'in', 'promptus', 'habere', 'nam', 'rex', 'bonus', 'quis', 'malus', 'suspectus', 'esse', 'semper', None, 'is', 'alienus', None, 'formidulosus', 'esse', 'sed', None, 'incredibilis', 'memorare', 'esse', 'adipisci', 'libertas', 'quantus', None, None, 'tantus', 'cupidus', 'gloria', 'incedere', 'iam', 'primus', None, 'simul', 'ac', 'bellus', 'patiens', 'esse', 'in', 'castra', 'per', 'laborare', 'uti', 'militia', 'discere', 'magus', None, 'in', 'decorus', 'arma', 'et', 'militaris', 'equa', 'quis', 'in', 'scortum', 'at', None, 'lubido', 'habere', 'igitur', 'talis', None, 'non', 'labor', 'insolitus', 'non', 'locus', 'ullus', 'asper', 'aut', 'arduus', 'esse', 'non', 'armatus', 'hostis', 'formidulosus', None, 'omnis', 'domare', 'sed', 'gloria', 'maxumus', 'certamen', 'inter', 'ipse', 'esse', 'se', 'quis', 'hostis', 'ferire', 'murus', 'ascendere', 'conspicere', 'dum', 'talis', 'facinus', 'facere', 'properare', 'ire', None, 'ire', 'bonus', 'fama', 'magnus', None, 'nobilitas', 'putare', 'laus', None, 'pecunia', 'liberalis', 'esse', 'gloria', 'ingens', None, 'honestas', None, 'memorare', 'posse', 'quis', 'in', 'loca', 'maxumus', 'hostis', 'copia', 'populus', None, None, 'manus', 'fundere', 'quis', 'urbs', 'nare', 'munire', 'pugnare', 'capere', 'ni', 'is', 'res', 'longus', 'ego', 'ab', 'incipere', 'trahere', 'sed', 'proficisci', 'fortuna', 'in', 'omnis', 'res', 'dominare', 'is', 'res', 'cunctare', 'ex', 'lubido', 'magus', 'quis', 'ex', None, 'celebrare', 'obscurare', None, None, 'res', 'gerere', 'sicuti', 'ego', 'aestumare', 'satus', 'ampla', 'magnificus', None, 'esse', None, 'aliquantus', 'minor', 'tamen', 'quis', 'fama', 'ferre', 'sed', 'quia', None, 'ibis', 'scribere', 'magnus', 'ingenium', 'per', 'terra', 'orbare', None, 'factus', 'pro', 'maxumus', 'celebrare', 'iton', 'is', 'qui', 'facere', None, 'tantus', 'habere', 'quantus', 'ire', None, 'posse', 'extollere', 'praeclarus', 'ingenium', 'at', 'populus', None, 'numquam', 'is', 'cops', 'esse', 'quia', 'prudens', 'quis', 'maxumus', 'negotiosus', 'esse', 'ingenium', 'nemo', 'sinere', 'corpus', 'exercere', 'optumus', 'quis', 'facere', 'quis', 'dicere', 'suus', 'ab', 'alius', 'benefacere', 'laudare', 'quis', 'ipse', 'alius', 'narrare', 'malle', 'igitur', 'domire', 'militia', None, 'bonus', 'mos', 'colere', 'concordis', 'maxumus', 'minumus', None, 'esse', 'ius', 'bonus', None, 'apud', 'is', 'non', 'lex', 'magus', 'quis', 'nare', None, 'iurgium', 'discordiare', 'simultas', 'cum', 'hostis', 'exercere', None, 'cum', None, 'de', None, 'certare', 'in', 'supplicium', 'deus', 'magnificus', 'domire', 'parcus', 'in', 'amicus', 'fidelis', 'esse', 'duo', 'hic', 'ars', 'audacia', 'in', 'bellus', 'ubi', 'pax', None, 'aequitas', 'se', None, 'res', None, 'publicus', 'curare', 'quis', 'res', 'ego', 'maxumus', 'documentum', 'hic', 'habere', 'qui', 'in', 'bellus', 'saepior', None, 'esse', 'in', 'is', 'qui', 'contra', 'imperium', 'in', 'hostis', None, 'qui', 'tardus', None, 'proelium', 'excedere', 'quis', 'qui', 'signum', 'relinquere', 'aut', 'pellere', 'locus', 'cedere', 'audere', 'esse', 'in', 'pacere', None, 'qui', 'beneficium', 'magus', 'quis', 'metus', 'imperium', 'agitare', 'et', 'acceptus', 'iniurius', 'ignoscere', 'quis', 'persequi', 'malle', 'sed', 'ubi', 'labor', 'at', 'iustitia', 'res', 'publicus', None, 'rex', 'magnus', 'bellus', 'domare', 'natio', 'fera', 'et', 'populus', 'ingens', None, 'subigere', None, 'aemulus', 'imperium', None, 'ab', 'stirps', 'interire', 'cunctus', 'mare', 'terra', None, 'patere', None, 'fortuna', 'ac', 'miscere', 'omnis', 'coepere', 'qui', 'labor', 'periculum', 'dubius', 'at', 'asperare', 'res', 'facilis', None, 'is', 'otium', None, None, 'optandus', 'alias', 'onus', 'miseria', None, 'esse', 'igitur', 'primus', 'imperium', 'deinde', 'pecunia', 'cupidus', None, 'is', 'quasi', 'materies', 'omnis', 'malus', 'esse', 'namque', None, 'fides', 'probitas', 'ceterus', None, 'artus', 'bonus', None, 'pro', 'hic', 'superbire', 'crudelitas', 'deus', 'neglegere', 'omnis', None, 'habere', 'edocere', 'ambitio', 'multus', 'mortalis', 'falsus', 'fieri', 'subigere', 'alius', 'claudere', 'in', 'pectus', 'alius', 'in', 'lingua', 'promptus', 'habere', 'amicitia', 'inimicitiae', None, 'non', 'ex', 'res', 'sed', 'ex', 'commodus', 'aestumare', 'magus', None, None, 'quis', 'ingenium', 'bonus', 'habere', 'hic', 'primus', 'paulatim', 'crescere', 'interdum', None, 'post', 'ubi', 'contagio', 'quasi', 'pestilens', None, None, None, 'imperium', 'ex', 'iustus', 'at', 'optumus', 'crudelis', 'intolerare', None, 'factus', 'sed', 'primus', 'magus', 'ambitio', 'quis', None, 'animus', 'homo', 'exercere', 'qui', 'tamen', None, 'prope', None, 'esse', 'nam', 'gloria', 'honorare', 'imperium', 'bonus', 'et', None, 'aequus', 'sibus', 'exoptare', 'sed', 'ille', None, None, 'niti', 'hic', 'quia', 'bonus', 'ars', 'deesse', 'dolus', 'at', 'fallacia', 'contendere', None, 'pecunia', 'studium', 'habere', 'quis', 'nemo', 'sapiens', None, 'is', 'quasi', None, 'malus', 'inbuere', 'corpus', 'animus', None, None, 'effeminare', 'semper', 'infinitus', 'insatiabilis', 'esse', 'ne', 'cops', 'ne', 'inops', 'minuere', 'sed', 'postquam', 'L', None, 'arma', 'receptus', 'res', 'publicus', 'bonus', 'initia', 'malus', None, 'habere', 'rapere', 'omnis', 'omnis', 'trahere', 'domum', 'alius', 'alius', 'ager', 'cupere', 'ne', 'modus', 'ne', 'modestia', None, 'habere', 'foedus', 'crudelis', None, 'in', None, 'facinus', 'facere', 'huc', 'accedere', 'qui', 'L', None, 'exercere', 'quis', 'in', 'asia', None, 'quis', 'sibus', 'fidus', 'facere', 'contra', 'morare', 'magnus', 'luxuriosus', 'nimis', None, 'liberalis', 'habere', 'loca', 'amoenus', None, 'facilis', 'in', 'otium', 'ferox', 'miles', 'animus', None, 'ibis', 'primus', None, 'exercitus', 'populus', None, 'amare', 'potare', 'signum', 'tabulare', 'pictus', None, 'caelare', 'mirare', 'is', None, 'et', 'publicus', 'rapere', 'delubrum', 'spoliare', 'sacer', 'profanus', None, 'omnis', 'polluere', 'igitur', 'ire', 'miles', 'postquam', None, 'adipisci', 'esse', 'nihil', 'reliquus', None, 'facere', 'quippe', 'secundus', 'res', 'sapere', 'animus', 'fatigare', 'ne', 'ille', 'corrumpere', 'mos', None, 'temperare', 'postquam', None, 'honorus', 'esse', 'coepere', 'et', 'ire', 'glorius', 'imperium', 'potens', 'sequere', 'hebescere', None, 'paupertas', 'prober', 'habere', 'innocens', 'pro', None, 'dux', 'coepere', 'igitur', 'ex', None, None, 'luxuria', 'at', None, 'cum', 'superbia', None, 'rapere', 'consumere', 'suus', 'parere', 'pendere', 'alienus', 'cupere', 'pudor', 'pudicitia', None, 'at', 'humanus', 'promiscuus', 'nihil', 'pendere', 'ne', 'moderare', 'habere', 'opera', 'pretium', 'esse', 'cum', 'domos', 'at', None, None, 'in', 'urbs', 'modus', 'exaedificare', None, 'templum', 'deus', 'qui', 'noster', 'magnus', 'religiosus', 'mortalis', 'facere', None, 'ille', 'delubrum', 'deus', 'pietas', 'domos', 'suere', 'glorius', 'decorare', 'ne', None, 'quisquam', 'praeter', 'iniuria', 'licentia', 'eripere', 'at', 'hic', 'contra', None, 'homo', 'per', 'summus', 'scelus', 'omnis', 'is', 'socius', 'adimere', 'qui', 'fortis', None, None, 'relinquere', 'proinde', 'quasi', 'iniuria', 'facere', 'is', 'demum', 'esse', 'imperium', 'uti', 'nam', 'quis', 'is', 'memor', 'qui', 'niti', 'is', 'qui', None, 'nere', 'credibilis', 'esse', 'a', None, 'commultus', None, 'mons', 'mare', 'consternere', 'esse', 'quis', 'ego', None, 'ludibrium', 'esse', None, 'quippe', 'quis', 'honestus', 'habere', 'licere', 'abuti', 'per', 'turpitudo', 'properare', 'sed', 'lubido', 'stuprum', 'ganea', 'ceterus', None, 'cultus', 'non', 'minor', 'incedere', None, 'muliebris', 'patere', 'mulier', 'pudicitia', 'in', 'propatulus', 'habere', None, 'causa', 'terra', 'mas', None, 'omnis', 'exquirere', 'dormire', 'prae', 'quis', 'somnus', 'cupidus', 'esse', 'non', 'fames', 'aut', 'sitis', 'ne', 'frigus', 'ne', 'lassitudo', 'opperiri', 'sed', 'is', 'omnis', 'luxus', 'antecapere', 'hic', None, 'ubi', 'familiaris', 'ops', 'deficere', 'ad', 'facinus', 'incendere', 'animus', 'inbuere', 'malus', 'ars', 'haud', 'facilis', 'lubido', 'carere', 'is', 'profusus', 'omnis', 'modus', 'quaestus', 'at', 'sumptus', 'dedere', 'esse', 'in', 'tantus', 'tam', None, 'corrumpere', None, None, 'is', 'qui', 'factus', 'facilis', 'esse', 'omnis', 'flagitium', 'at', 'facinus', 'circum', 'se', 'tamquam', 'stipare', None, 'habere', 'nam', 'cum', 'qui', None, 'adulter', 'ganeo', 'manus', None, 'penus', 'bonus', 'patrius', None, 'qui', 'alienus', 'aes', 'grandis', None, 'quis', 'flagitium', 'aut', 'facinus', 'redimere', 'praeterea', 'omnis', 'undique', 'parricida', 'sacrilegus', None, 'iudicium', 'aut', 'pro', 'factus', 'iudicium', 'timens', 'ad', 'hic', 'quis', 'manus', 'at', 'lingua', 'periurium', 'aut', 'sanguen', None, 'alere', 'postremus', 'omnis', 'quis', 'flagitium', 'egestas', 'conscius', 'animus', 'exagitare', 'ire', None, 'proxumus', 'familiaris', None, 'esse', 'qui', 'sium', 'quis', 'etiam', 'a', 'culpa', None, 'in', 'amicitia', 'is', 'incidere', 'cotidianus', 'usus', 'at', 'illecebra', 'facilis', 'par', 'similis', None, 'ceterus', 'efficere', 'sed', 'maxumus', 'adulescens', 'familiaritas', None, 'is', 'animus', 'mollis', 'etiam', 'et', 'fluxus', 'dolus', 'haud', 'difficulter', 'capere', 'nam', 'ut', 'quis', 'studium', 'ex', 'aetas', 'flagrare', 'alius', 'scortum', 'praebere', 'alius', 'canes', 'at', 'equus', 'mercari', 'postremus', 'ne', 'sumptus', 'ne', 'modestia', 'suus', 'parcere', 'dum', 'ille', 'obnoxius', 'fidus', None, 'sibus', 'facere', 'scius', 'esse', 'nonnullus', 'qui', 'iton', 'existumare', None, 'qui', 'domum', None, 'frequentare', 'parum', 'honestus', 'pudicitia', 'habere', 'sed', 'ex', 'alius', 'res', 'magus', 'quis', 'qui', 'quisquam', 'is', 'comperire', 'forare', 'hic', 'fama', None, 'iam', 'primus', 'adulescens', None, 'multus', 'nefandus', 'stuprum', 'facere', 'cum', None, 'nobilis', 'cum', 'sacerdos', None, 'alia', None, 'modus', 'contra', 'ius', 'fas', None, 'postremus', 'captus', 'amor', None, None, 'quis', 'praeter', 'forma', 'nihil', 'umquam', 'bonus', None, 'qui', 'is', 'nubere', 'ille', 'dubitare', 'timens', None, 'adultus', 'aetas', 'pro', 'certus', 'credere', 'necare', 'filius', None, 'domum', 'scelestus', 'nuptiae', 'facere', 'qui', 'quidem', 'res', 'ego', 'in', 'primus', None, 'causa', 'esse', 'facinus', 'maturare', 'namque', 'animus', None, 'dis', 'homo', None, 'infestus', 'ne', None, 'ne', 'quies', 'sedare', 'posse', 'iton', 'conscire', 'mens', 'exciere', None, 'igitur', 'color', 'is', 'exsanguis', 'foedus', 'oculus', 'citus', 'modo', 'modo', 'tardus', 'incessus', 'prorsus', 'in', 'facies', None, None, None, 'inesse', 'sed', None, 'quis', 'ut', 'supra', 'dicere', 'illicere', 'multus', 'modus', 'malus', 'facinus', 'edocere', 'ex', 'ille', 'testis', 'signator', None, 'falsus', 'commodare', 'fides', 'fortunare', 'periculum', None, 'habere', 'post', 'ubi', 'is', 'fama', 'at', 'pudor', None, 'magnus', 'alia', 'imperare', 'sium', 'causa', 'peccare', 'in', 'praesens', 'minor', 'suppetere', 'nihilum', 'minor', 'insons', 'sicuti', 'sons', None, 'iugulare', 'scilicet', 'ne', 'per', 'otium', 'torpescere', 'manus', 'aut', 'animus', 'gratuitus', 'potis', 'malus', 'at', 'crudelis', 'esse', 'hic', 'amicus', 'socius', None, 'confidere', None, 'simul', 'qui', 'aes', 'alienus', 'per', 'omnis', 'terra', 'ingens', 'esse', 'et', 'qui', 'plerus', None, 'miles', 'largus', 'suus', 'uti', 'rapina', 'et', None, None, 'memor', None, 'bellus', 'exoptare', 'opprimere', 'reus', 'publicus', 'consilium', 'capere', 'in', None, 'nullus', 'exercitus', 'C', None, None, 'in', 'extra', 'terra', 'bellus', 'gerere', 'ipse', 'consulatus', 'petere', 'magnus', 'spes', 'senatus', 'nihil', 'sanus', 'intentus', 'tutus', 'tranquillus', None, 'res', 'omnis', 'sed', 'is', 'prorsus', 'opportunus', None, 'igitur', 'circiter', None, None, 'L', None, 'et', 'C', 'figulus', 'consul', 'primus', 'singuli', 'appellare', 'hortare', 'alius', 'alius', 'temptare', 'ops', 'suere', None, 'res', 'publicus', 'magnus', 'praemium', 'coniuratio', 'docere', 'ubi', 'satus', 'explorare', 'esse', 'qui', None, 'in', 'unus', 'omnis', None, 'quis', 'maxumus', 'necessitudo', 'et', None, 'audacia', 'inesse', 'is', None, 'senatorius', 'ordo', None, 'lentulus', 'sura', None, None, 'L', 'cassus', None, 'C', None, None, 'et', None, None, None, 'filius', 'L', None, None, None, 'M', None, None, 'L', 'bestius', None, None, 'praeterea', 'ex', 'equestris', 'ordium', 'M', None, 'nobilis', 'L', None, None, None, 'capere', 'C', None, 'ad', 'hic', 'multus', 'ex', 'colonia', 'et', 'municipium', 'domire', 'nobilis', 'esse', 'praeterea', 'commultus', 'paulus', 'occultus', 'consilium', None, 'particeps', 'nobilis', 'quis', 'magus', 'dominatio', 'spes', 'hortare', 'quis', 'inops', 'aut', 'alia', 'necessitudo', 'ceterus', None, 'plerus', 'sed', 'maxumus', 'nobilis', None, 'incipere', None, 'quis', 'in', 'otium', None, 'magnificus', None, 'mollis', None, 'cops', 'esse', 'incertus', 'pro', 'certus', 'bellus', 'quis', 'pacare', 'malle', 'esse', 'itare', 'is', 'tempestas', 'qui', 'credere', 'M', 'licinium', 'crassus', 'non', 'ignarus', 'is', 'consilium', 'esse', 'quia', 'C', None, None, None, 'ipse', 'magnus', 'exercere', 'ductare', None, 'ops', None, 'contra', 'ille', 'potentia', 'crescere', 'simul', 'confidere', 'sium', 'coniuratio', None, 'facilis', 'apud', 'ille', 'princeps', 'se', 'foris', 'sed', 'antea', 'itare', None, 'paucus', 'contra', 'res', 'publicus', 'in', 'quis', None, 'esse', 'de', 'qui', 'quis', None, 'posse', 'dicere', 'L', None, 'et', 'M', 'lepidus', 'consul', None, None, 'et', None, None, 'designare', 'consul', 'lex', 'ambitus', 'interrogare', 'poena', 'dare', 'post', 'paulus', None, 'pecunia', 'repetere', 'reus', 'prohibere', 'esse', 'consulatus', 'petere', 'qui', 'intra', 'legitumus', 'dies', 'profiteri', None, 'esse', 'idem', 'tempus', 'C', None, 'pinsere', 'adulescens', 'nobilis', 'summa', 'audacia', 'egens', 'factiosus', 'quis', 'ad', 'perturbare', 'res', 'publicus', 'inops', 'at', 'malus', 'mos', 'stimulare', 'cum', 'hic', None, 'et', None, 'circiter', 'nona', None, 'consilium', 'communicare', 'parare', 'in', None, None, None, 'L', None, 'et', 'L', 'torquatus', 'consul', 'interficere', 'ipse', 'fascis', 'correptus', 'piso', 'cum', 'exercitus', 'ad', 'obtinere', 'duo', None, 'mittere', 'is', 'res', 'cognitus', 'rursus', 'in', 'nona', 'februarius', 'consilium', 'caedis', 'transferre', 'iam', 'tum', 'non', 'consul', 'modo', 'sed', 'plerusque', 'senator', 'pernicies', 'machinari', 'qui', 'ni', None, 'maturare', 'pro', 'curia', 'signum', 'socius', 'dare', 'is', 'dies', 'post', 'condere', 'urbs', None, 'pessumus', 'facinus', 'patrare', 'forare', 'quia', 'nondum', 'frequens', 'armare', None, 'is', 'res', 'consilium', 'dirimere', 'postea', 'pinsere', 'in', 'citra', None, 'quaestor', 'pro', 'praetor', 'missus', 'esse', None, 'crassus', 'qui', 'is', 'infestus', 'inimicus', 'C', None, None, None, 'ne', 'tamen', 'senatus', None, None, 'dare', 'quippe', 'foedus', 'homo', 'a', None, 'procul', 'esse', None, 'simul', 'quia', 'bonus', None, 'praeses', 'in', 'is', 'putare', 'et', 'iam', 'tum', 'potens', 'pompeum', 'formidulosus', 'esse', 'sed', 'is', 'pinsere', 'in', None, 'ab', 'eques', None, 'quis', 'in', 'exercitus', 'ductare', 'iter', 'facere', 'occidere', 'esse', 'esse', 'qui', 'iton', 'dicare', 'imperium', 'is', 'iniustus', 'superbus', 'crudelis', 'barbaros', None, 'patere', 'alius', 'autem', 'eques', 'ille', 'C', None, 'pompeum', None, 'fidus', None, 'cliens', None, 'is', 'piso', 'aggredi', 'numquam', None, 'praeterea', 'talis', 'facinus', 'facere', 'sed', 'imperium', None, 'multus', 'antea', 'perpeti', 'ego', 'ire', 'res', 'in', 'medius', 'relinquere', 'de', 'supra', 'coniuratio', 'satus', 'dicere', None, 'ubi', 'is', 'quis', 'paulus', 'ante', None, None, None, 'tametsi', 'cum', 'singuli', 'multus', 'saeps', 'agere', 'tamen', 'in', 'res', 'foris', 'credere', None, 'appellare', 'et', 'cohortare', 'in', 'abdere', 'pars', 'aedes', 'secedere', 'at', 'ibis', 'omnis', 'arbitra', 'procul', 'amovere', 'oratio', None, 'modus', 'habere', 'ni', None, 'fides', None, None, 'spectare', 'ego', 'forare', 'nequiquam', 'opportunus', 'res', 'cadere', 'spes', 'magnus', 'dominatio', 'in', 'manes', 'frustrare', 'esse', 'ne', 'ego', 'per', None, 'aut', None, 'ingenium', 'incertus', 'pro', 'certus', 'captare', 'sed', 'quia', 'multus', 'et', 'magnus', 'tempestas', None, None, 'fortis', 'fidus', None, 'ego', 'is', 'animus', 'ausus', 'esse', 'maxumus', 'at', None, 'facinus', 'incipere', 'simul', 'quia', None, 'idem', 'qui', 'ego', 'bonus', 'malus', None, 'esse', 'intellegere', 'nam', 'idem', None, 'at', 'idem', 'nolle', 'is', 'demum', 'firmus', 'amicitia', 'esse', 'sed', 'ego', 'qui', 'mens', None, 'omnis', 'iam', 'antea', None, None, 'ceterus', 'ego', 'in', 'dies', 'magus', 'animus', 'accendere', 'cum', 'considerare', 'qui', 'condicio', None, 'futurus', 'esse', 'niti', None, 'ipse', None, 'in', 'libertas', 'nam', 'postquam', 'res', 'publicus', 'in', 'paucus', 'potens', 'ius', 'at', 'dicio', 'concedere', 'semper', 'ille', 'rex', 'tetrarcha', None, 'esse', 'populus', 'natio', 'stipendium', 'pendere', 'ceterus', 'omnis', 'strenuus', 'bonus', 'nobilis', 'at', 'ignobilis', None, 'esse', 'sinere', 'gratia', 'sinere', 'auctoritas', 'is', 'obnoxius', 'quis', 'sium', 'res', 'publicus', None, 'formido', 'esse', 'iton', 'omnis', 'gratia', 'potens', 'honos']\n"
     ]
    }
   ],
   "source": [
    "print(lemmas)"
   ]
  },
  {
   "cell_type": "markdown",
   "metadata": {},
   "source": [
    "## Help with installing LatMor"
   ]
  },
  {
   "cell_type": "markdown",
   "metadata": {},
   "source": [
    "The installation instructions for Treetagger (at least on OSX) are reasonably clear. What I offer here is primarily documentation of how I prefer to install Treetagger with specific attention to working with Latin.\n",
    "\n",
    "1. Download all of the Treetagger files, i.e. (again for OSX)\n",
    "    - tree-tagger-MacOSX-3.2.tar.gz\n",
    "    - tagger-scripts.tar.gz\n",
    "    - install-tagger.sh\n",
    "2. Download the Latin parameters file. NB: There are two Latin files—for this notebook I am using G. Brandolini's file (latin-par-linux-3.2.bin.gz)\n",
    "3. Unzip tree-tagger-MacOSX-3.2.tar.gz\n",
    "4. Rename this folder ```treetagger``` and put the other three (3) files inside. You should not unzip the other files.\n",
    "5. Move this folder to ```/usr/local/bin```; a command like ```mv ./treetagger /usr/local/bin``` should work.\n",
    "6. Change directory to ```/usr/local/bin/treetagger``` and run the install script, i.e. ```sh install-tagger.sh```\n",
    "7. You should be all set now—try it out with the following:\n",
    "    - ```echo 'Salve munde!' | cmd/tree-tagger-latin```\n",
    "    - Output\n",
    "        - ```Salve\tV:IMP\tsalveo```\n",
    "        - ```munde\tN:voc\tmundus```\n",
    "        - ```!\tSENT\t!```\n",
    "8. It is probably a good idea to add treetagger's location to PATH.\n",
    "    - Open ~/.bash_profile (or the appropriate file for whatever you shell you are using) and add:\n",
    "        - ```export PATH=/usr/local/bin/treetagger/cmd:/usr/local/bin/treetagger/bin:$PATH```\n",
    "    - treetagger-python also requires that you add the following line to ~/.bash_profile:\n",
    "        - ```export TREETAGGER_HOME='/usr/local/bin/treetagger/cmd/'``` \n",
    "    \n",
    "Treetagger should now work as expected in the Notebooks above. If you notice any problems with the installation instructions, please open an issue in this repo.—PJB"
   ]
  }
 ],
 "metadata": {
  "kernelspec": {
   "display_name": "Python 3",
   "language": "python",
   "name": "python3"
  },
  "language_info": {
   "codemirror_mode": {
    "name": "ipython",
    "version": 3
   },
   "file_extension": ".py",
   "mimetype": "text/x-python",
   "name": "python",
   "nbconvert_exporter": "python",
   "pygments_lexer": "ipython3",
   "version": "3.6.5"
  }
 },
 "nbformat": 4,
 "nbformat_minor": 2
}
