{
 "cells": [
  {
   "cell_type": "markdown",
   "metadata": {},
   "source": [
    "# Latin Lemmatization with LatMor"
   ]
  },
  {
   "cell_type": "markdown",
   "metadata": {},
   "source": [
    "!!! WRITE NEW POST !!!! This is the first installment in series of posts/notebooks on Latin lemmatization that will cover: 1. introductions to existing options for Latin lemmatization (esp. those available for Python); 2. comparisons/benchmarks for existing lemmatizers; and 3. development notes on the [CLTK Latin Backoff Lemmatizer](https://disiectamembra.wordpress.com/2016/08/23/wrapping-up-google-summer-of-code/) and related projects\n",
    "\n",
    "[TreeTagger](http://www.cis.uni-muenchen.de/~schmid/tools/TreeTagger/) is a probabilistic, decision tree-based part-of-speech tagger written by Helmut Schmid in 1994. It is described in this [paper](http://www.cis.uni-muenchen.de/~schmid/tools/TreeTagger/data/tree-tagger2.pdf). Though originally written for German tagging, parameter files have since been written for a number of languages including Latin. This notebook uses G. Brandolini's parameter file which is based on a [number of sources for Latin lexical and morphological data](http://www.cis.uni-muenchen.de/~schmid/tools/TreeTagger/data/Latin-parameter-file-readme): PROIEL data, Perseus data, Index Thomisticus data and Whitaker's Words.\n",
    "\n",
    "Lemmatization is a by-product of TreeTagger's pos-tagging, but a useful one. It runs quickly, performs well, and has two Python wrappers (shown below). This notebook introduces the two Python wrappers—*treetaggerwrapper* and *treetagger-python*—and gives example workflows and some execution time information. The last section of this post offers assistance with installation and configuration of TreeTagger for OSX. \\[PJB 5.4.18]"
   ]
  },
  {
   "cell_type": "code",
   "execution_count": 1,
   "metadata": {},
   "outputs": [],
   "source": [
    "# # Install LatMor\n",
    "\n",
    "# # Installation information at XXX. See last cell for more information."
   ]
  },
  {
   "cell_type": "code",
   "execution_count": 12,
   "metadata": {},
   "outputs": [],
   "source": [
    "# Imports\n",
    "\n",
    "import re\n",
    "import subprocess\n",
    "import shlex\n",
    "\n",
    "from collections import Counter\n",
    "\n",
    "from cltk.tokenize.word import WordTokenizer\n",
    "\n",
    "from pprint import pprint"
   ]
  },
  {
   "cell_type": "code",
   "execution_count": 3,
   "metadata": {},
   "outputs": [],
   "source": [
    "# Create instances of CLTK tools\n",
    "\n",
    "tokenizer = WordTokenizer('latin')"
   ]
  },
  {
   "cell_type": "markdown",
   "metadata": {},
   "source": [
    "## Working with *LatMor* and jupyter bash"
   ]
  },
  {
   "cell_type": "code",
   "execution_count": 48,
   "metadata": {},
   "outputs": [
    {
     "name": "stdout",
     "output_type": "stream",
     "text": [
      "['reading transducer from file \"/usr/local/bin/latmor/latmor.a\"...', 'finished.', '> laudat', 'laudare<V><pres><ind><active><sg><3>']\n"
     ]
    }
   ],
   "source": [
    "test = 'laudat'\n",
    "cmd = f'echo {test} | fst-infl /usr/local/bin/latmor/latmor.a'\n",
    "result = !$cmd\n",
    "\n",
    "print(result)"
   ]
  },
  {
   "cell_type": "code",
   "execution_count": 5,
   "metadata": {},
   "outputs": [
    {
     "name": "stdout",
     "output_type": "stream",
     "text": [
      "laudare<V><pres><ind><active><sg><3>\n"
     ]
    }
   ],
   "source": [
    "print(result[-1])"
   ]
  },
  {
   "cell_type": "code",
   "execution_count": 6,
   "metadata": {},
   "outputs": [
    {
     "name": "stdout",
     "output_type": "stream",
     "text": [
      "laudare\n"
     ]
    }
   ],
   "source": [
    "m = re.search('(.+?)<', result[-1])\n",
    "print(m.group(1))"
   ]
  },
  {
   "cell_type": "code",
   "execution_count": 83,
   "metadata": {},
   "outputs": [
    {
     "name": "stdout",
     "output_type": "stream",
     "text": [
      "['reading transducer from file \"/usr/local/bin/latmor/latmor.a\"...',\n",
      " 'finished.',\n",
      " '> atque',\n",
      " 'atque<CONJ>',\n",
      " 'at<PREP> que<PART>',\n",
      " 'at<CONJ> que<PART>']\n"
     ]
    }
   ],
   "source": [
    "test = 'atque'\n",
    "cmd = f'echo {test} | fst-infl /usr/local/bin/latmor/latmor.a'\n",
    "result = !$cmd\n",
    "\n",
    "pprint(result)"
   ]
  },
  {
   "cell_type": "code",
   "execution_count": 8,
   "metadata": {},
   "outputs": [],
   "source": [
    "results = [r.split('<')[0] for r in result if r.endswith('>')]"
   ]
  },
  {
   "cell_type": "code",
   "execution_count": 9,
   "metadata": {},
   "outputs": [
    {
     "name": "stdout",
     "output_type": "stream",
     "text": [
      "['amare', 'amor', 'amor']\n"
     ]
    }
   ],
   "source": [
    "pprint(results)"
   ]
  },
  {
   "cell_type": "markdown",
   "metadata": {},
   "source": [
    "## Working with *LatMor* and ```subprocess```"
   ]
  },
  {
   "cell_type": "code",
   "execution_count": 13,
   "metadata": {},
   "outputs": [],
   "source": [
    "token = 'amor'\n",
    "cmd1 = f'echo {token}'\n",
    "cmd2 = '/usr/local/bin/fst-infl /usr/local/bin/latmor/latmor.a'"
   ]
  },
  {
   "cell_type": "code",
   "execution_count": 14,
   "metadata": {},
   "outputs": [
    {
     "name": "stdout",
     "output_type": "stream",
     "text": [
      "> amor\n",
      "amare<V><pres><ind><passive><sg><1>\n",
      "amor<N><masc><sg><nom>\n",
      "amor<N><masc><sg><voc>\n",
      "\n"
     ]
    }
   ],
   "source": [
    "p1 = subprocess.Popen(shlex.split(cmd1), stdout=subprocess.PIPE)\n",
    "p2 = subprocess.Popen(shlex.split(cmd2), stdin=p1.stdout, stdout=subprocess.PIPE)\n",
    "result = p2.communicate()[0].decode()\n",
    "print(result)"
   ]
  },
  {
   "cell_type": "code",
   "execution_count": 15,
   "metadata": {},
   "outputs": [
    {
     "name": "stdout",
     "output_type": "stream",
     "text": [
      "['amare', 'amor', 'amor']\n"
     ]
    }
   ],
   "source": [
    "_result = result.split('\\n')\n",
    "results = [r.split('<')[0] for r in _result if r.endswith('>')]\n",
    "print(results)"
   ]
  },
  {
   "cell_type": "code",
   "execution_count": 16,
   "metadata": {},
   "outputs": [],
   "source": [
    "def _choose_weighted_lemmas(lemmas):\n",
    "    \"\"\"\"\"\"\n",
    "    \n",
    "    c = Counter(lemmas)\n",
    "    weights = [(i, c[i] / len(lemmas) * 100.0) for i in c]\n",
    "    if weights:\n",
    "        return max(weights,key=lambda item:item[1])[0]\n",
    "    else:\n",
    "        return None\n",
    "\n",
    "def lm_lemmatize(token):\n",
    "    cmd1 = f'echo {token}'\n",
    "    cmd2 = '/usr/local/bin/fst-infl /usr/local/bin/latmor/latmor.a'\n",
    "    p1 = subprocess.Popen(shlex.split(cmd1), stdout=subprocess.PIPE)\n",
    "    p2 = subprocess.Popen(shlex.split(cmd2), stdin=p1.stdout, stdout=subprocess.PIPE)\n",
    "    result = p2.communicate()[0].decode()\n",
    "    _result = result.split('\\n')\n",
    "    results = [r.split('<')[0] for r in _result if r.endswith('>')]\n",
    "    return _choose_weighted_lemmas(results)"
   ]
  },
  {
   "cell_type": "code",
   "execution_count": 17,
   "metadata": {},
   "outputs": [
    {
     "name": "stdout",
     "output_type": "stream",
     "text": [
      "amor\n",
      "CPU times: user 4.18 ms, sys: 8.25 ms, total: 12.4 ms\n",
      "Wall time: 76.5 ms\n"
     ]
    }
   ],
   "source": [
    "%%time\n",
    "\n",
    "print(lm_lemmatize('amor'))"
   ]
  },
  {
   "cell_type": "markdown",
   "metadata": {},
   "source": [
    "## Set up batch fst-infl"
   ]
  },
  {
   "cell_type": "code",
   "execution_count": 18,
   "metadata": {},
   "outputs": [],
   "source": [
    "text = 'arma virumque cano'"
   ]
  },
  {
   "cell_type": "code",
   "execution_count": 199,
   "metadata": {},
   "outputs": [],
   "source": [
    "def lm_lemmatize_batch(tokens):\n",
    "    text = '\\n'.join([token.lower() for token in tokens])\n",
    "    cmd1 = ['echo', text]\n",
    "    cmd2 = '/usr/local/bin/fst-infl /usr/local/bin/latmor/latmor.a'\n",
    "    p1 = subprocess.Popen(cmd1, stdout=subprocess.PIPE)\n",
    "    p2 = subprocess.Popen(shlex.split(cmd2), stdin=p1.stdout, stdout=subprocess.PIPE)\n",
    "    result = p2.communicate()[0].decode()\n",
    "    results = result.split('> ')[1:]\n",
    "    lemmas = []\n",
    "    for result in results[25:26]:\n",
    "        if result:\n",
    "            print(result)\n",
    "            form = result.split('\\n')[0]\n",
    "            _lemmas = [r.split('<')[0] for r in result.split('\\n') if r.endswith('>')]\n",
    "            print(_lemmas)\n",
    "            #if form == 'atque':\n",
    "                #print(result)\n",
    "            if _lemmas:\n",
    "                lemmas.append(_lemmas)\n",
    "            else:\n",
    "                lemmas.append([form])\n",
    "    return [_choose_weighted_lemmas(lemma) for lemma in lemmas]"
   ]
  },
  {
   "cell_type": "code",
   "execution_count": 200,
   "metadata": {},
   "outputs": [
    {
     "name": "stdout",
     "output_type": "stream",
     "text": [
      "atque\n",
      "atque<CONJ>\n",
      "at<PREP\n",
      "['atque']\n",
      "CPU times: user 5.79 ms, sys: 7.28 ms, total: 13.1 ms\n",
      "Wall time: 517 ms\n"
     ]
    }
   ],
   "source": [
    "%%time\n",
    "\n",
    "results = lm_lemmatize_batch(tokenizer.tokenize(text))"
   ]
  },
  {
   "cell_type": "code",
   "execution_count": 201,
   "metadata": {},
   "outputs": [
    {
     "name": "stdout",
     "output_type": "stream",
     "text": [
      "['atque']\n"
     ]
    }
   ],
   "source": [
    "pprint(results)"
   ]
  },
  {
   "cell_type": "code",
   "execution_count": 178,
   "metadata": {},
   "outputs": [],
   "source": [
    "# Set up test text\n",
    "\n",
    "# Sall. Bell. Cat. 1\n",
    "text = \"\"\"Omnis homines, qui sese student praestare ceteris animalibus, summa ope niti decet, ne vitam silentio transeant veluti pecora, quae natura prona atque ventri oboedientia finxit. Sed nostra omnis vis in animo et corpore sita est: animi imperio, corporis servitio magis utimur; alterum nobis cum dis, alterum cum beluis commune est. Quo mihi rectius videtur ingeni quam virium opibus gloriam quaerere et, quoniam vita ipsa, qua fruimur, brevis est, memoriam nostri quam maxume longam efficere. Nam divitiarum et formae gloria fluxa atque fragilis est, virtus clara aeternaque habetur. Sed diu magnum inter mortalis certamen fuit, vine corporis an virtute animi res militaris magis procederet. Nam et, prius quam incipias, consulto et, ubi consulueris, mature facto opus est. Ita utrumque per se indigens alterum alterius auxilio eget.\n",
    "\"\"\""
   ]
  },
  {
   "cell_type": "code",
   "execution_count": 179,
   "metadata": {},
   "outputs": [
    {
     "name": "stdout",
     "output_type": "stream",
     "text": [
      "que<PART>\n",
      "> ventri\n",
      "venter<N><masc><sg><dat>\n",
      "> oboedientia\n",
      "oboedire<V><part><pres><active><neut><pl><nom>\n",
      "oboedire<V><part><pres><active><neut><pl><acc>\n",
      "oboedire<V><part><pres><active><neut><pl><voc>\n",
      "oboediens<ADJ><positive><neut><pl><nom>\n",
      "oboediens<ADJ><positive><neut><pl><acc>\n",
      "oboediens<ADJ><positive><neut><pl><voc>\n",
      "oboedientia<N><fem><sg><nom>\n",
      "oboedientia<N><fem><sg><abl>\n",
      "oboedientia<N><fem><sg><voc>\n",
      "> finxit\n",
      "fingere<V><perf><ind><active><sg><3>\n",
      "> .\n",
      "no result for .\n",
      "> sed\n",
      "sed<CONJ>\n",
      "> nostra\n",
      "noster<PRO><poss><fem><sg><nom>\n",
      "noster<PRO><poss><fem><sg><abl>\n",
      "noster<PRO><poss><fem><sg><voc>\n",
      "noster<PRO><poss><neut><pl><nom>\n",
      "noster<PRO><poss><neut><pl><acc>\n",
      "noster<PRO><poss><neut><pl><voc>\n",
      "> omnis\n",
      "omnis<ADJ><positive><masc><sg><nom>\n",
      "omnis<ADJ><positive><masc><sg><gen>\n",
      "omnis<ADJ><positive><masc><sg><voc>\n",
      "omnis<ADJ><positive><masc><pl><acc><alt>\n",
      "omnis<ADJ><positive><fem><sg><nom>\n",
      "omnis<ADJ><positive><fem><sg><gen>\n",
      "omnis<ADJ><positive><fem><sg><voc>\n",
      "omnis<ADJ><positive><fem><pl><acc><alt>\n",
      "omnis<ADJ><positive><neut><sg><gen>\n",
      "> vis\n",
      "velle<V><pres><ind><active><sg><2>\n",
      "vis<N><fem><sg><nom>\n",
      "vis<N><fem><sg><voc>\n",
      "> in\n",
      "in<PREP>\n",
      "> animo\n",
      "animare<V><pres><ind><active><sg><1>\n",
      "animus<N><masc><sg><dat>\n",
      "animus<N><masc><sg><abl>\n",
      "> et\n",
      "et<CONJ>\n",
      "> corpore\n",
      "corpus<N><neut><sg><abl>\n",
      "> sita\n",
      "sinere<V><part><perf><passive><fem><sg><nom>\n",
      "sinere<V><part><perf><passive><fem><sg><abl>\n",
      "sinere<V><part><perf><passive><fem><sg><voc>\n",
      "sinere<V><part><perf><passive><neut><pl><nom>\n",
      "sinere<V><part><perf><passive><neut><pl><acc>\n",
      "sinere<V><part><perf><passive><neut><pl><voc>\n",
      "situs<ADJ><positive><fem><sg><nom>\n",
      "situs<ADJ><positive><fem><sg><abl>\n",
      "situs<ADJ><positive><fem><sg><voc>\n",
      "situs<ADJ><positive><neut><pl><nom>\n",
      "situs<ADJ><positive><neut><pl><acc>\n",
      "situs<ADJ><positive><neut><pl><voc>\n",
      "> est\n",
      "esse<V><pres><ind><active><sg><3>\n",
      "> :\n",
      "no result for :\n",
      "> animi\n",
      "animus<N><masc><sg><gen>\n",
      "animus<N><masc><pl><nom>\n",
      "animus<N><masc><pl><voc>\n",
      "> imperio\n",
      "imperium<N><neut><sg><dat>\n",
      "imperium<N><neut><sg><abl>\n",
      "> ,\n",
      "no result for ,\n",
      "> corporis\n",
      "corpus<N><neut><sg><gen>\n",
      "> servitio\n",
      "servitium<N><neut><sg><dat>\n",
      "servitium<N><neut><sg><abl>\n",
      "> magis\n",
      "maga<N><fem><pl><dat>\n",
      "maga<N><fem><pl><abl>\n",
      "magis<N><fem><sg><nom>\n",
      "magis<N><fem><sg><voc><alt>\n",
      "magis<ADV>\n",
      "magus<ADJ><positive><masc><pl><dat>\n",
      "magus<ADJ><positive><masc><pl><abl>\n",
      "magus<ADJ><positive><fem><pl><dat>\n",
      "magus<ADJ><positive><fem><pl><abl>\n",
      "magus<ADJ><positive><neut><pl><dat>\n",
      "magus<ADJ><positive><neut><pl><abl>\n",
      "magus<N><masc><pl><dat>\n",
      "magus<N><masc><pl><abl>\n",
      "> utimur\n",
      "utere<V><pres><ind><passive><pl><1>\n",
      "uti<V><pres><ind><deponens><pl><1>\n",
      "> ;\n",
      "no result for ;\n",
      "> alterum\n",
      "alter<ADJ><positive><masc><sg><acc>\n",
      "alter<ADJ><positive><neut><sg><nom>\n",
      "alter<ADJ><positive><neut><sg><acc>\n",
      "alter<ADJ><positive><neut><sg><voc>\n",
      "alter<PRO><adj><masc><sg><acc>\n",
      "alter<PRO><adj><neut><sg><nom>\n",
      "alter<PRO><adj><neut><sg><acc>\n",
      "> nobis\n",
      "ego<PRO><pers><1><pl><dat>\n",
      "ego<PRO><pers><1><pl><abl>\n",
      "ego<PRO><refl><1><pl><dat>\n",
      "ego<PRO><refl><1><pl><abl>\n",
      "> cum\n",
      "cum<PREP>\n",
      "cum<CONJ>\n",
      "> dis\n",
      "deus<N><masc><pl><dat><alt>\n",
      "deus<N><masc><pl><abl><alt>\n",
      "dis<ADJ><positive><masc><sg><nom>\n",
      "dis<ADJ><positive><masc><sg><voc>\n",
      "dis<ADJ><positive><fem><sg><nom>\n",
      "dis<ADJ><positive><fem><sg><voc>\n",
      "dis<ADJ><positive><neut><sg><nom>\n",
      "dis<ADJ><positive><neut><sg><acc>\n",
      "dis<ADJ><positive><neut><sg><voc>\n",
      "> ,\n",
      "no result for ,\n",
      "> alterum\n",
      "alter<ADJ><positive><masc><sg><acc>\n",
      "alter<ADJ><positive><neut><sg><nom>\n",
      "alter<ADJ><positive><neut><sg><acc>\n",
      "alter<ADJ><positive><neut><sg><voc>\n",
      "alter<PRO><adj><masc><sg><acc>\n",
      "alter<PRO><adj><neut><sg><nom>\n",
      "alter<PRO><adj><neut><sg><acc>\n",
      "> cum\n",
      "cum<PREP>\n",
      "cum<CONJ>\n",
      "> beluis\n",
      "belua<N><fem><pl><dat>\n",
      "belua<N><fem><pl><abl>\n",
      "beluus<ADJ><positive><masc><pl><dat>\n",
      "beluus<ADJ><positive><masc><pl><abl>\n",
      "beluus<ADJ><positive><fem><pl><dat>\n",
      "beluus<ADJ><positive><fem><pl><abl>\n",
      "beluus<ADJ><positive><neut><pl><dat>\n",
      "beluus<ADJ><positive><neut><pl><abl>\n",
      "beluus<N><masc><pl><dat>\n",
      "beluus<N><masc><pl><abl>\n",
      "> commune\n",
      "commune<N><neut><sg><nom>\n",
      "commune<N><neut><sg><acc>\n",
      "commune<N><neut><sg><voc>\n",
      "communis<ADJ><positive><neut><sg><nom>\n",
      "communis<ADJ><positive><neut><sg><acc>\n",
      "communis<ADJ><positive><neut><sg><voc>\n",
      "> est\n",
      "esse<V><pres><ind><active><sg><3>\n",
      "> .\n",
      "no result for .\n",
      "> quo\n",
      "quis<PRO><quest><masc><sg><abl>\n",
      "quis<PRO><quest><neut><sg><abl>\n",
      "quis<PRO><indef><masc><sg><abl>\n",
      "quis<PRO><indef><neut><sg><abl>\n",
      "qui<PRO><rel><masc><sg><abl>\n",
      "qui<PRO><rel><neut><sg><abl>\n",
      "qui<PRO><indef><masc><sg><abl>\n",
      "qui<PRO><indef><neut><sg><abl>\n",
      "quo<ADV>\n",
      "quo<CONJ>\n",
      "> mihi\n",
      "ego<PRO><pers><1><sg><dat>\n",
      "ego<PRO><refl><1><sg><dat>\n",
      "> rectius\n",
      "rectus<ADJ><comparative><ADV>\n",
      "rectus<ADJ><comparative><neut><sg><nom>\n",
      "rectus<ADJ><comparative><neut><sg><acc>\n",
      "rectus<ADJ><comparative><neut><sg><voc>\n",
      "> videtur\n",
      "videre<V><pres><ind><passive><sg><3>\n",
      "videri<V><pres><ind><deponens><sg><3>\n",
      "> ingeni\n",
      "ingenium<N><neut><sg><gen><alt>\n",
      "> quam\n",
      "quam<ADV>\n",
      "quis<PRO><quest><fem><sg><acc>\n",
      "quis<PRO><indef><fem><sg><acc>\n",
      "qui<PRO><rel><fem><sg><acc>\n",
      "qui<PRO><indef><fem><sg><acc>\n",
      "> virium\n",
      "vis<N><fem><pl><gen>\n",
      "> opibus\n",
      "ops<N><fem><pl><dat>\n",
      "ops<N><fem><pl><abl>\n",
      "> gloriam\n",
      "gloria<N><fem><sg><acc>\n",
      "glorius<ADJ><positive><fem><sg><acc>\n",
      "> quaerere\n",
      "quaerere<V><pres><ind><passive><sg><2><alt>\n",
      "quaerere<V><pres><inf><active>\n",
      "quaerere<V><pres><imp><passive><sg><2>\n",
      "quaerere<V><futureI><ind><passive><sg><2><alt>\n",
      "> et\n",
      "et<CONJ>\n",
      "> ,\n",
      "no result for ,\n",
      "> quoniam\n",
      "quoniam<ADV>\n",
      "quoniam<CONJ>\n",
      "> vita\n",
      "vitare<V><pres><imp><active><sg><2>\n",
      "vita<N><fem><sg><nom>\n",
      "vita<N><fem><sg><abl>\n",
      "vita<N><fem><sg><voc>\n",
      "> ipsa\n",
      "ipse<PRO><dem><fem><sg><nom>\n",
      "ipse<PRO><dem><fem><sg><abl>\n",
      "ipse<PRO><dem><neut><pl><nom>\n",
      "ipse<PRO><dem><neut><pl><acc>\n",
      "> ,\n",
      "no result for ,\n",
      "> qua\n",
      "qua<ADV>\n",
      "quis<PRO><quest><fem><sg><nom><alt>\n",
      "quis<PRO><quest><fem><sg><abl>\n",
      "quis<PRO><indef><fem><sg><nom><alt>\n",
      "quis<PRO><indef><fem><sg><abl>\n",
      "qui<PRO><rel><fem><sg><abl>\n",
      "qui<PRO><indef><fem><sg><nom><alt>\n",
      "qui<PRO><indef><fem><sg><abl>\n",
      "qui<PRO><indef><neut><pl><nom>\n",
      "qui<PRO><indef><neut><pl><acc>\n",
      "> fruimur\n",
      "frui<V><pres><ind><deponens><pl><1>\n",
      "> ,\n",
      "no result for ,\n",
      "> brevis\n",
      "breve<N><neut><sg><gen>\n",
      "brevis<ADJ><positive><masc><sg><nom>\n",
      "brevis<ADJ><positive><masc><sg><gen>\n",
      "brevis<ADJ><positive><masc><sg><voc>\n",
      "brevis<ADJ><positive><masc><pl><acc><alt>\n",
      "brevis<ADJ><positive><fem><sg><nom>\n",
      "brevis<ADJ><positive><fem><sg><gen>\n",
      "brevis<ADJ><positive><fem><sg><voc>\n",
      "brevis<ADJ><positive><fem><pl><acc><alt>\n",
      "brevis<ADJ><positive><neut><sg><gen>\n",
      "brevis<N><fem><sg><nom>\n",
      "brevis<N><fem><sg><gen>\n",
      "brevis<N><fem><sg><voc>\n",
      "brevis<N><fem><pl><acc><alt>\n",
      "> est\n",
      "esse<V><pres><ind><active><sg><3>\n",
      "> ,\n",
      "no result for ,\n",
      "> memoriam\n",
      "memoria<N><fem><sg><acc>\n",
      "> nostri\n",
      "noster<PRO><poss><masc><sg><gen>\n",
      "noster<PRO><poss><masc><pl><nom>\n",
      "noster<PRO><poss><masc><pl><voc>\n",
      "noster<PRO><poss><neut><sg><gen>\n",
      "ego<PRO><pers><1><pl><gen>\n",
      "ego<PRO><refl><1><pl><gen>\n",
      "> quam\n",
      "quam<ADV>\n",
      "quis<PRO><quest><fem><sg><acc>\n",
      "quis<PRO><indef><fem><sg><acc>\n",
      "qui<PRO><rel><fem><sg><acc>\n",
      "qui<PRO><indef><fem><sg><acc>\n",
      "> maxume\n",
      "maxume<ADV>\n",
      "maxumus<ADJ><positive><ADV>\n",
      "maxumus<ADJ><positive><masc><sg><voc>\n",
      "> longam\n",
      "longa<N><fem><sg><acc>\n",
      "longus<ADJ><positive><fem><sg><acc>\n",
      "> efficere\n",
      "efficere<V><pres><ind><passive><sg><2><alt>\n",
      "efficere<V><pres><inf><active>\n",
      "efficere<V><pres><imp><passive><sg><2>\n",
      "> .\n",
      "no result for .\n",
      "> nam\n",
      "nam<CONJ>\n",
      "> divitiarum\n",
      "divitiae<N><fem><pl><gen>\n",
      "divitia<N><fem><pl><gen>\n",
      "> et\n",
      "et<CONJ>\n",
      "> formae\n",
      "forma<N><fem><sg><gen>\n",
      "forma<N><fem><sg><dat>\n",
      "forma<N><fem><pl><nom>\n",
      "forma<N><fem><pl><voc>\n",
      "formus<ADJ><positive><fem><sg><gen>\n",
      "formus<ADJ><positive><fem><sg><dat>\n",
      "formus<ADJ><positive><fem><pl><nom>\n",
      "formus<ADJ><positive><fem><pl><voc>\n",
      "> gloria\n",
      "gloria<N><fem><sg><nom>\n",
      "gloria<N><fem><sg><abl>\n",
      "gloria<N><fem><sg><voc>\n",
      "glorius<ADJ><positive><fem><sg><nom>\n",
      "glorius<ADJ><positive><fem><sg><abl>\n",
      "glorius<ADJ><positive><fem><sg><voc>\n",
      "glorius<ADJ><positive><neut><pl><nom>\n",
      "glorius<ADJ><positive><neut><pl><acc>\n",
      "glorius<ADJ><positive><neut><pl><voc>\n",
      "> fluxa\n",
      "fluxus<ADJ><positive><fem><sg><nom>\n",
      "fluxus<ADJ><positive><fem><sg><abl>\n",
      "fluxus<ADJ><positive><fem><sg><voc>\n",
      "fluxus<ADJ><positive><neut><pl><nom>\n",
      "fluxus<ADJ><positive><neut><pl><acc>\n",
      "fluxus<ADJ><positive><neut><pl><voc>\n",
      "> atque\n",
      "atque<CONJ>\n",
      "at<PREP\n",
      "['que', 'venter', 'oboedire', 'oboedire', 'oboedire', 'oboediens', 'oboediens', 'oboediens', 'oboedientia', 'oboedientia', 'oboedientia', 'fingere', 'sed', 'noster', 'noster', 'noster', 'noster', 'noster', 'noster', 'omnis', 'omnis', 'omnis', 'omnis', 'omnis', 'omnis', 'omnis', 'omnis', 'omnis', 'velle', 'vis', 'vis', 'in', 'animare', 'animus', 'animus', 'et', 'corpus', 'sinere', 'sinere', 'sinere', 'sinere', 'sinere', 'sinere', 'situs', 'situs', 'situs', 'situs', 'situs', 'situs', 'esse', 'animus', 'animus', 'animus', 'imperium', 'imperium', 'corpus', 'servitium', 'servitium', 'maga', 'maga', 'magis', 'magis', 'magis', 'magus', 'magus', 'magus', 'magus', 'magus', 'magus', 'magus', 'magus', 'utere', 'uti', 'alter', 'alter', 'alter', 'alter', 'alter', 'alter', 'alter', 'ego', 'ego', 'ego', 'ego', 'cum', 'cum', 'deus', 'deus', 'dis', 'dis', 'dis', 'dis', 'dis', 'dis', 'dis', 'alter', 'alter', 'alter', 'alter', 'alter', 'alter', 'alter', 'cum', 'cum', 'belua', 'belua', 'beluus', 'beluus', 'beluus', 'beluus', 'beluus', 'beluus', 'beluus', 'beluus', 'commune', 'commune', 'commune', 'communis', 'communis', 'communis', 'esse', 'quis', 'quis', 'quis', 'quis', 'qui', 'qui', 'qui', 'qui', 'quo', 'quo', 'ego', 'ego', 'rectus', 'rectus', 'rectus', 'rectus', 'videre', 'videri', 'ingenium', 'quam', 'quis', 'quis', 'qui', 'qui', 'vis', 'ops', 'ops', 'gloria', 'glorius', 'quaerere', 'quaerere', 'quaerere', 'quaerere', 'et', 'quoniam', 'quoniam', 'vitare', 'vita', 'vita', 'vita', 'ipse', 'ipse', 'ipse', 'ipse', 'qua', 'quis', 'quis', 'quis', 'quis', 'qui', 'qui', 'qui', 'qui', 'qui', 'frui', 'breve', 'brevis', 'brevis', 'brevis', 'brevis', 'brevis', 'brevis', 'brevis', 'brevis', 'brevis', 'brevis', 'brevis', 'brevis', 'brevis', 'esse', 'memoria', 'noster', 'noster', 'noster', 'noster', 'ego', 'ego', 'quam', 'quis', 'quis', 'qui', 'qui', 'maxume', 'maxumus', 'maxumus', 'longa', 'longus', 'efficere', 'efficere', 'efficere', 'nam', 'divitiae', 'divitia', 'et', 'forma', 'forma', 'forma', 'forma', 'formus', 'formus', 'formus', 'formus', 'gloria', 'gloria', 'gloria', 'glorius', 'glorius', 'glorius', 'glorius', 'glorius', 'glorius', 'fluxus', 'fluxus', 'fluxus', 'fluxus', 'fluxus', 'fluxus', 'atque']\n",
      "que<PART>\n",
      "at<CONJ\n",
      "['que']\n",
      "que<PART>\n",
      "> fragilis\n",
      "fragilis<ADJ><positive><masc><sg><nom>\n",
      "fragilis<ADJ><positive><masc><sg><gen>\n",
      "fragilis<ADJ><positive><masc><sg><voc>\n",
      "fragilis<ADJ><positive><masc><pl><acc><alt>\n",
      "fragilis<ADJ><positive><fem><sg><nom>\n",
      "fragilis<ADJ><positive><fem><sg><gen>\n",
      "fragilis<ADJ><positive><fem><sg><voc>\n",
      "fragilis<ADJ><positive><fem><pl><acc><alt>\n",
      "fragilis<ADJ><positive><neut><sg><gen>\n",
      "> est\n",
      "esse<V><pres><ind><active><sg><3>\n",
      "> ,\n",
      "no result for ,\n",
      "> virtus\n",
      "virtus<N><fem><sg><nom>\n",
      "virtus<N><fem><sg><voc>\n",
      "> clara\n",
      "clarare<V><pres><imp><active><sg><2>\n",
      "clarus<ADJ><positive><fem><sg><nom>\n",
      "clarus<ADJ><positive><fem><sg><abl>\n",
      "clarus<ADJ><positive><fem><sg><voc>\n",
      "clarus<ADJ><positive><neut><pl><nom>\n",
      "clarus<ADJ><positive><neut><pl><acc>\n",
      "clarus<ADJ><positive><neut><pl><voc>\n",
      "> aeterna\n",
      "aeternare<V><pres><imp><active><sg><2>\n",
      "aeternus<ADJ><positive><fem><sg><nom>\n",
      "aeternus<ADJ><positive><fem><sg><abl>\n",
      "aeternus<ADJ><positive><fem><sg><voc>\n",
      "aeternus<ADJ><positive><neut><pl><nom>\n",
      "aeternus<ADJ><positive><neut><pl><acc>\n",
      "aeternus<ADJ><positive><neut><pl><voc>\n",
      "> -que\n",
      "no result for -que\n",
      "> habetur\n",
      "habere<V><pres><ind><passive><sg><3>\n",
      "> .\n",
      "no result for .\n",
      "> sed\n",
      "sed<CONJ>\n",
      "> diu\n",
      "diu<N><neut>\n",
      "diu<ADV>\n",
      "> magnum\n",
      "magnus<ADJ><positive><masc><sg><acc>\n",
      "magnus<ADJ><positive><neut><sg><nom>\n",
      "magnus<ADJ><positive><neut><sg><acc>\n",
      "magnus<ADJ><positive><neut><sg><voc>\n",
      "> inter\n",
      "inter<PREP>\n",
      "> mortalis\n",
      "mortalis<ADJ><positive><masc><sg><nom>\n",
      "mortalis<ADJ><positive><masc><sg><gen>\n",
      "mortalis<ADJ><positive><masc><sg><voc>\n",
      "mortalis<ADJ><positive><masc><pl><acc><alt>\n",
      "mortalis<ADJ><positive><fem><sg><nom>\n",
      "mortalis<ADJ><positive><fem><sg><gen>\n",
      "mortalis<ADJ><positive><fem><sg><voc>\n",
      "mortalis<ADJ><positive><fem><pl><acc><alt>\n",
      "mortalis<ADJ><positive><neut><sg><gen>\n",
      "> certamen\n",
      "certamen<N><neut><sg><nom>\n",
      "certamen<N><neut><sg><acc>\n",
      "certamen<N><neut><sg><voc>\n",
      "> fuit\n",
      "esse<V><perf><ind><active><sg><3>\n",
      "> ,\n",
      "no result for ,\n",
      "> vine\n",
      "vis<N><fem><sg><abl\n",
      "['que', 'fragilis', 'fragilis', 'fragilis', 'fragilis', 'fragilis', 'fragilis', 'fragilis', 'fragilis', 'fragilis', 'esse', 'virtus', 'virtus', 'clarare', 'clarus', 'clarus', 'clarus', 'clarus', 'clarus', 'clarus', 'aeternare', 'aeternus', 'aeternus', 'aeternus', 'aeternus', 'aeternus', 'aeternus', 'habere', 'sed', 'diu', 'diu', 'magnus', 'magnus', 'magnus', 'magnus', 'inter', 'mortalis', 'mortalis', 'mortalis', 'mortalis', 'mortalis', 'mortalis', 'mortalis', 'mortalis', 'mortalis', 'certamen', 'certamen', 'certamen', 'esse']\n",
      "ne<PART>\n",
      "VI<NUM><card><dig\n",
      "['ne']\n",
      "ne<PART>\n",
      "> corporis\n",
      "corpus<N><neut><sg><gen>\n",
      "> an\n",
      "an<CONJ>\n",
      "> virtute\n",
      "virtus<N><fem><sg><abl>\n",
      "> animi\n",
      "animus<N><masc><sg><gen>\n",
      "animus<N><masc><pl><nom>\n",
      "animus<N><masc><pl><voc>\n",
      "> res\n",
      "res<N><fem><sg><nom>\n",
      "res<N><fem><sg><voc>\n",
      "res<N><fem><pl><nom>\n",
      "res<N><fem><pl><acc>\n",
      "res<N><fem><pl><voc>\n",
      "> militaris\n",
      "militare<V><pres><ind><passive><sg><2>\n",
      "militare<V><futureII><ind><active><sg><2><alt>\n",
      "militare<V><perf><subj><active><sg><2><alt>\n",
      "militaris<ADJ><positive><masc><sg><nom>\n",
      "militaris<ADJ><positive><masc><sg><gen>\n",
      "militaris<ADJ><positive><masc><sg><voc>\n",
      "militaris<ADJ><positive><masc><pl><acc><alt>\n",
      "militaris<ADJ><positive><fem><sg><nom>\n",
      "militaris<ADJ><positive><fem><sg><gen>\n",
      "militaris<ADJ><positive><fem><sg><voc>\n",
      "militaris<ADJ><positive><fem><pl><acc><alt>\n",
      "militaris<ADJ><positive><neut><sg><gen>\n",
      "> magis\n",
      "maga<N><fem><pl><dat>\n",
      "maga<N><fem><pl><abl>\n",
      "magis<N><fem><sg><nom>\n",
      "magis<N><fem><sg><voc><alt>\n",
      "magis<ADV>\n",
      "magus<ADJ><positive><masc><pl><dat>\n",
      "magus<ADJ><positive><masc><pl><abl>\n",
      "magus<ADJ><positive><fem><pl><dat>\n",
      "magus<ADJ><positive><fem><pl><abl>\n",
      "magus<ADJ><positive><neut><pl><dat>\n",
      "magus<ADJ><positive><neut><pl><abl>\n",
      "magus<N><masc><pl><dat>\n",
      "magus<N><masc><pl><abl>\n",
      "> procederet\n",
      "procedere<V><imperf><subj><active><sg><3>\n",
      "> .\n",
      "no result for .\n",
      "> nam\n",
      "nam<CONJ>\n",
      "> et\n",
      "et<CONJ>\n",
      "> ,\n",
      "no result for ,\n",
      "> prius\n",
      "prae<ADJ><comparative><ADV>\n",
      "prae<ADJ><comparative><neut><sg><nom>\n",
      "prae<ADJ><comparative><neut><sg><acc>\n",
      "prae<ADJ><comparative><neut><sg><voc>\n",
      "prior<ADJ><comparative><ADV>\n",
      "prior<ADJ><comparative><neut><sg><nom>\n",
      "prior<ADJ><comparative><neut><sg><acc>\n",
      "prior<ADJ><comparative><neut><sg><voc>\n",
      "prius<ADV>\n",
      "> quam\n",
      "quam<ADV>\n",
      "quis<PRO><quest><fem><sg><acc>\n",
      "quis<PRO><indef><fem><sg><acc>\n",
      "qui<PRO><rel><fem><sg><acc>\n",
      "qui<PRO><indef><fem><sg><acc>\n",
      "> incipias\n",
      "incipere<V><pres><subj><active><sg><2>\n",
      "> ,\n",
      "no result for ,\n",
      "> consulto\n",
      "consultare<V><pres><ind><active><sg><1>\n",
      "consulto<ADV>\n",
      "consultum<N><neut><sg><dat>\n",
      "consultum<N><neut><sg><abl>\n",
      "consultus<ADJ><positive><masc><sg><dat>\n",
      "consultus<ADJ><positive><masc><sg><abl>\n",
      "consultus<ADJ><positive><neut><sg><dat>\n",
      "consultus<ADJ><positive><neut><sg><abl>\n",
      "consulere<V><part><perf><passive><masc><sg><dat>\n",
      "consulere<V><part><perf><passive><masc><sg><abl>\n",
      "consulere<V><part><perf><passive><neut><sg><dat>\n",
      "consulere<V><part><perf><passive><neut><sg><abl>\n",
      "> et\n",
      "et<CONJ>\n",
      "> ,\n",
      "no result for ,\n",
      "> ubi\n",
      "ubi<ADV>\n",
      "ubi<ADV><quest>\n",
      "ubi<ADV><quest><alt>\n",
      "ubi<CONJ>\n",
      "> consulueris\n",
      "consulere<V><futureII><ind><active><sg><2>\n",
      "consulere<V><perf><subj><active><sg><2>\n",
      "> ,\n",
      "no result for ,\n",
      "> mature\n",
      "maturus<ADJ><positive><ADV>\n",
      "maturus<ADJ><positive><masc><sg><voc>\n",
      "> facto\n",
      "factare<V><pres><ind><active><sg><1>\n",
      "factum<N><neut><sg><dat>\n",
      "factum<N><neut><sg><abl>\n",
      "factus<ADJ><positive><masc><sg><dat>\n",
      "factus<ADJ><positive><masc><sg><abl>\n",
      "factus<ADJ><positive><neut><sg><dat>\n",
      "factus<ADJ><positive><neut><sg><abl>\n",
      "facere<V><part><perf><passive><masc><sg><dat>\n",
      "facere<V><part><perf><passive><masc><sg><abl>\n",
      "facere<V><part><perf><passive><neut><sg><dat>\n",
      "facere<V><part><perf><passive><neut><sg><abl>\n",
      "> opus\n",
      "opus<N><neut>\n",
      "opus<N><neut><sg><nom>\n",
      "opus<N><neut><sg><acc>\n",
      "opus<N><neut><sg><voc>\n",
      "> est\n",
      "esse<V><pres><ind><active><sg><3>\n",
      "> .\n",
      "no result for .\n",
      "> ita\n",
      "itare<V><pres><imp><active><sg><2>\n",
      "ita<ADV>\n",
      "iton<N><neut><pl><nom>\n",
      "iton<N><neut><pl><acc>\n",
      "iton<N><neut><pl><voc>\n",
      "> utrumque\n",
      "utrumque<ADV>\n",
      "utrum<ADV\n",
      "['ne', 'corpus', 'an', 'virtus', 'animus', 'animus', 'animus', 'res', 'res', 'res', 'res', 'res', 'militare', 'militare', 'militare', 'militaris', 'militaris', 'militaris', 'militaris', 'militaris', 'militaris', 'militaris', 'militaris', 'militaris', 'maga', 'maga', 'magis', 'magis', 'magis', 'magus', 'magus', 'magus', 'magus', 'magus', 'magus', 'magus', 'magus', 'procedere', 'nam', 'et', 'prae', 'prae', 'prae', 'prae', 'prior', 'prior', 'prior', 'prior', 'prius', 'quam', 'quis', 'quis', 'qui', 'qui', 'incipere', 'consultare', 'consulto', 'consultum', 'consultum', 'consultus', 'consultus', 'consultus', 'consultus', 'consulere', 'consulere', 'consulere', 'consulere', 'et', 'ubi', 'ubi', 'ubi', 'ubi', 'consulere', 'consulere', 'maturus', 'maturus', 'factare', 'factum', 'factum', 'factus', 'factus', 'factus', 'factus', 'facere', 'facere', 'facere', 'facere', 'opus', 'opus', 'opus', 'opus', 'esse', 'itare', 'ita', 'iton', 'iton', 'iton', 'utrumque']\n",
      "que<PART>\n",
      "uterque<PRO><indef><masc><sg><acc>\n",
      "uterque<PRO><indef><neut><sg><nom>\n",
      "uterque<PRO><indef><neut><sg><acc>\n",
      "uter<N><masc><pl><gen\n",
      "['que', 'uterque', 'uterque', 'uterque']\n",
      "que<PART>\n",
      "uter<PRO><quest><masc><sg><acc\n",
      "['que']\n",
      "que<PART>\n",
      "uter<PRO><quest><neut><sg><nom\n",
      "['que']\n",
      "que<PART>\n",
      "uter<PRO><quest><neut><sg><acc\n",
      "['que']\n",
      "CPU times: user 9.28 ms, sys: 7.58 ms, total: 16.9 ms\n",
      "Wall time: 292 ms\n"
     ]
    }
   ],
   "source": [
    "%%time\n",
    "\n",
    "tokens = tokenizer.tokenize(text)\n",
    "lemmas = lm_lemmatize_batch(tokens)"
   ]
  },
  {
   "cell_type": "code",
   "execution_count": 174,
   "metadata": {},
   "outputs": [
    {
     "name": "stdout",
     "output_type": "stream",
     "text": [
      "151\n",
      "9\n",
      "['homo', ',', 'qui', 'sese', 'studere', 'praestare', 'ceterus', 'animalis', ',']\n"
     ]
    }
   ],
   "source": [
    "print(len(tokens))\n",
    "print(len(lemmas))\n",
    "print(lemmas)"
   ]
  },
  {
   "cell_type": "markdown",
   "metadata": {},
   "source": [
    "## Performance"
   ]
  },
  {
   "cell_type": "code",
   "execution_count": 66,
   "metadata": {},
   "outputs": [],
   "source": [
    "# Tagging performance on the entirety of Sallust's *Bellum Catilinum*\n",
    "\n",
    "from cltk.corpus.latin import latinlibrary\n",
    "bc = latinlibrary.raw('sall.1.txt')\n",
    "bc = bc[bc.find('[1]'):bc.find('Sallust The Latin Library The Classics Page')]"
   ]
  },
  {
   "cell_type": "code",
   "execution_count": 261,
   "metadata": {},
   "outputs": [],
   "source": [
    "# Script for preprocessing texts\n",
    "\n",
    "import html\n",
    "import re\n",
    "import string\n",
    "from cltk.stem.latin.j_v import JVReplacer\n",
    "\n",
    "def preprocess(text):\n",
    "    \n",
    "    replacer = JVReplacer()\n",
    "    \n",
    "    text = html.unescape(text) # Handle html entities\n",
    "    text = re.sub(r'&nbsp;?', ' ',text) #&nbsp; stripped incorrectly in corpus?\n",
    "    text = re.sub(r'\\x00',' ',text) #Another space problem?\n",
    "        \n",
    "    text = text.lower()\n",
    "    text = replacer.replace(text) #Normalize u/v & i/j    \n",
    "    \n",
    "    punctuation =\"\\\"#$%&\\'()*+,-/:;<=>@[\\]^_`{|}~.?!«»—\"\n",
    "    translator = str.maketrans({key: \" \" for key in punctuation})\n",
    "    text = text.translate(translator)\n",
    "    \n",
    "    translator = str.maketrans({key: \" \" for key in '0123456789'})\n",
    "    text = text.translate(translator)\n",
    "    \n",
    "    text = re.sub('[ ]+',' ', text) # Remove double spaces\n",
    "    text = re.sub('\\s+\\n+\\s+','\\n', text) # Remove double lines and trim spaces around new lines\n",
    "    \n",
    "    return text.strip()"
   ]
  },
  {
   "cell_type": "code",
   "execution_count": 262,
   "metadata": {},
   "outputs": [],
   "source": [
    "# Preprocess text\n",
    "\n",
    "bc = preprocess(bc)"
   ]
  },
  {
   "cell_type": "code",
   "execution_count": 263,
   "metadata": {},
   "outputs": [
    {
     "name": "stdout",
     "output_type": "stream",
     "text": [
      "CPU times: user 369 ms, sys: 77 ms, total: 446 ms\n",
      "Wall time: 8.81 s\n"
     ]
    }
   ],
   "source": [
    "%%time\n",
    "\n",
    "results = lm_lemmatize_batch(tokenizer.tokenize(bc))"
   ]
  },
  {
   "cell_type": "code",
   "execution_count": 264,
   "metadata": {},
   "outputs": [
    {
     "name": "stdout",
     "output_type": "stream",
     "text": [
      "['omnis', 'homo', 'qui', 'sese', 'studere', 'praestare', 'ceterus', 'animalis', 'summus', 'ops', 'niti', 'decere', 'ne', None, 'silentium', 'transire', None, 'pecus', 'qui', 'nare', 'pronus', 'at', None, 'oboedire', 'fingere', 'sed', 'noster', 'omnis', None, 'in', 'animus', 'et', 'corpus', 'sinere', 'esse', 'animus', 'imperium', 'corpus', None, 'magus', 'utere', 'alter', 'ego', 'cum', 'dis', 'alter', 'cum', 'beluus', 'commune', 'esse', 'quis', 'ego', 'rectus', None, 'ingenium', 'quis', None, 'ops', 'gloria', 'quaerere', 'et', 'quoniam', None, 'ipse', 'qui', 'frui', None, 'esse', 'memoria', 'noster', 'quis', 'maxumus', 'longa', 'efficere', 'nam', None, 'et', 'forma', 'glorius', 'fluxus', 'at', 'fragilis', 'esse', None, 'clarus', 'aeternus', None, 'habere', 'sed', 'diu', 'magnus', 'inter', 'mortalis', 'certamen', 'esse', None, 'corpus', 'an', None, 'animus', 'res', 'militaris', 'magus', 'procedere', 'nam', 'et', 'prae', 'quis', 'incipere', 'consultus', 'et', 'ubi', 'consulere', 'maturus', 'factus', 'opus', 'esse', 'iton', 'uter', 'per', 'se', 'indigens', 'alter', 'alter', 'auxilium', 'egere', 'igitur', 'initium', 'rex', 'nam', 'in', 'terra', 'nomen', 'imperium', 'is', 'primus', 'esse', None, 'pars', 'ingenium', 'alius', 'corpus', 'exercere', 'etiam', 'tum', None, 'homo', 'sinere', 'cupiditas', 'agitare', 'suus', 'quis', 'satus', 'placere', 'postea', None, 'quis', 'in', 'asia', None, 'in', None, None, 'et', None, 'coepere', 'urbs', 'at', 'natio', 'subigere', 'lubido', 'dominare', 'causa', 'bellus', 'habere', 'maxumus', 'gloria', 'in', 'maxumus', 'imperium', 'putare', 'tum', 'demum', 'periculum', 'at', 'negotium', 'comperire', 'esse', 'in', 'bellus', None, 'ingenium', 'posse', 'qui', 'sium', 'rex', 'at', 'imperare', 'animus', None, 'in', 'pacere', 'iton', 'ut', 'in', 'bellus', None, 'aequabilis', 'at', 'constans', 'sese', 'res', 'humanus', 'habere', 'ne', 'alius', 'alium', 'ferre', 'ne', 'mutare', 'ac', 'miscere', 'omnis', 'cernere', 'nam', 'imperium', 'facilis', 'is', 'ars', 'retinere', 'quis', 'initium', 'parere', 'esse', None, 'ubi', 'pro', 'labor', 'deses', 'pro', 'continentia', 'et', 'aequitas', 'lubido', 'at', 'superbia', None, 'fortuna', 'simul', 'cum', 'mos', None, 'iton', 'imperium', 'semper', 'ad', 'optumus', 'quis', 'a', 'minor', 'bonus', 'transferre', 'qui', 'homo', 'arare', None, 'aedificare', None, 'omnis', 'parare', 'sed', 'multus', 'mortalis', 'dedere', None, 'at', 'somnus', 'indoctus', 'incolere', None, None, 'sicuti', 'peregrinari', 'transire', 'quis', 'proficisci', 'contra', 'nare', 'corpus', None, 'anima', 'onus', 'esse', 'is', 'ego', None, 'mors', None, 'iuxta', 'aestumare', 'quoniam', 'de', 'uter', 'silere', None, 'enim', None, 'is', 'demum', 'ego', None, 'at', 'frui', 'anima', None, 'qui', 'aliquis', 'negotium', 'intentus', 'praeclarus', 'facinus', 'aut', 'artus', 'bonus', 'fama', 'quaerere', 'sed', 'in', 'magnus', 'cops', 'res', 'alius', 'alius', 'nare', 'iter', 'ostendere', 'pulcher', 'esse', 'bene', 'facere', 'reus', 'publicus', 'etiam', 'bene', 'dicere', 'haud', 'absurdus', 'esse', None, 'pacere', None, 'bellus', 'clarus', 'fieri', 'licere', 'et', 'qui', 'facere', 'et', 'qui', 'factus', 'alius', 'scribere', 'multus', 'laudare', 'ac', 'ego', 'quidem', 'tametsi', 'haudquaquam', 'par', 'glorius', 'sequere', 'scriptor', 'et', 'actor', 'res', 'tamen', 'in', 'primus', 'arduus', None, 'res', 'gerere', 'scribere', 'primus', 'qui', 'factus', 'dicere', 'exaequare', 'esse', 'dehinc', 'quia', 'plerus', 'qui', 'delinquere', 'reprehendere', None, 'et', None, 'dicere', 'putare', 'ubi', 'de', 'magnus', None, 'at', 'glorius', 'bonus', 'memor', 'qui', 'sibus', 'quis', 'facilis', 'factus', 'putare', 'aequus', 'animus', 'accipere', 'supra', 'is', None, 'fictus', 'pro', 'falsus', 'ducere', 'sed', 'ego', 'adulescentulus', 'initium', 'sicuti', 'plerus', 'studium', 'ad', 'res', 'publicus', 'latus', 'esse', 'ibis', None, 'ego', 'multus', None, 'esse', 'nam', 'pro', 'pudor', 'pro', 'abstinens', 'pro', None, 'audacia', 'largitio', None, None, 'qui', 'tametsi', 'animus', 'aspernari', 'insolens', 'mala', 'ars', 'tamen', 'inter', 'tantus', None, 'imbecillus', 'aetas', 'ambitio', 'corrumpere', 'tenere', 'ac', 'ego', 'cum', 'ab', 'reliquus', 'malus', 'mos', 'dissentire', 'nihilum', 'minor', 'honorus', 'cupidus', 'idem', 'qui', 'ceterus', 'fama', 'at', None, None, 'igitur', 'ubi', 'animus', 'ex', 'multus', 'miseria', 'at', 'periculum', None, 'et', 'ego', 'reliquus', 'aetas', 'a', 'res', 'publicus', 'procul', 'habere', None, 'non', 'esse', 'consilium', 'socordia', 'at', 'deses', 'bonus', 'otium', 'conterere', 'ne', None, 'ager', 'colere', 'aut', None, None, 'officium', 'intendere', 'aetas', 'agere', 'sed', 'a', 'quis', 'incipere', 'studium', None, 'ego', 'ambitio', 'malus', 'detinere', 'idem', 'regressus', 'statuere', 'res', 'gerere', 'populus', None, 'carptim', 'ut', 'qui', 'memoria', 'dignus', None, 'perscribere', 'is', 'magus', 'qui', 'ego', 'a', 'spes', 'metus', 'pars', 'reus', 'publicus', 'animus', 'liber', 'esse', 'igitur', 'de', None, 'coniuratio', 'quis', None, 'posse', 'paucus', None, 'nam', 'is', 'facinus', 'in', 'primus', 'ego', 'memorabilis', 'existumare', 'scelerus', 'at', 'periculum', None, 'de', 'quis', 'homo', 'mos', 'paucus', 'prae', 'explanare', 'esse', 'quis', 'initium', 'narrare', 'facere', 'L', None, 'nobilis', 'genere', 'natus', 'esse', 'magnus', None, 'et', 'animus', 'et', 'corpus', 'sed', 'ingenium', 'malus', None, None, 'hic', 'ab', 'adulescens', 'bellus', 'intestinus', 'caedes', 'rapina', 'discordia', None, 'gratus', 'esse', 'ibis', None, None, 'suere', 'exercere', 'corpus', 'patiens', 'inedia', 'algor', None, 'supra', 'quis', 'quisquam', 'credibilis', 'esse', 'animus', 'audax', 'subdolus', None, 'quis', 'reus', 'lubet', 'simulare', 'ac', 'dissimulare', 'alienus', None, 'suus', 'profundere', 'ardens', 'in', 'cupiditas', 'satus', 'eloquentia', 'sapientia', 'parum', None, 'animus', None, 'incredibilis', 'nimis', 'altus', 'semper', 'cupere', 'hic', 'post', 'dominatio', 'L', None, 'lubido', 'maxumus', None, 'reus', 'publicus', 'capere', 'ne', 'is', 'quis', 'modus', None, 'dum', 'sibus', 'regnum', 'parare', 'quisquam', 'pendere', 'habere', 'agitare', 'magus', 'magus', None, 'in', 'dies', 'animus', 'ferox', 'inops', 'reus', 'familiaris', 'et', 'conscire', 'scelerus', 'qui', 'uter', 'is', 'ars', 'augere', 'quis', 'supra', None, 'incitare', 'praeterea', 'corrumpere', None, 'mos', 'quis', 'pessumus', 'ac', None, 'inter', 'se', 'malus', 'luxuria', 'at', None, None, 'res', 'ipse', 'hortare', None, 'quoniam', 'de', 'mos', None, 'tempus', 'admonere', 'supra', 'repetere', 'ac', 'paucus', 'instituere', 'magnus', 'domire', 'militia', None, 'quis', 'modo', 'res', 'publicus', 'habere', 'quantus', None, 'relinquere', 'ut', 'paulatim', None, 'ex', None, 'at', 'optumus', 'pessumus', 'ac', 'flagitiosus', 'factus', 'esse', 'disserere', 'urbs', None, 'sicuti', 'ego', 'accipere', 'condere', 'at', 'habere', 'initium', None, 'qui', 'aeneus', 'dux', 'profugus', 'sedes', 'incertus', None, 'cumque', 'is', 'aborigines', 'genus', 'homo', 'agrestis', 'sinere', 'lex', 'sinere', 'imperium', 'liber', 'at', 'solvere', 'hic', 'postquam', 'in', 'unus', 'moenia', None, 'dispar', 'genere', 'dissimilis', 'lingua', 'alius', 'alium', 'morus', None, 'incredibilis', 'memorare', 'esse', 'quis', 'facilis', 'coalere', 'iton', None, 'multitudo', 'dispergere', 'at', None, 'concordis', None, 'factus', 'esse', 'sed', 'postquam', 'res', 'is', None, 'mos', 'ager', 'auctus', 'satus', 'prosperus', 'satus', None, 'pollens', None, 'sicuti', 'plerus', 'mortalis', 'habere', None, 'ex', 'opulens', 'oriri', 'esse', 'igitur', 'rex', 'populus', None, 'finitumus', 'bellus', 'temptare', 'paucus', 'ex', 'amicus', 'auxilium', 'esse', 'nam', 'ceterus', 'metus', 'percellere', 'a', 'periculum', 'abesse', 'at', None, 'domire', 'militia', None, 'intendere', 'festinare', 'parare', 'alius', 'alium', 'hortare', 'hostis', None, 'ire', 'libertas', 'patria', 'parens', None, 'arma', 'tegere', 'post', 'ubi', 'periculum', None, 'propellere', 'socius', 'at', 'amicus', 'auxilium', 'portare', 'magus', None, 'dare', 'quis', 'accipere', 'beneficium', 'amicitia', 'parare', 'imperium', 'legitumus', 'nomen', 'imperium', 'regius', 'habere', 'deligere', 'quis', 'corpus', 'annus', 'infirmus', 'ingenium', 'sapere', None, 'esse', 'reus', 'publicus', 'consultare', 'hic', None, 'aetas', None, 'cura', 'similitudo', 'pater', 'appellare', 'post', 'ubi', 'regius', 'imperium', 'qui', 'initium', None, 'libertas', 'at', 'augere', 'reus', 'publicus', 'esse', 'in', 'superbire', 'dominatio', None, 'se', None, None, 'morus', 'annuus', 'imperium', 'bini', None, 'imperator', 'sibus', 'facere', 'is', 'modo', 'minumus', 'posse', 'putare', 'per', 'licentia', 'insolescere', 'animus', 'humanus', 'sed', 'is', 'tempestas', 'coepere', 'se', 'quis', 'magus', 'extollere', 'magus', None, 'ingenium', 'in', 'promptus', 'habere', 'nam', 'rex', 'bonus', 'quis', 'malus', 'suspectus', 'esse', 'semper', None, 'is', 'alienus', None, 'formidulosus', 'esse', 'sed', None, 'incredibilis', 'memorare', 'esse', 'adipisci', 'libertas', 'quantus', None, None, 'tantus', 'cupidus', 'gloria', 'incedere', 'iam', 'primus', None, 'simul', 'ac', 'bellus', 'patiens', 'esse', 'in', 'castra', 'per', 'laborare', 'uti', 'militia', 'discere', 'magus', None, 'in', 'decorus', 'arma', 'et', 'militaris', 'equa', 'quis', 'in', 'scortum', 'at', None, 'lubido', 'habere', 'igitur', 'talis', None, 'non', 'labor', 'insolitus', 'non', 'locus', 'ullus', 'asper', 'aut', 'arduus', 'esse', 'non', 'armatus', 'hostis', 'formidulosus', None, 'omnis', 'domare', 'sed', 'gloria', 'maxumus', 'certamen', 'inter', 'ipse', 'esse', 'se', 'quis', 'hostis', 'ferire', 'murus', 'ascendere', 'conspicere', 'dum', 'talis', 'facinus', 'facere', 'properare', 'ire', None, 'ire', 'bonus', 'fama', 'magnus', None, 'nobilitas', 'putare', 'laus', None, 'pecunia', 'liberalis', 'esse', 'gloria', 'ingens', None, 'honestas', None, 'memorare', 'posse', 'quis', 'in', 'loca', 'maxumus', 'hostis', 'copia', 'populus', None, None, 'manus', 'fundere', 'quis', 'urbs', 'nare', 'munire', 'pugnare', 'capere', 'ni', 'is', 'res', 'longus', 'ego', 'ab', 'incipere', 'trahere', 'sed', 'proficisci', 'fortuna', 'in', 'omnis', 'res', 'dominare', 'is', 'res', 'cunctare', 'ex', 'lubido', 'magus', 'quis', 'ex', None, 'celebrare', 'obscurare', None, None, 'res', 'gerere', 'sicuti', 'ego', 'aestumare', 'satus', 'ampla', 'magnificus', None, 'esse', None, 'aliquantus', 'minor', 'tamen', 'quis', 'fama', 'ferre', 'sed', 'quia', None, 'ibis', 'scribere', 'magnus', 'ingenium', 'per', 'terra', 'orbare', None, 'factus', 'pro', 'maxumus', 'celebrare', 'iton', 'is', 'qui', 'facere', None, 'tantus', 'habere', 'quantus', 'ire', None, 'posse', 'extollere', 'praeclarus', 'ingenium', 'at', 'populus', None, 'numquam', 'is', 'cops', 'esse', 'quia', 'prudens', 'quis', 'maxumus', 'negotiosus', 'esse', 'ingenium', 'nemo', 'sinere', 'corpus', 'exercere', 'optumus', 'quis', 'facere', 'quis', 'dicere', 'suus', 'ab', 'alius', 'benefacere', 'laudare', 'quis', 'ipse', 'alius', 'narrare', 'malle', 'igitur', 'domire', 'militia', None, 'bonus', 'mos', 'colere', 'concordis', 'maxumus', 'minumus', None, 'esse', 'ius', 'bonus', None, 'apud', 'is', 'non', 'lex', 'magus', 'quis', 'nare', None, 'iurgium', 'discordiare', 'simultas', 'cum', 'hostis', 'exercere', None, 'cum', None, 'de', None, 'certare', 'in', 'supplicium', 'deus', 'magnificus', 'domire', 'parcus', 'in', 'amicus', 'fidelis', 'esse', 'duo', 'hic', 'ars', 'audacia', 'in', 'bellus', 'ubi', 'pax', None, 'aequitas', 'se', None, 'res', None, 'publicus', 'curare', 'quis', 'res', 'ego', 'maxumus', 'documentum', 'hic', 'habere', 'qui', 'in', 'bellus', 'saepior', None, 'esse', 'in', 'is', 'qui', 'contra', 'imperium', 'in', 'hostis', None, 'qui', 'tardus', None, 'proelium', 'excedere', 'quis', 'qui', 'signum', 'relinquere', 'aut', 'pellere', 'locus', 'cedere', 'audere', 'esse', 'in', 'pacere', None, 'qui', 'beneficium', 'magus', 'quis', 'metus', 'imperium', 'agitare', 'et', 'acceptus', 'iniurius', 'ignoscere', 'quis', 'persequi', 'malle', 'sed', 'ubi', 'labor', 'at', 'iustitia', 'res', 'publicus', None, 'rex', 'magnus', 'bellus', 'domare', 'natio', 'fera', 'et', 'populus', 'ingens', None, 'subigere', None, 'aemulus', 'imperium', None, 'ab', 'stirps', 'interire', 'cunctus', 'mare', 'terra', None, 'patere', None, 'fortuna', 'ac', 'miscere', 'omnis', 'coepere', 'qui', 'labor', 'periculum', 'dubius', 'at', 'asperare', 'res', 'facilis', None, 'is', 'otium', None, None, 'optandus', 'alias', 'onus', 'miseria', None, 'esse', 'igitur', 'primus', 'imperium', 'deinde', 'pecunia', 'cupidus', None, 'is', 'quasi', 'materies', 'omnis', 'malus', 'esse', 'namque', None, 'fides', 'probitas', 'ceterus', None, 'artus', 'bonus', None, 'pro', 'hic', 'superbire', 'crudelitas', 'deus', 'neglegere', 'omnis', None, 'habere', 'edocere', 'ambitio', 'multus', 'mortalis', 'falsus', 'fieri', 'subigere', 'alius', 'claudere', 'in', 'pectus', 'alius', 'in', 'lingua', 'promptus', 'habere', 'amicitia', 'inimicitiae', None, 'non', 'ex', 'res', 'sed', 'ex', 'commodus', 'aestumare', 'magus', None, None, 'quis', 'ingenium', 'bonus', 'habere', 'hic', 'primus', 'paulatim', 'crescere', 'interdum', None, 'post', 'ubi', 'contagio', 'quasi', 'pestilens', None, None, None, 'imperium', 'ex', 'iustus', 'at', 'optumus', 'crudelis', 'intolerare', None, 'factus', 'sed', 'primus', 'magus', 'ambitio', 'quis', None, 'animus', 'homo', 'exercere', 'qui', 'tamen', None, 'prope', None, 'esse', 'nam', 'gloria', 'honorare', 'imperium', 'bonus', 'et', None, 'aequus', 'sibus', 'exoptare', 'sed', 'ille', None, None, 'niti', 'hic', 'quia', 'bonus', 'ars', 'deesse', 'dolus', 'at', 'fallacia', 'contendere', None, 'pecunia', 'studium', 'habere', 'quis', 'nemo', 'sapiens', None, 'is', 'quasi', None, 'malus', 'inbuere', 'corpus', 'animus', None, None, 'effeminare', 'semper', 'infinitus', 'insatiabilis', 'esse', 'ne', 'cops', 'ne', 'inops', 'minuere', 'sed', 'postquam', 'L', None, 'arma', 'receptus', 'res', 'publicus', 'bonus', 'initia', 'malus', None, 'habere', 'rapere', 'omnis', 'omnis', 'trahere', 'domum', 'alius', 'alius', 'ager', 'cupere', 'ne', 'modus', 'ne', 'modestia', None, 'habere', 'foedus', 'crudelis', None, 'in', None, 'facinus', 'facere', 'huc', 'accedere', 'qui', 'L', None, 'exercere', 'quis', 'in', 'asia', None, 'quis', 'sibus', 'fidus', 'facere', 'contra', 'morare', 'magnus', 'luxuriosus', 'nimis', None, 'liberalis', 'habere', 'loca', 'amoenus', None, 'facilis', 'in', 'otium', 'ferox', 'miles', 'animus', None, 'ibis', 'primus', None, 'exercitus', 'populus', None, 'amare', 'potare', 'signum', 'tabulare', 'pictus', None, 'caelare', 'mirare', 'is', None, 'et', 'publicus', 'rapere', 'delubrum', 'spoliare', 'sacer', 'profanus', None, 'omnis', 'polluere', 'igitur', 'ire', 'miles', 'postquam', None, 'adipisci', 'esse', 'nihil', 'reliquus', None, 'facere', 'quippe', 'secundus', 'res', 'sapere', 'animus', 'fatigare', 'ne', 'ille', 'corrumpere', 'mos', None, 'temperare', 'postquam', None, 'honorus', 'esse', 'coepere', 'et', 'ire', 'glorius', 'imperium', 'potens', 'sequere', 'hebescere', None, 'paupertas', 'prober', 'habere', 'innocens', 'pro', None, 'dux', 'coepere', 'igitur', 'ex', None, None, 'luxuria', 'at', None, 'cum', 'superbia', None, 'rapere', 'consumere', 'suus', 'parere', 'pendere', 'alienus', 'cupere', 'pudor', 'pudicitia', None, 'at', 'humanus', 'promiscuus', 'nihil', 'pendere', 'ne', 'moderare', 'habere', 'opera', 'pretium', 'esse', 'cum', 'domos', 'at', None, None, 'in', 'urbs', 'modus', 'exaedificare', None, 'templum', 'deus', 'qui', 'noster', 'magnus', 'religiosus', 'mortalis', 'facere', None, 'ille', 'delubrum', 'deus', 'pietas', 'domos', 'suere', 'glorius', 'decorare', 'ne', None, 'quisquam', 'praeter', 'iniuria', 'licentia', 'eripere', 'at', 'hic', 'contra', None, 'homo', 'per', 'summus', 'scelus', 'omnis', 'is', 'socius', 'adimere', 'qui', 'fortis', None, None, 'relinquere', 'proinde', 'quasi', 'iniuria', 'facere', 'is', 'demum', 'esse', 'imperium', 'uti', 'nam', 'quis', 'is', 'memor', 'qui', 'niti', 'is', 'qui', None, 'nere', 'credibilis', 'esse', 'a', None, 'commultus', None, 'mons', 'mare', 'consternere', 'esse', 'quis', 'ego', None, 'ludibrium', 'esse', None, 'quippe', 'quis', 'honestus', 'habere', 'licere', 'abuti', 'per', 'turpitudo', 'properare', 'sed', 'lubido', 'stuprum', 'ganea', 'ceterus', None, 'cultus', 'non', 'minor', 'incedere', None, 'muliebris', 'patere', 'mulier', 'pudicitia', 'in', 'propatulus', 'habere', None, 'causa', 'terra', 'mas', None, 'omnis', 'exquirere', 'dormire', 'prae', 'quis', 'somnus', 'cupidus', 'esse', 'non', 'fames', 'aut', 'sitis', 'ne', 'frigus', 'ne', 'lassitudo', 'opperiri', 'sed', 'is', 'omnis', 'luxus', 'antecapere', 'hic', None, 'ubi', 'familiaris', 'ops', 'deficere', 'ad', 'facinus', 'incendere', 'animus', 'inbuere', 'malus', 'ars', 'haud', 'facilis', 'lubido', 'carere', 'is', 'profusus', 'omnis', 'modus', 'quaestus', 'at', 'sumptus', 'dedere', 'esse', 'in', 'tantus', 'tam', None, 'corrumpere', None, None, 'is', 'qui', 'factus', 'facilis', 'esse', 'omnis', 'flagitium', 'at', 'facinus', 'circum', 'se', 'tamquam', 'stipare', None, 'habere', 'nam', 'cum', 'qui', None, 'adulter', 'ganeo', 'manus', None, 'penus', 'bonus', 'patrius', None, 'qui', 'alienus', 'aes', 'grandis', None, 'quis', 'flagitium', 'aut', 'facinus', 'redimere', 'praeterea', 'omnis', 'undique', 'parricida', 'sacrilegus', None, 'iudicium', 'aut', 'pro', 'factus', 'iudicium', 'timens', 'ad', 'hic', 'quis', 'manus', 'at', 'lingua', 'periurium', 'aut', 'sanguen', None, 'alere', 'postremus', 'omnis', 'quis', 'flagitium', 'egestas', 'conscius', 'animus', 'exagitare', 'ire', None, 'proxumus', 'familiaris', None, 'esse', 'qui', 'sium', 'quis', 'etiam', 'a', 'culpa', None, 'in', 'amicitia', 'is', 'incidere', 'cotidianus', 'usus', 'at', 'illecebra', 'facilis', 'par', 'similis', None, 'ceterus', 'efficere', 'sed', 'maxumus', 'adulescens', 'familiaritas', None, 'is', 'animus', 'mollis', 'etiam', 'et', 'fluxus', 'dolus', 'haud', 'difficulter', 'capere', 'nam', 'ut', 'quis', 'studium', 'ex', 'aetas', 'flagrare', 'alius', 'scortum', 'praebere', 'alius', 'canes', 'at', 'equus', 'mercari', 'postremus', 'ne', 'sumptus', 'ne', 'modestia', 'suus', 'parcere', 'dum', 'ille', 'obnoxius', 'fidus', None, 'sibus', 'facere', 'scius', 'esse', 'nonnullus', 'qui', 'iton', 'existumare', None, 'qui', 'domum', None, 'frequentare', 'parum', 'honestus', 'pudicitia', 'habere', 'sed', 'ex', 'alius', 'res', 'magus', 'quis', 'qui', 'quisquam', 'is', 'comperire', 'forare', 'hic', 'fama', None, 'iam', 'primus', 'adulescens', None, 'multus', 'nefandus', 'stuprum', 'facere', 'cum', None, 'nobilis', 'cum', 'sacerdos', None, 'alia', None, 'modus', 'contra', 'ius', 'fas', None, 'postremus', 'captus', 'amor', None, None, 'quis', 'praeter', 'forma', 'nihil', 'umquam', 'bonus', None, 'qui', 'is', 'nubere', 'ille', 'dubitare', 'timens', None, 'adultus', 'aetas', 'pro', 'certus', 'credere', 'necare', 'filius', None, 'domum', 'scelestus', 'nuptiae', 'facere', 'qui', 'quidem', 'res', 'ego', 'in', 'primus', None, 'causa', 'esse', 'facinus', 'maturare', 'namque', 'animus', None, 'dis', 'homo', None, 'infestus', 'ne', None, 'ne', 'quies', 'sedare', 'posse', 'iton', 'conscire', 'mens', 'exciere', None, 'igitur', 'color', 'is', 'exsanguis', 'foedus', 'oculus', 'citus', 'modo', 'modo', 'tardus', 'incessus', 'prorsus', 'in', 'facies', None, None, None, 'inesse', 'sed', None, 'quis', 'ut', 'supra', 'dicere', 'illicere', 'multus', 'modus', 'malus', 'facinus', 'edocere', 'ex', 'ille', 'testis', 'signator', None, 'falsus', 'commodare', 'fides', 'fortunare', 'periculum', None, 'habere', 'post', 'ubi', 'is', 'fama', 'at', 'pudor', None, 'magnus', 'alia', 'imperare', 'sium', 'causa', 'peccare', 'in', 'praesens', 'minor', 'suppetere', 'nihilum', 'minor', 'insons', 'sicuti', 'sons', None, 'iugulare', 'scilicet', 'ne', 'per', 'otium', 'torpescere', 'manus', 'aut', 'animus', 'gratuitus', 'potis', 'malus', 'at', 'crudelis', 'esse', 'hic', 'amicus', 'socius', None, 'confidere', None, 'simul', 'qui', 'aes', 'alienus', 'per', 'omnis', 'terra', 'ingens', 'esse', 'et', 'qui', 'plerus', None, 'miles', 'largus', 'suus', 'uti', 'rapina', 'et', None, None, 'memor', None, 'bellus', 'exoptare', 'opprimere', 'reus', 'publicus', 'consilium', 'capere', 'in', None, 'nullus', 'exercitus', 'C', None, None, 'in', 'extra', 'terra', 'bellus', 'gerere', 'ipse', 'consulatus', 'petere', 'magnus', 'spes', 'senatus', 'nihil', 'sanus', 'intentus', 'tutus', 'tranquillus', None, 'res', 'omnis', 'sed', 'is', 'prorsus', 'opportunus', None, 'igitur', 'circiter', None, None, 'L', None, 'et', 'C', 'figulus', 'consul', 'primus', 'singuli', 'appellare', 'hortare', 'alius', 'alius', 'temptare', 'ops', 'suere', None, 'res', 'publicus', 'magnus', 'praemium', 'coniuratio', 'docere', 'ubi', 'satus', 'explorare', 'esse', 'qui', None, 'in', 'unus', 'omnis', None, 'quis', 'maxumus', 'necessitudo', 'et', None, 'audacia', 'inesse', 'is', None, 'senatorius', 'ordo', None, 'lentulus', 'sura', None, None, 'L', 'cassus', None, 'C', None, None, 'et', None, None, None, 'filius', 'L', None, None, None, 'M', None, None, 'L', 'bestius', None, None, 'praeterea', 'ex', 'equestris', 'ordium', 'M', None, 'nobilis', 'L', None, None, None, 'capere', 'C', None, 'ad', 'hic', 'multus', 'ex', 'colonia', 'et', 'municipium', 'domire', 'nobilis', 'esse', 'praeterea', 'commultus', 'paulus', 'occultus', 'consilium', None, 'particeps', 'nobilis', 'quis', 'magus', 'dominatio', 'spes', 'hortare', 'quis', 'inops', 'aut', 'alia', 'necessitudo', 'ceterus', None, 'plerus', 'sed', 'maxumus', 'nobilis', None, 'incipere', None, 'quis', 'in', 'otium', None, 'magnificus', None, 'mollis', None, 'cops', 'esse', 'incertus', 'pro', 'certus', 'bellus', 'quis', 'pacare', 'malle', 'esse', 'itare', 'is', 'tempestas', 'qui', 'credere', 'M', 'licinium', 'crassus', 'non', 'ignarus', 'is', 'consilium', 'esse', 'quia', 'C', None, None, None, 'ipse', 'magnus', 'exercere', 'ductare', None, 'ops', None, 'contra', 'ille', 'potentia', 'crescere', 'simul', 'confidere', 'sium', 'coniuratio', None, 'facilis', 'apud', 'ille', 'princeps', 'se', 'foris', 'sed', 'antea', 'itare', None, 'paucus', 'contra', 'res', 'publicus', 'in', 'quis', None, 'esse', 'de', 'qui', 'quis', None, 'posse', 'dicere', 'L', None, 'et', 'M', 'lepidus', 'consul', None, None, 'et', None, None, 'designare', 'consul', 'lex', 'ambitus', 'interrogare', 'poena', 'dare', 'post', 'paulus', None, 'pecunia', 'repetere', 'reus', 'prohibere', 'esse', 'consulatus', 'petere', 'qui', 'intra', 'legitumus', 'dies', 'profiteri', None, 'esse', 'idem', 'tempus', 'C', None, 'pinsere', 'adulescens', 'nobilis', 'summa', 'audacia', 'egens', 'factiosus', 'quis', 'ad', 'perturbare', 'res', 'publicus', 'inops', 'at', 'malus', 'mos', 'stimulare', 'cum', 'hic', None, 'et', None, 'circiter', 'nona', None, 'consilium', 'communicare', 'parare', 'in', None, None, None, 'L', None, 'et', 'L', 'torquatus', 'consul', 'interficere', 'ipse', 'fascis', 'correptus', 'piso', 'cum', 'exercitus', 'ad', 'obtinere', 'duo', None, 'mittere', 'is', 'res', 'cognitus', 'rursus', 'in', 'nona', 'februarius', 'consilium', 'caedis', 'transferre', 'iam', 'tum', 'non', 'consul', 'modo', 'sed', 'plerusque', 'senator', 'pernicies', 'machinari', 'qui', 'ni', None, 'maturare', 'pro', 'curia', 'signum', 'socius', 'dare', 'is', 'dies', 'post', 'condere', 'urbs', None, 'pessumus', 'facinus', 'patrare', 'forare', 'quia', 'nondum', 'frequens', 'armare', None, 'is', 'res', 'consilium', 'dirimere', 'postea', 'pinsere', 'in', 'citra', None, 'quaestor', 'pro', 'praetor', 'missus', 'esse', None, 'crassus', 'qui', 'is', 'infestus', 'inimicus', 'C', None, None, None, 'ne', 'tamen', 'senatus', None, None, 'dare', 'quippe', 'foedus', 'homo', 'a', None, 'procul', 'esse', None, 'simul', 'quia', 'bonus', None, 'praeses', 'in', 'is', 'putare', 'et', 'iam', 'tum', 'potens', 'pompeum', 'formidulosus', 'esse', 'sed', 'is', 'pinsere', 'in', None, 'ab', 'eques', None, 'quis', 'in', 'exercitus', 'ductare', 'iter', 'facere', 'occidere', 'esse', 'esse', 'qui', 'iton', 'dicare', 'imperium', 'is', 'iniustus', 'superbus', 'crudelis', 'barbaros', None, 'patere', 'alius', 'autem', 'eques', 'ille', 'C', None, 'pompeum', None, 'fidus', None, 'cliens', None, 'is', 'piso', 'aggredi', 'numquam', None, 'praeterea', 'talis', 'facinus', 'facere', 'sed', 'imperium', None, 'multus', 'antea', 'perpeti', 'ego', 'ire', 'res', 'in', 'medius', 'relinquere', 'de', 'supra', 'coniuratio', 'satus', 'dicere', None, 'ubi', 'is', 'quis', 'paulus', 'ante', None, None, None, 'tametsi', 'cum', 'singuli', 'multus', 'saeps', 'agere', 'tamen', 'in', 'res', 'foris', 'credere', None, 'appellare', 'et', 'cohortare', 'in', 'abdere', 'pars', 'aedes', 'secedere', 'at', 'ibis', 'omnis', 'arbitra', 'procul', 'amovere', 'oratio', None, 'modus', 'habere', 'ni', None, 'fides', None, None, 'spectare', 'ego', 'forare', 'nequiquam', 'opportunus', 'res', 'cadere', 'spes', 'magnus', 'dominatio', 'in', 'manes', 'frustrare', 'esse', 'ne', 'ego', 'per', None, 'aut', None, 'ingenium', 'incertus', 'pro', 'certus', 'captare', 'sed', 'quia', 'multus', 'et', 'magnus', 'tempestas', None, None, 'fortis', 'fidus', None, 'ego', 'is', 'animus', 'ausus', 'esse', 'maxumus', 'at', None, 'facinus', 'incipere', 'simul', 'quia', None, 'idem', 'qui', 'ego', 'bonus', 'malus', None, 'esse', 'intellegere', 'nam', 'idem', None, 'at', 'idem', 'nolle', 'is', 'demum', 'firmus', 'amicitia', 'esse', 'sed', 'ego', 'qui', 'mens', None, 'omnis', 'iam', 'antea', None, None, 'ceterus', 'ego', 'in', 'dies', 'magus', 'animus', 'accendere', 'cum', 'considerare', 'qui', 'condicio', None, 'futurus', 'esse', 'niti', None, 'ipse', None, 'in', 'libertas', 'nam', 'postquam', 'res', 'publicus', 'in', 'paucus', 'potens', 'ius', 'at', 'dicio', 'concedere', 'semper', 'ille', 'rex', 'tetrarcha', None, 'esse', 'populus', 'natio', 'stipendium', 'pendere', 'ceterus', 'omnis', 'strenuus', 'bonus', 'nobilis', 'at', 'ignobilis', None, 'esse', 'sinere', 'gratia', 'sinere', 'auctoritas', 'is', 'obnoxius', 'quis', 'sium', 'res', 'publicus', None, 'formido', 'esse', 'iton', 'omnis', 'gratia', 'potens', 'honos']\n"
     ]
    }
   ],
   "source": [
    "print(lemmas)"
   ]
  },
  {
   "cell_type": "markdown",
   "metadata": {},
   "source": [
    "## Help with installing LatMor"
   ]
  },
  {
   "cell_type": "markdown",
   "metadata": {},
   "source": [
    "The installation instructions for Treetagger (at least on OSX) are reasonably clear. What I offer here is primarily documentation of how I prefer to install Treetagger with specific attention to working with Latin.\n",
    "\n",
    "1. Download all of the Treetagger files, i.e. (again for OSX)\n",
    "    - tree-tagger-MacOSX-3.2.tar.gz\n",
    "    - tagger-scripts.tar.gz\n",
    "    - install-tagger.sh\n",
    "2. Download the Latin parameters file. NB: There are two Latin files—for this notebook I am using G. Brandolini's file (latin-par-linux-3.2.bin.gz)\n",
    "3. Unzip tree-tagger-MacOSX-3.2.tar.gz\n",
    "4. Rename this folder ```treetagger``` and put the other three (3) files inside. You should not unzip the other files.\n",
    "5. Move this folder to ```/usr/local/bin```; a command like ```mv ./treetagger /usr/local/bin``` should work.\n",
    "6. Change directory to ```/usr/local/bin/treetagger``` and run the install script, i.e. ```sh install-tagger.sh```\n",
    "7. You should be all set now—try it out with the following:\n",
    "    - ```echo 'Salve munde!' | cmd/tree-tagger-latin```\n",
    "    - Output\n",
    "        - ```Salve\tV:IMP\tsalveo```\n",
    "        - ```munde\tN:voc\tmundus```\n",
    "        - ```!\tSENT\t!```\n",
    "8. It is probably a good idea to add treetagger's location to PATH.\n",
    "    - Open ~/.bash_profile (or the appropriate file for whatever you shell you are using) and add:\n",
    "        - ```export PATH=/usr/local/bin/treetagger/cmd:/usr/local/bin/treetagger/bin:$PATH```\n",
    "    - treetagger-python also requires that you add the following line to ~/.bash_profile:\n",
    "        - ```export TREETAGGER_HOME='/usr/local/bin/treetagger/cmd/'``` \n",
    "    \n",
    "Treetagger should now work as expected in the Notebooks above. If you notice any problems with the installation instructions, please open an issue in this repo.—PJB"
   ]
  }
 ],
 "metadata": {
  "kernelspec": {
   "display_name": "Python 3",
   "language": "python",
   "name": "python3"
  },
  "language_info": {
   "codemirror_mode": {
    "name": "ipython",
    "version": 3
   },
   "file_extension": ".py",
   "mimetype": "text/x-python",
   "name": "python",
   "nbconvert_exporter": "python",
   "pygments_lexer": "ipython3",
   "version": "3.6.5"
  }
 },
 "nbformat": 4,
 "nbformat_minor": 2
}
