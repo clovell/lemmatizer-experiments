{
 "cells": [
  {
   "cell_type": "code",
   "execution_count": 3,
   "metadata": {},
   "outputs": [],
   "source": [
    "from requests_xml import XMLSession"
   ]
  },
  {
   "cell_type": "code",
   "execution_count": 33,
   "metadata": {},
   "outputs": [],
   "source": [
    "# V 2.0\n",
    "#url = \"https://raw.githubusercontent.com/PerseusDL/treebank_data/master/v2.0/Latin/phi0474.phi013.perseus-lat1.tb.xml\"\n",
    "\n",
    "# V 2.1\n",
    "url = ''"
   ]
  },
  {
   "cell_type": "code",
   "execution_count": 34,
   "metadata": {},
   "outputs": [],
   "source": [
    "session = XMLSession()\n",
    "r = session.get(url)"
   ]
  },
  {
   "cell_type": "code",
   "execution_count": 35,
   "metadata": {},
   "outputs": [],
   "source": [
    "sents = r.xml.xpath('//sentence')"
   ]
  },
  {
   "cell_type": "code",
   "execution_count": 68,
   "metadata": {},
   "outputs": [],
   "source": [
    "lemmatized_sents = []\n",
    "for sent in sents:\n",
    "    tokens = [elem.attrs['form'] for elem in sent.xpath('word') if 'lemma' in elem.attrs.keys()]\n",
    "    lemmas = [elem.attrs['lemma'] for elem in sent.xpath('word') if 'lemma' in elem.attrs.keys()]\n",
    "    lemma_pairs = list(zip(tokens, lemmas))\n",
    "    lemmatized_sents.append(lemma_pairs)"
   ]
  },
  {
   "cell_type": "code",
   "execution_count": 77,
   "metadata": {},
   "outputs": [
    {
     "name": "stdout",
     "output_type": "stream",
     "text": [
      "quo1: quo\n",
      "usque1: usque\n",
      "tandem1: tandem\n",
      "abutor1: abutere\n",
      "comma1: ,\n",
      "Catilina1: Catilina\n",
      "comma1: ,\n",
      "patientia1: patientia\n",
      "noster1: nostra\n"
     ]
    }
   ],
   "source": [
    "for token, lemma in lemmatized_sents[0]:\n",
    "    print(f'{lemma}: {token}')"
   ]
  },
  {
   "cell_type": "code",
   "execution_count": 58,
   "metadata": {},
   "outputs": [
    {
     "name": "stdout",
     "output_type": "stream",
     "text": [
      "There are 327 sentences in this document.\n"
     ]
    }
   ],
   "source": [
    "print(f'There are {len(sents)} sentences in this document.')\n",
    "print(f'There are {sum([len(sent) for sent in lemmatized_sents])} lemmas in this document')"
   ]
  }
 ],
 "metadata": {
  "kernelspec": {
   "display_name": "Python 3",
   "language": "python",
   "name": "python3"
  },
  "language_info": {
   "codemirror_mode": {
    "name": "ipython",
    "version": 3
   },
   "file_extension": ".py",
   "mimetype": "text/x-python",
   "name": "python",
   "nbconvert_exporter": "python",
   "pygments_lexer": "ipython3",
   "version": "3.6.5"
  }
 },
 "nbformat": 4,
 "nbformat_minor": 2
}
