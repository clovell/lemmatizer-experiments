{
 "cells": [
  {
   "cell_type": "code",
   "execution_count": 1,
   "metadata": {},
   "outputs": [],
   "source": [
    "# Import\n",
    "\n",
    "import os\n",
    "import subprocess\n",
    "import shlex\n",
    "\n",
    "import re"
   ]
  },
  {
   "cell_type": "code",
   "execution_count": 2,
   "metadata": {},
   "outputs": [],
   "source": [
    "# Constants\n",
    "\n",
    "path = '/usr/local/bin/lemlat'"
   ]
  },
  {
   "cell_type": "code",
   "execution_count": 3,
   "metadata": {},
   "outputs": [],
   "source": [
    "# Set up tools\n",
    "\n",
    "os.chdir(path)"
   ]
  },
  {
   "cell_type": "code",
   "execution_count": 4,
   "metadata": {},
   "outputs": [],
   "source": [
    "tokens = 'arma patrick virum , que cano'.split()\n",
    "text = '\\n'.join([token.lower() for token in tokens])\n",
    "\n",
    "# Set up subprocess and pipe\n",
    "cmd1 = ['echo', text]\n",
    "cmd2 = './lemlat -c test_out.csv'\n",
    "p1 = subprocess.Popen(cmd1, stdout=subprocess.PIPE)\n",
    "p2 = subprocess.Popen(shlex.split(cmd2), stdin=p1.stdout, stdout=subprocess.PIPE)\n",
    "output = p2.communicate()[0].decode()"
   ]
  },
  {
   "cell_type": "code",
   "execution_count": 5,
   "metadata": {},
   "outputs": [],
   "source": [
    "# Parse results\n",
    "\n",
    "# Split into entries by token\n",
    "results = re.split(r'A>', output.strip())[1:-1]\n",
    "\n",
    "# Split into lemma lists\n",
    "lemmas = [re.findall(r'LEMMA =+\\n\\s(\\w+)', result) for result in results]"
   ]
  },
  {
   "cell_type": "code",
   "execution_count": 6,
   "metadata": {},
   "outputs": [
    {
     "name": "stdout",
     "output_type": "stream",
     "text": [
      "[['arma', 'armo', 'armon'], [], ['uir'], [], ['q', 'q'], ['cano', 'cano', 'canus', 'canum', 'canus']]\n"
     ]
    }
   ],
   "source": [
    "print(lemmas)"
   ]
  }
 ],
 "metadata": {
  "kernelspec": {
   "display_name": "Python 3",
   "language": "python",
   "name": "python3"
  },
  "language_info": {
   "codemirror_mode": {
    "name": "ipython",
    "version": 3
   },
   "file_extension": ".py",
   "mimetype": "text/x-python",
   "name": "python",
   "nbconvert_exporter": "python",
   "pygments_lexer": "ipython3",
   "version": "3.6.5"
  }
 },
 "nbformat": 4,
 "nbformat_minor": 2
}
