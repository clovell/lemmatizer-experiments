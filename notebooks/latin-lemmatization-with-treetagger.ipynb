{
 "cells": [
  {
   "cell_type": "markdown",
   "metadata": {},
   "source": [
    "# Latin Lemmatization with TreeTagger"
   ]
  },
  {
   "cell_type": "markdown",
   "metadata": {},
   "source": [
    "This is the first installment in series of posts/notebooks on Latin lemmatization that will cover: 1. introductions to existing options for Latin lemmatization (esp. those available for Python); 2. comparisons/benchmarks for existing lemmatizers; and 3. development notes on the CLTK Latin Backoff Lemmatizer and related projects\n",
    "\n",
    "TreeTagger is a probabilistic, decision tree-based part-of-speech tagger written by Helmut Schmid in 1994. Though originally written for German tagging, parameter files have since been written for a number of languages including Latin. This notebook uses G. Brandolini's parameter file which is based on a [number of sources for Latin lexical and morphological data](http://www.cis.uni-muenchen.de/~schmid/tools/TreeTagger/data/Latin-parameter-file-readme): PROIEL data, Perseus data, Index Thomisticus data and Whitaker's Words.\n",
    "\n",
    "Lemmatization is a by-product of TreeTagger's pos-tagging, but a useful one. It runs quickly, performs well, and has two Python wrappers (shown below). This notebook introduces the two Python wrappers: *treetaggerwrapper* and *treetagger-python*."
   ]
  },
  {
   "cell_type": "code",
   "execution_count": 1,
   "metadata": {},
   "outputs": [],
   "source": [
    "# # Install treetaggerwrapper\n",
    "\n",
    "# !pipenv install treetaggerwrapper\n",
    "\n",
    "# # See docs for more information:\n",
    "# # http://treetaggerwrapper.readthedocs.io/en/latest/#installation\n",
    "#\n",
    "# #Some installation help for treetagger at the bottom of this notebook"
   ]
  },
  {
   "cell_type": "markdown",
   "metadata": {},
   "source": [
    "## Working with *treetaggerwrapper*"
   ]
  },
  {
   "cell_type": "code",
   "execution_count": 2,
   "metadata": {},
   "outputs": [],
   "source": [
    "# Imports\n",
    "\n",
    "import treetaggerwrapper\n",
    "\n",
    "from pprint import pprint"
   ]
  },
  {
   "cell_type": "code",
   "execution_count": 3,
   "metadata": {},
   "outputs": [],
   "source": [
    "# Create Latin tagger\n",
    "\n",
    "tagger = treetaggerwrapper.TreeTagger(TAGLANG='la')"
   ]
  },
  {
   "cell_type": "code",
   "execution_count": 4,
   "metadata": {},
   "outputs": [],
   "source": [
    "# Set up test text\n",
    "\n",
    "# Sall. Bell. Cat. 1\n",
    "text = \"\"\"Omnis homines, qui sese student praestare ceteris animalibus, summa ope niti decet, ne vitam silentio transeant veluti pecora, quae natura prona atque ventri oboedientia finxit. Sed nostra omnis vis in animo et corpore sita est: animi imperio, corporis servitio magis utimur; alterum nobis cum dis, alterum cum beluis commune est. Quo mihi rectius videtur ingeni quam virium opibus gloriam quaerere et, quoniam vita ipsa, qua fruimur, brevis est, memoriam nostri quam maxume longam efficere. Nam divitiarum et formae gloria fluxa atque fragilis est, virtus clara aeternaque habetur. Sed diu magnum inter mortalis certamen fuit, vine corporis an virtute animi res militaris magis procederet. Nam et, prius quam incipias, consulto et, ubi consulueris, mature facto opus est. Ita utrumque per se indigens alterum alterius auxilio eget.\n",
    "\"\"\""
   ]
  },
  {
   "cell_type": "code",
   "execution_count": 5,
   "metadata": {},
   "outputs": [
    {
     "name": "stdout",
     "output_type": "stream",
     "text": [
      "Tagging 125 tokens...\n",
      "CPU times: user 28.1 ms, sys: 13.3 ms, total: 41.4 ms\n",
      "Wall time: 4.92 s\n"
     ]
    }
   ],
   "source": [
    "%%time\n",
    "\n",
    "# Tag with treetagger\n",
    "\n",
    "print(f'Tagging {len(text.split())} tokens...')\n",
    "tags = tagger.tag_text(text)"
   ]
  },
  {
   "cell_type": "code",
   "execution_count": 6,
   "metadata": {},
   "outputs": [
    {
     "name": "stdout",
     "output_type": "stream",
     "text": [
      "['Omnis\\t11C---A2---\\tomnis',\n",
      " 'homines\\t11C---J1---\\thomo',\n",
      " ',\\t-----------\\t,',\n",
      " 'qui\\t11F---J1---\\tqui',\n",
      " 'sese\\t11F---D2-A-\\tsui',\n",
      " 'student\\t11B---M3---\\tstudent',\n",
      " 'praestare\\t3-JH1-----1\\tpraesto',\n",
      " 'ceteris\\t11B---O3--1\\tceterus',\n",
      " 'animalibus\\t11C---O3---\\tanimal',\n",
      " ',\\t-----------\\t,']\n"
     ]
    }
   ],
   "source": [
    "# View output from tagger\n",
    "\n",
    "pprint(tags[:10])"
   ]
  },
  {
   "cell_type": "code",
   "execution_count": 7,
   "metadata": {},
   "outputs": [
    {
     "name": "stdout",
     "output_type": "stream",
     "text": [
      "['Omnis', '11C---A2---', 'omnis']\n",
      "['homines', '11C---J1---', 'homo']\n",
      "[',', '-----------', ',']\n",
      "['qui', '11F---J1---', 'qui']\n",
      "['sese', '11F---D2-A-', 'sui']\n",
      "['student', '11B---M3---', 'student']\n",
      "['praestare', '3-JH1-----1', 'praesto']\n",
      "['ceteris', '11B---O3--1', 'ceterus']\n",
      "['animalibus', '11C---O3---', 'animal']\n",
      "[',', '-----------', ',']\n"
     ]
    }
   ],
   "source": [
    "# View output from tagger, delimited by tab\n",
    "\n",
    "for tag in tags[:10]:\n",
    "    print(tag.split('\\t'))"
   ]
  },
  {
   "cell_type": "code",
   "execution_count": 8,
   "metadata": {},
   "outputs": [
    {
     "name": "stdout",
     "output_type": "stream",
     "text": [
      "[Tag(word='Omnis', pos='11C---A2---', lemma='omnis'),\n",
      " Tag(word='homines', pos='11C---J1---', lemma='homo'),\n",
      " Tag(word=',', pos='-----------', lemma=','),\n",
      " Tag(word='qui', pos='11F---J1---', lemma='qui'),\n",
      " Tag(word='sese', pos='11F---D2-A-', lemma='sui'),\n",
      " Tag(word='student', pos='11B---M3---', lemma='student'),\n",
      " Tag(word='praestare', pos='3-JH1-----1', lemma='praesto'),\n",
      " Tag(word='ceteris', pos='11B---O3--1', lemma='ceterus'),\n",
      " Tag(word='animalibus', pos='11C---O3---', lemma='animal'),\n",
      " Tag(word=',', pos='-----------', lemma=',')]\n"
     ]
    }
   ],
   "source": [
    "# Format output from tagger as tuples\n",
    "\n",
    "tags_tuples = treetaggerwrapper.make_tags(tags)\n",
    "pprint(tags_tuples[:10])"
   ]
  },
  {
   "cell_type": "code",
   "execution_count": 9,
   "metadata": {},
   "outputs": [
    {
     "name": "stdout",
     "output_type": "stream",
     "text": [
      "[('Omnis', 'omnis'),\n",
      " ('homines', 'homo'),\n",
      " (',', ','),\n",
      " ('qui', 'qui'),\n",
      " ('sese', 'sui'),\n",
      " ('student', 'student'),\n",
      " ('praestare', 'praesto'),\n",
      " ('ceteris', 'ceterus'),\n",
      " ('animalibus', 'animal'),\n",
      " (',', ',')]\n"
     ]
    }
   ],
   "source": [
    "# Format output as (token, lemma)\n",
    "\n",
    "lemma_pairs = [(token, lemma) for token, _, lemma in tags_tuples]\n",
    "pprint(lemma_pairs[:10])"
   ]
  },
  {
   "cell_type": "markdown",
   "metadata": {},
   "source": [
    "## Working with *treetagger-python*"
   ]
  },
  {
   "cell_type": "code",
   "execution_count": 10,
   "metadata": {},
   "outputs": [],
   "source": [
    "# # Install treetagger-python\n",
    "\n",
    "\n",
    "# # Working off a fork of treetagger-python since the main package does not yet support 'latin'\n",
    "\n",
    "# !pipenv install git+https://github.com/diyclassics/treetagger-python.git@latin#egg=treetagger-python\n",
    "\n",
    "# # Also, add to .bash_profile (vel sim):\n",
    "# # export TREETAGGER_HOME='/path/to/your/TreeTagger/cmd/'\n",
    "\n",
    "# # See docs for more information:\n",
    "# # https://github.com/miotto/treetagger-python\n",
    "\n",
    "# # Some installation help for treetagger at the bottom of this notebook"
   ]
  },
  {
   "cell_type": "code",
   "execution_count": 11,
   "metadata": {},
   "outputs": [],
   "source": [
    "# Imports\n",
    "\n",
    "from treetagger import TreeTagger"
   ]
  },
  {
   "cell_type": "code",
   "execution_count": 12,
   "metadata": {},
   "outputs": [],
   "source": [
    "# Create Latin tagger\n",
    "\n",
    "tagger = TreeTagger(language='latin')"
   ]
  },
  {
   "cell_type": "code",
   "execution_count": 13,
   "metadata": {},
   "outputs": [
    {
     "name": "stdout",
     "output_type": "stream",
     "text": [
      "Tagging 125 tokens...\n",
      "CPU times: user 10.5 ms, sys: 12.8 ms, total: 23.3 ms\n",
      "Wall time: 5.05 s\n"
     ]
    }
   ],
   "source": [
    "%%time\n",
    "\n",
    "# Tag with treetagger-python\n",
    "\n",
    "print(f'Tagging {len(text.split())} tokens...')\n",
    "tags_list = tagger.tag(text)"
   ]
  },
  {
   "cell_type": "code",
   "execution_count": 14,
   "metadata": {},
   "outputs": [
    {
     "name": "stdout",
     "output_type": "stream",
     "text": [
      "[['Omnis', '11C---A2---', 'omnis'],\n",
      " ['homines', '11C---J1---', 'homo'],\n",
      " [',', '-----------', ','],\n",
      " ['qui', '11F---J1---', 'qui'],\n",
      " ['sese', '11F---D2-A-', 'sui'],\n",
      " ['student', '11B---M3---', '<unknown>'],\n",
      " ['praestare', '3-JH1-----1', 'praesto'],\n",
      " ['ceteris', '11B---O3--1', 'ceterus'],\n",
      " ['animalibus', '11C---O3---', 'animal'],\n",
      " [',', '-----------', ',']]\n"
     ]
    }
   ],
   "source": [
    "pprint(tags_list[:10])"
   ]
  },
  {
   "cell_type": "code",
   "execution_count": 15,
   "metadata": {},
   "outputs": [],
   "source": [
    "# Make a lemma pair list for treetagger-python output\n",
    "\n",
    "lemma_pairs_2 = [(token, lemma) for token, _, lemma in tags_list]"
   ]
  },
  {
   "cell_type": "markdown",
   "metadata": {},
   "source": [
    "Since the taggers are using the same treetagger instance, we should expect the output to be the same between the two Python wrappers. The thing is..."
   ]
  },
  {
   "cell_type": "code",
   "execution_count": 16,
   "metadata": {},
   "outputs": [
    {
     "name": "stdout",
     "output_type": "stream",
     "text": [
      "There were 34 lemma pairs that did not match. Here are the first five:\n",
      "[(('student', 'student'), ('student', '<unknown>')),\n",
      " (('ope', 'ope'), ('ope', '<unknown>')),\n",
      " (('silentio', 'silentio'), ('silentio', '<unknown>')),\n",
      " (('veluti', 'veluti'), ('veluti', '<unknown>')),\n",
      " (('pecora', 'pecora'), ('pecora', '<unknown>'))]\n"
     ]
    }
   ],
   "source": [
    "# Compare output\n",
    "\n",
    "unks = []\n",
    "\n",
    "for i, pair in enumerate(lemma_pairs):\n",
    "    if pair != lemma_pairs_2[i]:\n",
    "        unks.append((pair, lemma_pairs_2[i]))\n",
    "\n",
    "print(f'There were {len(unks)} lemma pairs that did not match. Here are the first five:')\n",
    "pprint(unks[:5])"
   ]
  },
  {
   "cell_type": "markdown",
   "metadata": {},
   "source": [
    "While it is true that both taggers use the same treetagger instance, they run with a slightly different set of parameters, namely *treetaggerwrapper* returns the token as lemma when no match is found (cf. running treetagger on the command line with the flag '-no-unknown') while *treetagger-python* returns '<unknown>' in this case.\n",
    "    \n",
    "We can adjust for this by running *treetaggerwrapper* with different parameters, spec. by setting ```TAGOPT``` to not include the '-no-unknown' flag. "
   ]
  },
  {
   "cell_type": "code",
   "execution_count": 17,
   "metadata": {},
   "outputs": [],
   "source": [
    "# Create Latin tagger to return '<unknown>'; rerun\n",
    "\n",
    "tagger = treetaggerwrapper.TreeTagger(TAGLANG='la', TAGOPT='-token -lemma -sgml -quiet')\n",
    "tags = tagger.tag_text(text)\n",
    "tags_tuples = treetaggerwrapper.make_tags(tags)\n",
    "lemma_pairs = [(token, lemma) for token, _, lemma in tags_tuples]"
   ]
  },
  {
   "cell_type": "code",
   "execution_count": 18,
   "metadata": {},
   "outputs": [
    {
     "data": {
      "text/plain": [
       "True"
      ]
     },
     "execution_count": 18,
     "metadata": {},
     "output_type": "execute_result"
    }
   ],
   "source": [
    "# Compare output again\n",
    "\n",
    "lemma_pairs == lemma_pairs_2"
   ]
  },
  {
   "cell_type": "markdown",
   "metadata": {},
   "source": [
    "## Performance"
   ]
  },
  {
   "cell_type": "code",
   "execution_count": 19,
   "metadata": {},
   "outputs": [],
   "source": [
    "# Tagging performance on the entirety of Sallust's *Bellum Catilinum*\n",
    "\n",
    "from cltk.corpus.latin import latinlibrary\n",
    "bc = latinlibrary.raw('sall.1.txt')\n",
    "bc = bc[bc.find('[1]'):bc.find('Sallust The Latin Library The Classics Page')]"
   ]
  },
  {
   "cell_type": "code",
   "execution_count": 20,
   "metadata": {},
   "outputs": [],
   "source": [
    "# Script for preprocessing texts\n",
    "\n",
    "import html\n",
    "import re\n",
    "import string\n",
    "from cltk.stem.latin.j_v import JVReplacer\n",
    "\n",
    "def preprocess(text):\n",
    "    \n",
    "    replacer = JVReplacer()\n",
    "    \n",
    "    text = html.unescape(text) # Handle html entities\n",
    "    text = re.sub(r'&nbsp;?', ' ',text) #&nbsp; stripped incorrectly in corpus?\n",
    "    text = re.sub(r'\\x00',' ',text) #Another space problem?\n",
    "        \n",
    "    text = text.lower()\n",
    "    text = replacer.replace(text) #Normalize u/v & i/j    \n",
    "    \n",
    "    punctuation =\"\\\"#$%&\\'()*+,-/:;<=>@[\\]^_`{|}~.?!«»—\"\n",
    "    translator = str.maketrans({key: \" \" for key in punctuation})\n",
    "    text = text.translate(translator)\n",
    "    \n",
    "    translator = str.maketrans({key: \" \" for key in '0123456789'})\n",
    "    text = text.translate(translator)\n",
    "    \n",
    "    text = re.sub('[ ]+',' ', text) # Remove double spaces\n",
    "    text = re.sub('\\s+\\n+\\s+','\\n', text) # Remove double lines and trim spaces around new lines\n",
    "    \n",
    "    return text.strip()"
   ]
  },
  {
   "cell_type": "code",
   "execution_count": 21,
   "metadata": {},
   "outputs": [],
   "source": [
    "# Preprocess text\n",
    "\n",
    "bc = preprocess(bc)"
   ]
  },
  {
   "cell_type": "code",
   "execution_count": 22,
   "metadata": {},
   "outputs": [
    {
     "name": "stdout",
     "output_type": "stream",
     "text": [
      "Tagging 10665 tokens with treetaggerwrapper...\n",
      "CPU times: user 1.73 s, sys: 453 ms, total: 2.18 s\n",
      "Wall time: 2min 55s\n"
     ]
    }
   ],
   "source": [
    "%%time\n",
    "\n",
    "tagger1 = treetaggerwrapper.TreeTagger(TAGLANG='la')\n",
    "print(f'Tagging {len(bc.split())} tokens with treetaggerwrapper...')\n",
    "tags = tagger1.tag_text(bc)"
   ]
  },
  {
   "cell_type": "code",
   "execution_count": 23,
   "metadata": {},
   "outputs": [
    {
     "name": "stdout",
     "output_type": "stream",
     "text": [
      "Tagging 10665 tokens with treetagger-python...\n",
      "CPU times: user 304 ms, sys: 171 ms, total: 476 ms\n",
      "Wall time: 2min 51s\n"
     ]
    }
   ],
   "source": [
    "%%time\n",
    "\n",
    "tagger2 = TreeTagger(language='latin')\n",
    "print(f'Tagging {len(bc.split())} tokens with treetagger-python...')\n",
    "tags_list = tagger2.tag(bc)"
   ]
  },
  {
   "cell_type": "markdown",
   "metadata": {},
   "source": [
    "## Help with installing Treetagger"
   ]
  },
  {
   "cell_type": "markdown",
   "metadata": {},
   "source": [
    "The installation instructions for Treetagger (at least on OSX) are reasonably clear. What I offer here is primarily documentation of how I prefer to install Treetagger with specific attention to working with Latin.\n",
    "\n",
    "1. Download all of the Treetagger files, i.e. (again for OSX)\n",
    "    - tree-tagger-MacOSX-3.2.tar.gz\n",
    "    - tagger-scripts.tar.gz\n",
    "    - install-tagger.sh\n",
    "2. Download the Latin parameters file. NB: There are two Latin files—for this notebook I am using G. Brandolini's file (latin-par-linux-3.2.bin.gz)\n",
    "3. Unzip tree-tagger-MacOSX-3.2.tar.gz\n",
    "4. Rename this folder ```treetagger``` and put the other three (3) files inside. You should not unzip the other files.\n",
    "5. Move this folder to ```/usr/local/bin```; a command like ```mv ./treetagger /usr/local/bin``` should work.\n",
    "6. Change directory to ```/usr/local/bin/treetagger``` and run the install script, i.e. ```sh install-tagger.sh```\n",
    "7. You should be all set now—try it out with the following:\n",
    "    - ```echo 'Salve munde!' | cmd/tree-tagger-latin```\n",
    "    - Output\n",
    "        - ```Salve\tV:IMP\tsalveo```\n",
    "        - ```munde\tN:voc\tmundus```\n",
    "        - ```!\tSENT\t!```\n",
    "8. It is probably a good idea to add treetagger's location to PATH.\n",
    "    - Open ~/.bash_profile (or the appropriate file for whatever you shell you are using) and add:\n",
    "        - ```export PATH=/usr/local/bin/treetagger/cmd:/usr/local/bin/treetagger/bin:$PATH```\n",
    "    - treetagger-python also requires that you add the following line to ~/.bash_profile:\n",
    "        - ```export TREETAGGER_HOME='/usr/local/bin/treetagger/cmd/'``` \n",
    "    \n",
    "Treetagger should now work as expected in the Notebooks above. If you notice any problems with the installation instructions, please open an issue in this repo.—PJB"
   ]
  }
 ],
 "metadata": {
  "kernelspec": {
   "display_name": "Python 3",
   "language": "python",
   "name": "python3"
  },
  "language_info": {
   "codemirror_mode": {
    "name": "ipython",
    "version": 3
   },
   "file_extension": ".py",
   "mimetype": "text/x-python",
   "name": "python",
   "nbconvert_exporter": "python",
   "pygments_lexer": "ipython3",
   "version": "3.6.5"
  }
 },
 "nbformat": 4,
 "nbformat_minor": 2
}
