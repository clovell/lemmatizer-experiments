{
 "cells": [
  {
   "cell_type": "markdown",
   "metadata": {},
   "source": [
    "# Latin Lemmatization with Collatinus"
   ]
  },
  {
   "cell_type": "markdown",
   "metadata": {},
   "source": [
    "!!!NEW POST!!! TreeTagger is a probabilistic, decision tree-based part-of-speech tagger written by Helmut Schmid in 1994. It is described in this paper. Though originally written for German tagging, parameter files have since been written for a number of languages including Latin. This notebook uses G. Brandolini's parameter file which is based on a number of sources for Latin lexical and morphological data: PROIEL data, Perseus data, Index Thomisticus data and Whitaker's Words.\n",
    "\n",
    "Lemmatization is a by-product of TreeTagger's pos-tagging, but a useful one. It runs quickly, performs well, and has two Python wrappers (shown below). This notebook introduces the two Python wrappers—treetaggerwrapper and treetagger-python—and gives example workflows and some execution time information. The last section of this post offers assistance with installation and configuration of TreeTagger for OSX. [PJB 5.7.18]"
   ]
  },
  {
   "cell_type": "code",
   "execution_count": 1,
   "metadata": {},
   "outputs": [],
   "source": [
    "from pycollatinus import Lemmatiseur\n",
    "\n",
    "from cltk.tokenize.word import WordTokenizer\n",
    "\n",
    "from pprint import pprint"
   ]
  },
  {
   "cell_type": "code",
   "execution_count": 2,
   "metadata": {},
   "outputs": [],
   "source": [
    "%%capture --no-display\n",
    "\n",
    "analyzer = Lemmatiseur()"
   ]
  },
  {
   "cell_type": "code",
   "execution_count": 3,
   "metadata": {},
   "outputs": [],
   "source": [
    "# Set up test text\n",
    "\n",
    "# Sall. Bell. Cat. 1\n",
    "text = \"\"\"Omnis homines, qui sese student praestare ceteris animalibus, summa ope niti decet, ne vitam silentio transeant veluti pecora, quae natura prona atque ventri oboedientia finxit. Sed nostra omnis vis in animo et corpore sita est: animi imperio, corporis servitio magis utimur; alterum nobis cum dis, alterum cum beluis commune est. Quo mihi rectius videtur ingeni quam virium opibus gloriam quaerere et, quoniam vita ipsa, qua fruimur, brevis est, memoriam nostri quam maxume longam efficere. Nam divitiarum et formae gloria fluxa atque fragilis est, virtus clara aeternaque habetur. Sed diu magnum inter mortalis certamen fuit, vine corporis an virtute animi res militaris magis procederet. Nam et, prius quam incipias, consulto et, ubi consulueris, mature facto opus est. Ita utrumque per se indigens alterum alterius auxilio eget.\n",
    "\"\"\""
   ]
  },
  {
   "cell_type": "code",
   "execution_count": 4,
   "metadata": {},
   "outputs": [],
   "source": [
    "# Create instances of CLTK tools\n",
    "\n",
    "tokenizer = WordTokenizer('latin')\n",
    "tokens = tokenizer.tokenize(text)\n",
    "text_string = \" \".join(tokens)"
   ]
  },
  {
   "cell_type": "code",
   "execution_count": 5,
   "metadata": {},
   "outputs": [
    {
     "data": {
      "text/plain": [
       "151"
      ]
     },
     "execution_count": 5,
     "metadata": {},
     "output_type": "execute_result"
    }
   ],
   "source": [
    "len(tokens)"
   ]
  },
  {
   "cell_type": "code",
   "execution_count": 6,
   "metadata": {},
   "outputs": [
    {
     "name": "stdout",
     "output_type": "stream",
     "text": [
      "CPU times: user 78.8 ms, sys: 1.21 ms, total: 80 ms\n",
      "Wall time: 90.6 ms\n"
     ]
    }
   ],
   "source": [
    "%%time\n",
    "\n",
    "results = analyzer.lemmatise_multiple(text_string)"
   ]
  },
  {
   "cell_type": "code",
   "execution_count": 7,
   "metadata": {},
   "outputs": [
    {
     "data": {
      "text/plain": [
       "[{'form': 'homines',\n",
       "  'lemma': 'homo',\n",
       "  'morph': 'nominatif pluriel',\n",
       "  'radical': 'homin',\n",
       "  'desinence': 'es'},\n",
       " {'form': 'homines',\n",
       "  'lemma': 'homo',\n",
       "  'morph': 'vocatif pluriel',\n",
       "  'radical': 'homin',\n",
       "  'desinence': 'es'},\n",
       " {'form': 'homines',\n",
       "  'lemma': 'homo',\n",
       "  'morph': 'accusatif pluriel',\n",
       "  'radical': 'homin',\n",
       "  'desinence': 'es'}]"
      ]
     },
     "execution_count": 7,
     "metadata": {},
     "output_type": "execute_result"
    }
   ],
   "source": [
    "results[1]"
   ]
  },
  {
   "cell_type": "code",
   "execution_count": 8,
   "metadata": {},
   "outputs": [],
   "source": [
    "lemmas = []\n",
    "\n",
    "for result in results:\n",
    "    _lemmas = []\n",
    "    for _result in result:\n",
    "        _lemmas.append(_result['lemma'])\n",
    "    lemmas.append(_lemmas)"
   ]
  },
  {
   "cell_type": "code",
   "execution_count": 9,
   "metadata": {},
   "outputs": [
    {
     "name": "stdout",
     "output_type": "stream",
     "text": [
      "[['omne',\n",
      "  'omnis',\n",
      "  'omnis',\n",
      "  'omnis',\n",
      "  'omnis',\n",
      "  'omnis',\n",
      "  'omnis',\n",
      "  'omnis',\n",
      "  'omnis',\n",
      "  'omnis'],\n",
      " ['homo', 'homo', 'homo'],\n",
      " ['qui', 'qui', 'quis', 'queo', 'queo', 'qui']]\n"
     ]
    }
   ],
   "source": [
    "pprint(lemmas[:3])"
   ]
  },
  {
   "cell_type": "code",
   "execution_count": 10,
   "metadata": {},
   "outputs": [
    {
     "name": "stdout",
     "output_type": "stream",
     "text": [
      "[('omne', 10.0), ('omnis', 90.0)]\n"
     ]
    }
   ],
   "source": [
    "from collections import Counter\n",
    "\n",
    "c = Counter(lemmas[0])\n",
    "print([(i, c[i] / len(lemmas[0]) * 100.0) for i in c])"
   ]
  },
  {
   "cell_type": "code",
   "execution_count": 11,
   "metadata": {},
   "outputs": [],
   "source": [
    "weighted_lemmas = []\n",
    "\n",
    "for lemma in lemmas:\n",
    "    c = Counter(lemma)\n",
    "    weights = [(i, c[i] / len(lemma) * 100.0) for i in c]\n",
    "    weighted_lemmas.append(weights)"
   ]
  },
  {
   "cell_type": "code",
   "execution_count": 12,
   "metadata": {},
   "outputs": [
    {
     "name": "stdout",
     "output_type": "stream",
     "text": [
      "[[('omne', 10.0), ('omnis', 90.0)],\n",
      " [('homo', 100.0)],\n",
      " [('qui', 50.0), ('quis', 16.666666666666664), ('queo', 33.33333333333333)],\n",
      " [('se', 100.0)],\n",
      " [('studeo', 100.0)],\n",
      " [('praesto', 100.0)],\n",
      " [('ceteri', 42.857142857142854),\n",
      "  ('ceterum', 14.285714285714285),\n",
      "  ('ceterus', 42.857142857142854)],\n",
      " [('animal', 25.0), ('animalis', 75.0)],\n",
      " [('summa', 23.076923076923077),\n",
      "  ('summum', 23.076923076923077),\n",
      "  ('summus', 46.15384615384615),\n",
      "  ('summo', 7.6923076923076925)],\n",
      " [('Opis', 25.0), ('Ops', 25.0), ('ops', 25.0), ('opos', 25.0)]]\n"
     ]
    }
   ],
   "source": [
    "pprint(weighted_lemmas[:10])"
   ]
  },
  {
   "cell_type": "code",
   "execution_count": 13,
   "metadata": {},
   "outputs": [],
   "source": [
    "lemma_max = []\n",
    "\n",
    "for weighted_lemma in weighted_lemmas:\n",
    "    weight_max = max(weighted_lemma,key=lambda item:item[1])[0]\n",
    "    lemma_max.append(weight_max)"
   ]
  },
  {
   "cell_type": "code",
   "execution_count": 14,
   "metadata": {},
   "outputs": [
    {
     "name": "stdout",
     "output_type": "stream",
     "text": [
      "['omnis',\n",
      " 'homo',\n",
      " 'qui',\n",
      " 'se',\n",
      " 'studeo',\n",
      " 'praesto',\n",
      " 'ceteri',\n",
      " 'animalis',\n",
      " 'summus',\n",
      " 'Opis']\n"
     ]
    }
   ],
   "source": [
    "pprint(lemma_max[:10])"
   ]
  },
  {
   "cell_type": "code",
   "execution_count": 15,
   "metadata": {},
   "outputs": [
    {
     "data": {
      "text/plain": [
       "126"
      ]
     },
     "execution_count": 15,
     "metadata": {},
     "output_type": "execute_result"
    }
   ],
   "source": [
    "len(tokens)\n",
    "len(lemma_max)"
   ]
  },
  {
   "cell_type": "code",
   "execution_count": 16,
   "metadata": {},
   "outputs": [
    {
     "name": "stdout",
     "output_type": "stream",
     "text": [
      "('Omnis', 'omnis')\n",
      "('homines', 'homo')\n",
      "(',', ',')\n",
      "('qui', 'qui')\n",
      "('sese', 'se')\n",
      "('student', 'studeo')\n",
      "('praestare', 'praesto')\n",
      "('ceteris', 'ceteri')\n",
      "('animalibus', 'animalis')\n",
      "(',', ',')\n",
      "('summa', 'summus')\n",
      "('ope', 'Opis')\n",
      "('niti', 'nitor')\n",
      "('decet', 'decet')\n",
      "(',', ',')\n",
      "('ne', 'ne')\n",
      "('vitam', 'uita')\n",
      "('silentio', 'silentium')\n",
      "('transeant', 'transeo')\n",
      "('veluti', 'ueluti')\n",
      "('pecora', 'pecus')\n",
      "(',', ',')\n",
      "('quae', 'qui')\n",
      "('natura', 'nascor')\n",
      "('prona', 'pronus')\n",
      "('atque', 'atque')\n",
      "('ventri', 'venter')\n",
      "('oboedientia', 'oboedio')\n",
      "('finxit', 'fingo')\n",
      "('.', '.')\n",
      "('Sed', 'sed')\n",
      "('nostra', 'noster')\n",
      "('omnis', 'omnis')\n",
      "('vis', 'uia')\n",
      "('in', 'in')\n",
      "('animo', 'animus')\n",
      "('et', 'et')\n",
      "('corpore', 'corpus')\n",
      "('sita', 'sino')\n",
      "('est', 'edo')\n",
      "(':', ':')\n",
      "('animi', 'animus')\n",
      "('imperio', 'imperium')\n",
      "(',', ',')\n",
      "('corporis', 'corpus')\n",
      "('servitio', 'servitium')\n",
      "('magis', 'magus')\n",
      "('utimur', 'utor')\n",
      "(';', ';')\n",
      "('alterum', 'alter')\n",
      "('nobis', 'nos')\n",
      "('cum', 'cum')\n",
      "('dis', 'dis')\n",
      "(',', ',')\n",
      "('alterum', 'alter')\n",
      "('cum', 'cum')\n",
      "('beluis', 'beluus')\n",
      "('commune', 'commune')\n",
      "('est', 'edo')\n",
      "('.', '.')\n",
      "('Quo', 'qui')\n",
      "('mihi', 'ego')\n",
      "('rectius', 'rectus')\n",
      "('videtur', 'uideo')\n",
      "('ingeni', 'ingenium')\n",
      "('quam', 'quam')\n",
      "('virium', 'uis')\n",
      "('opibus', 'Opis')\n",
      "('gloriam', 'gloria')\n",
      "('quaerere', 'quaero')\n",
      "('et', 'et')\n",
      "(',', ',')\n",
      "('quoniam', 'quoniam')\n",
      "('vita', 'uita')\n",
      "('ipsa', 'ipse')\n",
      "(',', ',')\n",
      "('qua', 'qui')\n",
      "('fruimur', 'fruor')\n",
      "(',', ',')\n",
      "('brevis', 'brevis')\n",
      "('est', 'edo')\n",
      "(',', ',')\n",
      "('memoriam', 'memoria')\n",
      "('nostri', 'noster')\n",
      "('quam', 'quam')\n",
      "('maxume', 'magnus')\n",
      "('longam', 'longus')\n",
      "('efficere', 'efficio')\n",
      "('.', '.')\n",
      "('Nam', 'nes')\n",
      "('divitiarum', 'divitiae')\n",
      "('et', 'et')\n",
      "('formae', 'forma')\n",
      "('gloria', 'gloria')\n",
      "('fluxa', 'fluo')\n",
      "('atque', 'atque')\n",
      "('fragilis', 'fragilis')\n",
      "('est', 'edo')\n",
      "(',', ',')\n",
      "('virtus', 'virtus')\n",
      "('clara', 'clarus')\n",
      "('aeterna', 'aeternus')\n",
      "('-que', 'Q')\n",
      "('habetur', 'habeo')\n",
      "('.', '.')\n",
      "('Sed', 'sed')\n",
      "('diu', 'diu')\n",
      "('magnum', 'magnus')\n",
      "('inter', 'inter')\n",
      "('mortalis', 'mortalis')\n",
      "('certamen', 'certamen')\n",
      "('fuit', 'sum')\n",
      "(',', ',')\n",
      "('vine', 'uis')\n",
      "('corporis', 'corpus')\n",
      "('an', 'an')\n",
      "('virtute', 'virtus')\n",
      "('animi', 'animus')\n",
      "('res', 'res')\n",
      "('militaris', 'militaris')\n",
      "('magis', 'magus')\n",
      "('procederet', 'procedo')\n",
      "('.', '.')\n",
      "('Nam', 'nes')\n",
      "('et', 'et')\n",
      "(',', ',')\n",
      "('prius', 'prius')\n",
      "('quam', 'quam')\n",
      "('incipias', 'incipio')\n",
      "(',', ',')\n",
      "('consulto', 'consultus')\n",
      "('et', 'et')\n",
      "(',', ',')\n",
      "('ubi', 'Ubius')\n",
      "('consulueris', 'consulo')\n",
      "(',', ',')\n",
      "('mature', 'mature')\n",
      "('facto', 'fio')\n",
      "('opus', 'opus')\n",
      "('est', 'edo')\n",
      "('.', '.')\n",
      "('Ita', 'ito')\n",
      "('utrumque', 'uter')\n",
      "('per', 'per')\n",
      "('se', 'se')\n",
      "('indigens', 'indigeo')\n",
      "('alterum', 'alter')\n",
      "('alterius', 'alter')\n",
      "('auxilio', 'auxilium')\n",
      "('eget', 'egeo')\n",
      "('.', '.')\n"
     ]
    }
   ],
   "source": [
    "# Align tokens & lemmas due to missing punctuation\n",
    "\n",
    "from string import punctuation\n",
    "\n",
    "pos = 0\n",
    "for token in tokens:\n",
    "    if token in punctuation:\n",
    "        print((token, token))\n",
    "    else:\n",
    "        print((token, lemma_max[pos]))\n",
    "        pos += 1"
   ]
  }
 ],
 "metadata": {
  "kernelspec": {
   "display_name": "Python 3",
   "language": "python",
   "name": "python3"
  },
  "language_info": {
   "codemirror_mode": {
    "name": "ipython",
    "version": 3
   },
   "file_extension": ".py",
   "mimetype": "text/x-python",
   "name": "python",
   "nbconvert_exporter": "python",
   "pygments_lexer": "ipython3",
   "version": "3.6.5"
  }
 },
 "nbformat": 4,
 "nbformat_minor": 2
}
